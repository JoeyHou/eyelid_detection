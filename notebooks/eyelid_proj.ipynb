{
 "cells": [
  {
   "cell_type": "code",
   "execution_count": 1,
   "metadata": {},
   "outputs": [],
   "source": [
    "import cv2 as cv\n",
    "import cv2\n",
    "from os import listdir\n",
    "import math\n",
    "import numpy as np\n",
    "from matplotlib.pyplot import imshow\n",
    "from matplotlib import pyplot as plt\n",
    "import pandas as pd\n",
    "from scipy import optimize\n",
    "from tqdm import tqdm"
   ]
  },
  {
   "cell_type": "code",
   "execution_count": 2,
   "metadata": {
    "scrolled": true
   },
   "outputs": [
    {
     "data": {
      "text/plain": [
       "'3.4.2'"
      ]
     },
     "execution_count": 2,
     "metadata": {},
     "output_type": "execute_result"
    }
   ],
   "source": [
    "cv2.__version__"
   ]
  },
  {
   "cell_type": "code",
   "execution_count": 3,
   "metadata": {},
   "outputs": [
    {
     "data": {
      "text/plain": [
       "'1.18.1'"
      ]
     },
     "execution_count": 3,
     "metadata": {},
     "output_type": "execute_result"
    }
   ],
   "source": [
    "np.__version__"
   ]
  },
  {
   "cell_type": "code",
   "execution_count": 4,
   "metadata": {},
   "outputs": [],
   "source": [
    "# def show_two_eyes(eye1, eye2):\n",
    "#     max_shape_0 = max([eye1.shape[0], eye2.shape[0]])\n",
    "#     max_shape_1 = max([eye1.shape[1], eye2.shape[1]])\n",
    "#     eye1_reshaped = np.pad(eye1, ((0, max_shape_0 - eye1.shape[0]), (0, max_shape_1 - eye1.shape[1])), \\\n",
    "#        'constant', constant_values=(255))\n",
    "#     eye2_reshaped = np.pad(eye2, ((0, max_shape_0 - eye2.shape[0]), (0, max_shape_1 - eye2.shape[1])), \\\n",
    "#        'constant', constant_values=(255))\n",
    "#     plt.imshow(np.hstack((eye1_reshaped, eye2_reshaped)), cmap='gray')\n",
    "#     plt.show()"
   ]
  },
  {
   "cell_type": "code",
   "execution_count": 5,
   "metadata": {},
   "outputs": [],
   "source": [
    "# def show_single_eye(eye):\n",
    "#     plt.imshow(eye)\n",
    "#     plt.show()"
   ]
  },
  {
   "cell_type": "markdown",
   "metadata": {},
   "source": [
    "# Setup\n",
    "## Define the paths"
   ]
  },
  {
   "cell_type": "code",
   "execution_count": 4,
   "metadata": {},
   "outputs": [],
   "source": [
    "haarcascade_path = '../outside_sources/haarcascade/'\n",
    "sripts_path = '../sripts/facial_landmark/'\n",
    "raw_data_path = '../data/raw/full/'\n",
    "original_raw_data_path = '../data/raw/full_orig/'\n",
    "labels_path = '../data/labels/'\n",
    "output_img_path = '../data/final_outcome/'\n",
    "model_path = '../models/'"
   ]
  },
  {
   "cell_type": "markdown",
   "metadata": {},
   "source": [
    "## Parse the labeled data from Dr. Liu and prepare testing & validation set"
   ]
  },
  {
   "cell_type": "code",
   "execution_count": 15,
   "metadata": {},
   "outputs": [
    {
     "data": {
      "text/html": [
       "<div>\n",
       "<style scoped>\n",
       "    .dataframe tbody tr th:only-of-type {\n",
       "        vertical-align: middle;\n",
       "    }\n",
       "\n",
       "    .dataframe tbody tr th {\n",
       "        vertical-align: top;\n",
       "    }\n",
       "\n",
       "    .dataframe thead th {\n",
       "        text-align: right;\n",
       "    }\n",
       "</style>\n",
       "<table border=\"1\" class=\"dataframe\">\n",
       "  <thead>\n",
       "    <tr style=\"text-align: right;\">\n",
       "      <th></th>\n",
       "      <th>original_name</th>\n",
       "      <th>orderred_name</th>\n",
       "      <th>left_found</th>\n",
       "      <th>right_found</th>\n",
       "      <th>both_found</th>\n",
       "      <th>left_hard</th>\n",
       "      <th>right_hard</th>\n",
       "      <th>left_failed</th>\n",
       "      <th>right_failed</th>\n",
       "    </tr>\n",
       "  </thead>\n",
       "  <tbody>\n",
       "    <tr>\n",
       "      <th>0</th>\n",
       "      <td>2MM23355506081418-375.22.JPG</td>\n",
       "      <td>1.jpg</td>\n",
       "      <td>1</td>\n",
       "      <td>1</td>\n",
       "      <td>1</td>\n",
       "      <td>0</td>\n",
       "      <td>0</td>\n",
       "      <td>0</td>\n",
       "      <td>0</td>\n",
       "    </tr>\n",
       "    <tr>\n",
       "      <th>1</th>\n",
       "      <td>2ES30404089011618-374.87.JPG</td>\n",
       "      <td>2.jpg</td>\n",
       "      <td>1</td>\n",
       "      <td>1</td>\n",
       "      <td>1</td>\n",
       "      <td>0</td>\n",
       "      <td>0</td>\n",
       "      <td>0</td>\n",
       "      <td>0</td>\n",
       "    </tr>\n",
       "    <tr>\n",
       "      <th>2</th>\n",
       "      <td>2MR10489169120318-374.87.JPG</td>\n",
       "      <td>3.jpg</td>\n",
       "      <td>1</td>\n",
       "      <td>1</td>\n",
       "      <td>1</td>\n",
       "      <td>0</td>\n",
       "      <td>0</td>\n",
       "      <td>0</td>\n",
       "      <td>0</td>\n",
       "    </tr>\n",
       "    <tr>\n",
       "      <th>3</th>\n",
       "      <td>2DM15140817020618-374.33.JPG</td>\n",
       "      <td>4.jpg</td>\n",
       "      <td>1</td>\n",
       "      <td>0</td>\n",
       "      <td>0</td>\n",
       "      <td>0</td>\n",
       "      <td>0</td>\n",
       "      <td>0</td>\n",
       "      <td>1</td>\n",
       "    </tr>\n",
       "    <tr>\n",
       "      <th>4</th>\n",
       "      <td>2FM16841546011618-374.33.JPG</td>\n",
       "      <td>5.jpg</td>\n",
       "      <td>0</td>\n",
       "      <td>0</td>\n",
       "      <td>0</td>\n",
       "      <td>0</td>\n",
       "      <td>0</td>\n",
       "      <td>1</td>\n",
       "      <td>1</td>\n",
       "    </tr>\n",
       "  </tbody>\n",
       "</table>\n",
       "</div>"
      ],
      "text/plain": [
       "                  original_name orderred_name  left_found  right_found  \\\n",
       "0  2MM23355506081418-375.22.JPG         1.jpg           1            1   \n",
       "1  2ES30404089011618-374.87.JPG         2.jpg           1            1   \n",
       "2  2MR10489169120318-374.87.JPG         3.jpg           1            1   \n",
       "3  2DM15140817020618-374.33.JPG         4.jpg           1            0   \n",
       "4  2FM16841546011618-374.33.JPG         5.jpg           0            0   \n",
       "\n",
       "   both_found  left_hard  right_hard  left_failed  right_failed  \n",
       "0           1          0           0            0             0  \n",
       "1           1          0           0            0             0  \n",
       "2           1          0           0            0             0  \n",
       "3           0          0           0            0             1  \n",
       "4           0          0           0            1             1  "
      ]
     },
     "execution_count": 15,
     "metadata": {},
     "output_type": "execute_result"
    }
   ],
   "source": [
    "df_img_info = pd.read_csv('../data/processed/df_img_info.csv')\n",
    "df_img_info.head()"
   ]
  },
  {
   "cell_type": "code",
   "execution_count": 17,
   "metadata": {},
   "outputs": [
    {
     "name": "stdout",
     "output_type": "stream",
     "text": [
      "100\n"
     ]
    }
   ],
   "source": [
    "df_img_info = pd.read_csv('../data/processed/df_img_info.csv')\n",
    "\n",
    "labeled_data_dir = '../data/processed/left_akg_all/'\n",
    "lebel_file_dir = '../data/labels/cl/'\n",
    "all_testing_img = []\n",
    "for label in listdir(lebel_file_dir):\n",
    "    tmp_name = label.replace('_left.txt', '.JPG')\n",
    "    tmp_df = df_img_info.query('original_name == \"' + tmp_name + '\"')\n",
    "    if tmp_df.shape[0] == 0:\n",
    "        print('Something wrong with:', label)\n",
    "        continue\n",
    "    orderred_img_idx = int(tmp_df.orderred_name.iloc[0].replace('.jpg', ''))\n",
    "    all_testing_img.append(orderred_img_idx)\n",
    "print(len(all_testing_img))"
   ]
  },
  {
   "cell_type": "markdown",
   "metadata": {},
   "source": [
    "## Preprocessing the images"
   ]
  },
  {
   "cell_type": "markdown",
   "metadata": {},
   "source": [
    "### Convert the file names, uncommon if files are not numberred"
   ]
  },
  {
   "cell_type": "code",
   "execution_count": 5,
   "metadata": {},
   "outputs": [],
   "source": [
    "# curr_file_count = 0\n",
    "# for filename in listdir(raw_data_path):\n",
    "#     try:\n",
    "#         cv2.imread(original_raw_data_path + filename)\n",
    "#         curr_file_count += 1\n",
    "#     except:\n",
    "#         continue\n",
    "# print('Currently have:', curr_file_count, 'file(s) as raw data.')\n",
    "# # count = curr_file_count + 1\n",
    "# count = 1\n",
    "\n",
    "# mapping_from_old = []\n",
    "# for filename in listdir(original_raw_data_path):\n",
    "#     try:\n",
    "#         img = cv2.imread(original_raw_data_path + filename)\n",
    "#     except:\n",
    "#         print('[ERROR] Cannot read file:', filename)\n",
    "#         continue\n",
    "#     cv2.imwrite(raw_data_path + str(count) + '.jpg', img) \n",
    "#     mapping_from_old.append({\n",
    "#         'original_name': filename,\n",
    "#         'orderred_name': str(count) + '.jpg'\n",
    "#     })\n",
    "#     count += 1"
   ]
  },
  {
   "cell_type": "code",
   "execution_count": 5,
   "metadata": {},
   "outputs": [
    {
     "name": "stdout",
     "output_type": "stream",
     "text": [
      "Count of images: 269\n"
     ]
    }
   ],
   "source": [
    "list_of_files = listdir(raw_data_path)\n",
    "print('Count of images:', len(list_of_files))"
   ]
  },
  {
   "cell_type": "code",
   "execution_count": 6,
   "metadata": {},
   "outputs": [
    {
     "data": {
      "text/html": [
       "<div>\n",
       "<style scoped>\n",
       "    .dataframe tbody tr th:only-of-type {\n",
       "        vertical-align: middle;\n",
       "    }\n",
       "\n",
       "    .dataframe tbody tr th {\n",
       "        vertical-align: top;\n",
       "    }\n",
       "\n",
       "    .dataframe thead th {\n",
       "        text-align: right;\n",
       "    }\n",
       "</style>\n",
       "<table border=\"1\" class=\"dataframe\">\n",
       "  <thead>\n",
       "    <tr style=\"text-align: right;\">\n",
       "      <th></th>\n",
       "      <th>original_name</th>\n",
       "      <th>orderred_name</th>\n",
       "      <th>left_found</th>\n",
       "      <th>right_found</th>\n",
       "      <th>both_found</th>\n",
       "      <th>left_hard</th>\n",
       "      <th>right_hard</th>\n",
       "      <th>left_failed</th>\n",
       "      <th>right_failed</th>\n",
       "    </tr>\n",
       "  </thead>\n",
       "  <tbody>\n",
       "    <tr>\n",
       "      <th>0</th>\n",
       "      <td>2MM23355506081418-375.22.JPG</td>\n",
       "      <td>1.jpg</td>\n",
       "      <td>1</td>\n",
       "      <td>1</td>\n",
       "      <td>1</td>\n",
       "      <td>0</td>\n",
       "      <td>0</td>\n",
       "      <td>0</td>\n",
       "      <td>0</td>\n",
       "    </tr>\n",
       "    <tr>\n",
       "      <th>1</th>\n",
       "      <td>2ES30404089011618-374.87.JPG</td>\n",
       "      <td>2.jpg</td>\n",
       "      <td>1</td>\n",
       "      <td>1</td>\n",
       "      <td>1</td>\n",
       "      <td>0</td>\n",
       "      <td>0</td>\n",
       "      <td>0</td>\n",
       "      <td>0</td>\n",
       "    </tr>\n",
       "    <tr>\n",
       "      <th>2</th>\n",
       "      <td>2MR10489169120318-374.87.JPG</td>\n",
       "      <td>3.jpg</td>\n",
       "      <td>1</td>\n",
       "      <td>1</td>\n",
       "      <td>1</td>\n",
       "      <td>0</td>\n",
       "      <td>0</td>\n",
       "      <td>0</td>\n",
       "      <td>0</td>\n",
       "    </tr>\n",
       "    <tr>\n",
       "      <th>3</th>\n",
       "      <td>2DM15140817020618-374.33.JPG</td>\n",
       "      <td>4.jpg</td>\n",
       "      <td>1</td>\n",
       "      <td>0</td>\n",
       "      <td>0</td>\n",
       "      <td>0</td>\n",
       "      <td>0</td>\n",
       "      <td>0</td>\n",
       "      <td>1</td>\n",
       "    </tr>\n",
       "    <tr>\n",
       "      <th>4</th>\n",
       "      <td>2FM16841546011618-374.33.JPG</td>\n",
       "      <td>5.jpg</td>\n",
       "      <td>0</td>\n",
       "      <td>0</td>\n",
       "      <td>0</td>\n",
       "      <td>0</td>\n",
       "      <td>0</td>\n",
       "      <td>1</td>\n",
       "      <td>1</td>\n",
       "    </tr>\n",
       "  </tbody>\n",
       "</table>\n",
       "</div>"
      ],
      "text/plain": [
       "                  original_name orderred_name  left_found  right_found  \\\n",
       "0  2MM23355506081418-375.22.JPG         1.jpg           1            1   \n",
       "1  2ES30404089011618-374.87.JPG         2.jpg           1            1   \n",
       "2  2MR10489169120318-374.87.JPG         3.jpg           1            1   \n",
       "3  2DM15140817020618-374.33.JPG         4.jpg           1            0   \n",
       "4  2FM16841546011618-374.33.JPG         5.jpg           0            0   \n",
       "\n",
       "   both_found  left_hard  right_hard  left_failed  right_failed  \n",
       "0           1          0           0            0             0  \n",
       "1           1          0           0            0             0  \n",
       "2           1          0           0            0             0  \n",
       "3           0          0           0            0             1  \n",
       "4           0          0           0            1             1  "
      ]
     },
     "execution_count": 6,
     "metadata": {},
     "output_type": "execute_result"
    }
   ],
   "source": [
    "# df_img_info = pd.DataFrame(mapping_from_old)\n",
    "# df_img_info.to_csv('../data/labels/df_img_info.csv', index = False)\n",
    "df_img_info = pd.read_csv('../data/processed/df_img_info.csv')\n",
    "df_img_info.head()"
   ]
  },
  {
   "cell_type": "code",
   "execution_count": 7,
   "metadata": {},
   "outputs": [
    {
     "data": {
      "text/plain": [
       "(269, 9)"
      ]
     },
     "execution_count": 7,
     "metadata": {},
     "output_type": "execute_result"
    }
   ],
   "source": [
    "df_img_info.shape"
   ]
  },
  {
   "cell_type": "code",
   "execution_count": null,
   "metadata": {},
   "outputs": [],
   "source": []
  },
  {
   "cell_type": "markdown",
   "metadata": {},
   "source": [
    "## Check if the raw data is ready"
   ]
  },
  {
   "cell_type": "code",
   "execution_count": 8,
   "metadata": {},
   "outputs": [
    {
     "name": "stdout",
     "output_type": "stream",
     "text": [
      "[SETUP] Data is ready!\n"
     ]
    }
   ],
   "source": [
    "ready = False\n",
    "for file in listdir(raw_data_path):\n",
    "    if 'png' in file or 'jpg' in file or 'JPG' in file:\n",
    "        ready = True\n",
    "        break\n",
    "if ready:\n",
    "    print('[SETUP] Data is ready!')\n",
    "else:\n",
    "    print('[SETUP] Data is NOT ready!')"
   ]
  },
  {
   "cell_type": "markdown",
   "metadata": {},
   "source": [
    "# Detect Eyes\n",
    "## Step1: Use OpenCV CascadeClassifier"
   ]
  },
  {
   "cell_type": "code",
   "execution_count": 12,
   "metadata": {},
   "outputs": [],
   "source": [
    "import copy"
   ]
  },
  {
   "cell_type": "code",
   "execution_count": 13,
   "metadata": {},
   "outputs": [],
   "source": [
    "def detect_eye(directory, filename):\n",
    "    '''\n",
    "    input:\n",
    "        directory: directory to the input image (in RGB)\n",
    "        filename: name of the file\n",
    "    output:\n",
    "        img1: image segmentation of one of an eye (type: np.ndarray)\n",
    "        img2: image segmentation of another eye (type: np.ndarray)\n",
    "        outpue: original image with the rectangle plotted on the segmented areas\n",
    "    '''\n",
    "    # 1. Readin the image and return if there is an error\n",
    "    print('=================================')\n",
    "    print('Now Processing:', filename + '...')\n",
    "    try:\n",
    "        gray = cv2.imread(directory + filename, 0)\n",
    "        output = cv2.imread(directory + filename, 0)\n",
    "    except:\n",
    "        print(filename, 'is not an image!')\n",
    "        return -1, -1, -1\n",
    "    \n",
    "    # 2. Processing image - detect eyes using CascadeClassifier\n",
    "    gray = cv2.medianBlur(gray, 7)\n",
    "#     gray = cv2.GaussianBlur(gray, (5,5), 0)\n",
    "    \n",
    "    # [OLD WAY]\n",
    "    eye_cascade = cv2.CascadeClassifier(haarcascade_path + 'haarcascade_eye.xml')\n",
    "    eyes = eye_cascade.detectMultiScale(gray)\n",
    "    if len(eyes) < 2:\n",
    "        print('[Error!] Stupit classifier!!!')\n",
    "        return -1, -1, -1\n",
    "    # Pick the two \"eyes\" with largest sizes\n",
    "    eyes = sorted(eyes, key = lambda x: x[2] + x[3], reverse = True)[:2]\n",
    "    # Sort the \"eyes\" by their x position\n",
    "    eyes = sorted(eyes, key = lambda x: x[0], reverse = False)  \n",
    "    # 3. Crop the original image and return the two eye segments\n",
    "    result = []\n",
    "    for (ex,ey,ew,eh) in eyes:\n",
    "        eye = output[ey-25:ey + eh + 25, ex - 25:ex + ew + 25]\n",
    "        result.append(eye)\n",
    "    \n",
    "    print('Done processing:', filename + '!')\n",
    "    return result[0], result[1], output"
   ]
  },
  {
   "cell_type": "code",
   "execution_count": 14,
   "metadata": {},
   "outputs": [],
   "source": [
    "# def detect_eye(directory, filename):\n",
    "#     '''\n",
    "#     input:\n",
    "#         directory: directory to the input image (in RGB)\n",
    "#         filename: name of the file\n",
    "#     output:\n",
    "#         img1: image segmentation of one of an eye (type: np.ndarray)\n",
    "#         img2: image segmentation of another eye (type: np.ndarray)\n",
    "#         outpue: original image with the rectangle plotted on the segmented areas\n",
    "#     '''\n",
    "#     # 1. Readin the image and return if there is an error\n",
    "#     print('=================================')\n",
    "#     print('Now Processing:', filename + '...')\n",
    "#     try:\n",
    "#         gray = cv2.imread(directory + filename, 0)\n",
    "#         output = cv2.imread(directory + filename)\n",
    "#     except:\n",
    "#         print(filename, 'is not an image!')\n",
    "#         return -1, -1, -1\n",
    "    \n",
    "#     # 2. Processing image - detect eyes using CascadeClassifier\n",
    "#     gray = cv2.medianBlur(gray, 5)\n",
    "# #     gray = cv2.GaussianBlur(gray, (5,5), 0)\n",
    "    \n",
    "#     # [NEW WAY]    \n",
    "#     left_eye_cascade = cv2.CascadeClassifier(haarcascade_path + 'haarcascade_lefteye_2splits.xml')\n",
    "#     left_eyes = left_eye_cascade.detectMultiScale(gray)\n",
    "#     right_eye_cascade = cv2.CascadeClassifier(haarcascade_path + 'haarcascade_righteye_2splits.xml')\n",
    "#     right_eyes = right_eye_cascade.detectMultiScale(gray)\n",
    "    \n",
    "    \n",
    "#     if len(left_eyes) < 1 or len(right_eyes) < 1:\n",
    "#         eye_cascade = cv2.CascadeClassifier(haarcascade_path + 'haarcascade_eye.xml')\n",
    "#         eyes = eye_cascade.detectMultiScale(gray)\n",
    "#         if len(eyes) < 2:\n",
    "#             print('[Error!] Stupit classifier!!!')\n",
    "#             return -1, -1, -1\n",
    "#         if len(left_eyes) < 1:\n",
    "#             print('[DEBUG] Left splider failed')\n",
    "#             left_eyes = copy.deepcopy(eyes)\n",
    "#         if len(right_eyes) < 1:\n",
    "#             print('[DEBUG] Right splider failed')\n",
    "#             right_eyes = copy.deepcopy(eyes)\n",
    "    \n",
    "#     def compare_eyes(e1, e2):\n",
    "#         return (sum(np.square(e1 - e2))) ** (1/2)\n",
    "#     all_result = []\n",
    "#     for (lex,ley,lew,leh) in left_eyes:\n",
    "#         for (rex,rey,rew,reh) in right_eyes:\n",
    "#             if lex <= rex:\n",
    "#                 continue\n",
    "#             e1 = np.array([ley,lew,leh])\n",
    "#             e2 = np.array([rey,rew,reh])\n",
    "#             score = (-1) * (compare_eyes(e1, e2) - lew - rew - abs(lex - rex))\n",
    "#             if abs(rex - lex) < min([lew, rew]):\n",
    "#                 continue\n",
    "#             all_result.append( (score, (rex,rey,rew,reh), (lex,ley,lew,leh)) )\n",
    "#     result = []\n",
    "    \n",
    "#     if len(all_result) > 0:\n",
    "#         all_result = sorted(all_result, key = lambda x: x[0], reverse = True)  \n",
    "#         rex,rey,rew,reh = all_result[0][1]\n",
    "#         lex,ley,lew,leh = all_result[0][2]\n",
    "#         result.append(output[rey-25:rey + reh + 25, rex - 25:rex + rew + 25])\n",
    "#         result.append(output[ley-25:ley + leh + 25, lex - 25:lex + lew + 25])\n",
    "#     else:\n",
    "#         print('[Error!] Stupit classifier!!!')\n",
    "#         return -1, -1, -1\n",
    "    \n",
    "#     print('Done processing:', filename + '!')\n",
    "#     return result[0], result[1], output"
   ]
  },
  {
   "cell_type": "code",
   "execution_count": null,
   "metadata": {},
   "outputs": [],
   "source": []
  },
  {
   "cell_type": "code",
   "execution_count": 15,
   "metadata": {},
   "outputs": [],
   "source": [
    "# eye1, eye2, out = detect_eye(raw_data_path, '8.jpg')\n",
    "# face_cascade = cv2.CascadeClassifier(haarcascade_path + 'haarcascade_frontalface_default.xml') \n",
    "# eye_cascade = cv2.CascadeClassifier(haarcascade_path + 'haarcascade_lefteye_2splits.xml')\n",
    "# img = cv2.imread(raw_data_path + '54.jpg')\n",
    "# gray = cv2.cvtColor(img, cv2.COLOR_BGR2GRAY) \n",
    "# faces = face_cascade.detectMultiScale(gray, 1.3, 5) \n",
    "# count = 0\n",
    "# for (x,y,w,h) in faces: \n",
    "#     cv2.rectangle(img,(x,y),(x+w,y+h),(255,255,0),2) \n",
    "#     roi_gray = gray[y:y+h, x:x+w] \n",
    "#     roi_color = img[y:y+h, x:x+w] \n",
    "#     eyes = eye_cascade.detectMultiScale(roi_gray) \n",
    "#     print(eyes)\n",
    "#     for (ex,ey,ew,eh) in eyes: \n",
    "#         cv2.rectangle(roi_color,(ex,ey),(ex+ew,ey+eh),(0,127,255),2) \n",
    "#     count +=1 \n",
    "# plt.imshow(img)"
   ]
  },
  {
   "cell_type": "code",
   "execution_count": 16,
   "metadata": {},
   "outputs": [
    {
     "data": {
      "text/plain": [
       "269"
      ]
     },
     "execution_count": 16,
     "metadata": {},
     "output_type": "execute_result"
    }
   ],
   "source": [
    "len(list_of_files)"
   ]
  },
  {
   "cell_type": "code",
   "execution_count": 17,
   "metadata": {
    "scrolled": true
   },
   "outputs": [
    {
     "name": "stdout",
     "output_type": "stream",
     "text": [
      "=================================\n",
      "Now Processing: 189.jpg...\n",
      "Done processing: 189.jpg!\n",
      "=================================\n",
      "Now Processing: 190.jpg...\n",
      "Done processing: 190.jpg!\n",
      "=================================\n",
      "Now Processing: 191.jpg...\n",
      "Done processing: 191.jpg!\n",
      "=================================\n",
      "Now Processing: 192.jpg...\n",
      "Done processing: 192.jpg!\n",
      "=================================\n",
      "Now Processing: 193.jpg...\n",
      "Done processing: 193.jpg!\n",
      "=================================\n",
      "Now Processing: 194.jpg...\n",
      "Done processing: 194.jpg!\n",
      "=================================\n",
      "Now Processing: 195.jpg...\n",
      "Done processing: 195.jpg!\n",
      "=================================\n",
      "Now Processing: 196.jpg...\n",
      "Done processing: 196.jpg!\n",
      "=================================\n",
      "Now Processing: 197.jpg...\n",
      "Done processing: 197.jpg!\n",
      "=================================\n",
      "Now Processing: 198.jpg...\n",
      "Done processing: 198.jpg!\n",
      "=================================\n",
      "Now Processing: 199.jpg...\n",
      "Done processing: 199.jpg!\n",
      "=================================\n",
      "Now Processing: 200.jpg...\n",
      "Done processing: 200.jpg!\n",
      "=================================\n",
      "Now Processing: 201.jpg...\n",
      "Done processing: 201.jpg!\n",
      "=================================\n",
      "Now Processing: 202.jpg...\n",
      "Done processing: 202.jpg!\n",
      "=================================\n",
      "Now Processing: 203.jpg...\n",
      "Done processing: 203.jpg!\n",
      "=================================\n",
      "Now Processing: 204.jpg...\n",
      "Done processing: 204.jpg!\n",
      "=================================\n",
      "Now Processing: 205.jpg...\n",
      "Done processing: 205.jpg!\n",
      "=================================\n",
      "Now Processing: 206.jpg...\n",
      "Done processing: 206.jpg!\n",
      "=================================\n",
      "Now Processing: 207.jpg...\n",
      "Done processing: 207.jpg!\n",
      "=================================\n",
      "Now Processing: 208.jpg...\n",
      "Done processing: 208.jpg!\n",
      "=================================\n",
      "Now Processing: 209.jpg...\n",
      "Done processing: 209.jpg!\n",
      "=================================\n",
      "Now Processing: 210.jpg...\n",
      "Done processing: 210.jpg!\n",
      "=================================\n",
      "Now Processing: 211.jpg...\n",
      "Done processing: 211.jpg!\n",
      "=================================\n",
      "Now Processing: 212.jpg...\n",
      "Done processing: 212.jpg!\n",
      "=================================\n",
      "Now Processing: 213.jpg...\n",
      "Done processing: 213.jpg!\n",
      "=================================\n",
      "Now Processing: 214.jpg...\n",
      "Done processing: 214.jpg!\n",
      "=================================\n",
      "Now Processing: 215.jpg...\n",
      "Done processing: 215.jpg!\n",
      "=================================\n",
      "Now Processing: 216.jpg...\n",
      "Done processing: 216.jpg!\n",
      "=================================\n",
      "Now Processing: 217.jpg...\n",
      "Done processing: 217.jpg!\n",
      "=================================\n",
      "Now Processing: 218.jpg...\n",
      "Done processing: 218.jpg!\n",
      "=================================\n",
      "Now Processing: 219.jpg...\n",
      "Done processing: 219.jpg!\n",
      "=================================\n",
      "Now Processing: 220.jpg...\n",
      "Done processing: 220.jpg!\n",
      "=================================\n",
      "Now Processing: 221.jpg...\n",
      "Done processing: 221.jpg!\n",
      "=================================\n",
      "Now Processing: 222.jpg...\n",
      "Done processing: 222.jpg!\n",
      "=================================\n",
      "Now Processing: 223.jpg...\n",
      "Done processing: 223.jpg!\n",
      "=================================\n",
      "Now Processing: 224.jpg...\n",
      "Done processing: 224.jpg!\n",
      "=================================\n",
      "Now Processing: 225.jpg...\n",
      "Done processing: 225.jpg!\n",
      "=================================\n",
      "Now Processing: 226.jpg...\n",
      "Done processing: 226.jpg!\n",
      "=================================\n",
      "Now Processing: 227.jpg...\n",
      "Done processing: 227.jpg!\n",
      "=================================\n",
      "Now Processing: 228.jpg...\n",
      "Done processing: 228.jpg!\n",
      "=================================\n",
      "Now Processing: 229.jpg...\n",
      "Done processing: 229.jpg!\n",
      "=================================\n",
      "Now Processing: 230.jpg...\n",
      "Done processing: 230.jpg!\n",
      "=================================\n",
      "Now Processing: 231.jpg...\n",
      "Done processing: 231.jpg!\n",
      "=================================\n",
      "Now Processing: 232.jpg...\n",
      "Done processing: 232.jpg!\n",
      "=================================\n",
      "Now Processing: 233.jpg...\n",
      "Done processing: 233.jpg!\n",
      "=================================\n",
      "Now Processing: 234.jpg...\n",
      "Done processing: 234.jpg!\n",
      "=================================\n",
      "Now Processing: 235.jpg...\n",
      "Done processing: 235.jpg!\n",
      "=================================\n",
      "Now Processing: 236.jpg...\n",
      "Done processing: 236.jpg!\n",
      "=================================\n",
      "Now Processing: 237.jpg...\n",
      "Done processing: 237.jpg!\n",
      "=================================\n",
      "Now Processing: 238.jpg...\n",
      "Done processing: 238.jpg!\n",
      "=================================\n",
      "Now Processing: 239.jpg...\n",
      "Done processing: 239.jpg!\n",
      "=================================\n",
      "Now Processing: 240.jpg...\n",
      "Done processing: 240.jpg!\n",
      "=================================\n",
      "Now Processing: 241.jpg...\n",
      "Done processing: 241.jpg!\n",
      "=================================\n",
      "Now Processing: 242.jpg...\n",
      "Done processing: 242.jpg!\n",
      "=================================\n",
      "Now Processing: 243.jpg...\n",
      "Done processing: 243.jpg!\n",
      "=================================\n",
      "Now Processing: 244.jpg...\n",
      "Done processing: 244.jpg!\n",
      "=================================\n",
      "Now Processing: 245.jpg...\n",
      "Done processing: 245.jpg!\n",
      "=================================\n",
      "Now Processing: 246.jpg...\n",
      "Done processing: 246.jpg!\n",
      "=================================\n",
      "Now Processing: 247.jpg...\n",
      "Done processing: 247.jpg!\n",
      "=================================\n",
      "Now Processing: 248.jpg...\n",
      "Done processing: 248.jpg!\n",
      "=================================\n",
      "Now Processing: 249.jpg...\n",
      "Done processing: 249.jpg!\n",
      "=================================\n",
      "Now Processing: 250.jpg...\n",
      "Done processing: 250.jpg!\n",
      "=================================\n",
      "Now Processing: 251.jpg...\n",
      "Done processing: 251.jpg!\n",
      "=================================\n",
      "Now Processing: 252.jpg...\n",
      "Done processing: 252.jpg!\n",
      "=================================\n",
      "Now Processing: 253.jpg...\n",
      "Done processing: 253.jpg!\n",
      "=================================\n",
      "Now Processing: 254.jpg...\n",
      "Done processing: 254.jpg!\n",
      "=================================\n",
      "Now Processing: 255.jpg...\n",
      "Done processing: 255.jpg!\n",
      "=================================\n",
      "Now Processing: 256.jpg...\n",
      "Done processing: 256.jpg!\n",
      "=================================\n",
      "Now Processing: 257.jpg...\n",
      "Done processing: 257.jpg!\n",
      "=================================\n",
      "Now Processing: 258.jpg...\n",
      "Done processing: 258.jpg!\n",
      "=================================\n",
      "Now Processing: 259.jpg...\n",
      "Done processing: 259.jpg!\n",
      "=================================\n",
      "Now Processing: 260.jpg...\n",
      "Done processing: 260.jpg!\n",
      "=================================\n",
      "Now Processing: 261.jpg...\n",
      "Done processing: 261.jpg!\n",
      "=================================\n",
      "Now Processing: 262.jpg...\n",
      "Done processing: 262.jpg!\n",
      "=================================\n",
      "Now Processing: 263.jpg...\n",
      "Done processing: 263.jpg!\n",
      "=================================\n",
      "Now Processing: 264.jpg...\n",
      "Done processing: 264.jpg!\n",
      "=================================\n",
      "Now Processing: 265.jpg...\n",
      "Done processing: 265.jpg!\n",
      "=================================\n",
      "Now Processing: 266.jpg...\n",
      "Done processing: 266.jpg!\n",
      "=================================\n",
      "Now Processing: 267.jpg...\n",
      "Done processing: 267.jpg!\n",
      "=================================\n",
      "Now Processing: 268.jpg...\n",
      "Done processing: 268.jpg!\n",
      "=================================\n",
      "Now Processing: 269.jpg...\n",
      "Done processing: 269.jpg!\n"
     ]
    }
   ],
   "source": [
    "eyes = []\n",
    "count = 0\n",
    "start = 189\n",
    "for i in range(start, len(list_of_files) + 1):\n",
    "    filename = str(i) + '.jpg'\n",
    "    eye1, eye2, out = detect_eye(raw_data_path, filename)\n",
    "    count += 1\n",
    "    if type(out) == int:\n",
    "        print(\"[ERROR] Didn't find eye for img:\", filename)\n",
    "        continue\n",
    "    eyes.append(np.array([eye1, eye2]))\n",
    "    cv2.imwrite(processed_data_path_left + 'left_' + filename, cv2.GaussianBlur(eye2,(5,5),0)) \n",
    "    cv2.imwrite(processed_data_path_right + 'right_' + filename, cv2.GaussianBlur(eye1,(5,5),0)) \n",
    "#     cv2.imwrite(processed_data_path_left[:-1] + '_origin/' + 'left_' + filename, eye2) \n",
    "#     cv2.imwrite(processed_data_path_right[:-1] + '_origin/' + 'right_' + filename, eye1)"
   ]
  },
  {
   "cell_type": "code",
   "execution_count": null,
   "metadata": {},
   "outputs": [],
   "source": []
  },
  {
   "cell_type": "code",
   "execution_count": null,
   "metadata": {},
   "outputs": [],
   "source": []
  },
  {
   "cell_type": "code",
   "execution_count": null,
   "metadata": {},
   "outputs": [],
   "source": []
  },
  {
   "cell_type": "markdown",
   "metadata": {},
   "source": [
    "## Step2: Manually Select the Ones that Works Well"
   ]
  },
  {
   "cell_type": "code",
   "execution_count": 9,
   "metadata": {},
   "outputs": [],
   "source": [
    "# df_img_info['left_found'] = 0\n",
    "# df_img_info['right_found'] = 0\n",
    "# df_img_info['both_found'] = 0\n",
    "# df_img_info['left_hard'] = 0\n",
    "# df_img_info['right_hard'] = 0\n",
    "# df_img_info['left_failed'] = 0\n",
    "# df_img_info['right_failed'] = 0\n",
    "\n",
    "# def adding_manual_selection_info(s):\n",
    "#     filename = s.orderred_name\n",
    "#     if 'left_' + filename in listdir(processed_data_path_left):\n",
    "#         s['left_found'] = 1\n",
    "#     if 'right_' + filename in listdir(processed_data_path_right):\n",
    "#         s['right_found'] = 1\n",
    "#     if s['right_found'] == 1 and s['left_found'] == 1:\n",
    "#         s['both_found'] = 1\n",
    "    \n",
    "#     if 'left_' + filename in listdir(processed_data_path_left + 'hard_eyes/'):\n",
    "#         s['left_hard'] = 1\n",
    "#     if 'right_' + filename in listdir(processed_data_path_right + 'hard_eyes/'):\n",
    "#         s['right_hard'] = 1\n",
    "        \n",
    "#     if 'left_' + filename in listdir(processed_data_path_left + 'eye_detection_failed/'):\n",
    "#         s['left_failed'] = 1\n",
    "#     if 'right_' + filename in listdir(processed_data_path_right + 'eye_detection_failed/'):\n",
    "#         s['right_failed'] = 1\n",
    "#     return s\n",
    "# df_img_info = df_img_info.apply(adding_manual_selection_info, axis = 1)\n",
    "# df_img_info.to_csv('../data/processed/df_img_info.csv', index = False)\n",
    "# df_img_info.head()"
   ]
  },
  {
   "cell_type": "code",
   "execution_count": 19,
   "metadata": {},
   "outputs": [
    {
     "data": {
      "text/plain": [
       "original_name    2MM23355506081418-375.22.JPG2ES30404089011618-...\n",
       "orderred_name    1.jpg2.jpg3.jpg4.jpg5.jpg6.jpg7.jpg8.jpg9.jpg1...\n",
       "left_found                                                     239\n",
       "right_found                                                    237\n",
       "both_found                                                     222\n",
       "left_hard                                                        9\n",
       "right_hard                                                       7\n",
       "left_failed                                                     21\n",
       "right_failed                                                    25\n",
       "dtype: object"
      ]
     },
     "execution_count": 19,
     "metadata": {},
     "output_type": "execute_result"
    }
   ],
   "source": [
    "# df_img_info.sum()"
   ]
  },
  {
   "cell_type": "code",
   "execution_count": 10,
   "metadata": {},
   "outputs": [
    {
     "name": "stdout",
     "output_type": "stream",
     "text": [
      "Number of left eyes: 239\n",
      "Number of right eyes: 237\n",
      "Number of both eyes: 222\n"
     ]
    }
   ],
   "source": [
    "df_img_info = pd.read_csv('../data/processed/df_img_info.csv')\n",
    "print('Number of left eyes:', df_img_info.left_found.sum())\n",
    "print('Number of right eyes:', df_img_info.right_found.sum())\n",
    "print('Number of both eyes:', df_img_info.both_found.sum())"
   ]
  },
  {
   "cell_type": "code",
   "execution_count": null,
   "metadata": {},
   "outputs": [],
   "source": []
  },
  {
   "cell_type": "markdown",
   "metadata": {},
   "source": [
    "# Labeling Data\n",
    "- Run the script in the `script/facial_landmark/` folder"
   ]
  },
  {
   "cell_type": "code",
   "execution_count": null,
   "metadata": {},
   "outputs": [],
   "source": []
  },
  {
   "cell_type": "markdown",
   "metadata": {},
   "source": [
    "# Landmark Detection"
   ]
  },
  {
   "cell_type": "code",
   "execution_count": 11,
   "metadata": {},
   "outputs": [],
   "source": [
    "# Setting current eyes\n",
    "curr_eye = 'left'"
   ]
  },
  {
   "cell_type": "code",
   "execution_count": 12,
   "metadata": {},
   "outputs": [],
   "source": [
    "from imutils import face_utils\n",
    "import numpy as np\n",
    "import imutils\n",
    "import dlib\n",
    "import cv2\n",
    "\n",
    "predictor_path = '../models/' + curr_eye + '_eye_predictor.dat'\n",
    "data_path = \"../data/processed/\" + curr_eye + \"/\"\n",
    "output_path = '../data/final_output/'\n",
    "\n",
    "all_xml_file_path = '../data/processed/' + curr_eye + '/' + curr_eye + '_eyes_eight_points_model_all.xml'\n",
    "empty_xml_file_path = '../data/processed/' + curr_eye + '/' + curr_eye + '_eyes_eight_points_model_empty.xml'\n",
    "\n",
    "train_xml_file_path = '../data/processed/' + curr_eye + '/' + curr_eye + '_eyes_eight_points_model_train.xml'\n",
    "test_xml_file_path = '../data/processed/' + curr_eye + '/' + curr_eye + '_eyes_eight_points_model_test.xml'\n",
    "val_xml_file_path = '../data/processed/' + curr_eye + '/' + curr_eye + '_eyes_eight_points_model_val.xml'"
   ]
  },
  {
   "cell_type": "code",
   "execution_count": 19,
   "metadata": {},
   "outputs": [
    {
     "name": "stdout",
     "output_type": "stream",
     "text": [
      "Current data path: ../data/processed/left/\n",
      "left_168.jpg is larger than 1200X1200, we are resizing it!\n",
      "left_121.jpg is larger than 1200X1200, we are resizing it!\n",
      "left_42.jpg is larger than 1200X1200, we are resizing it!\n",
      "left_203.jpg is larger than 1200X1200, we are resizing it!\n"
     ]
    }
   ],
   "source": [
    "print('Current data path:', data_path)\n",
    "size_lst = []\n",
    "for file in listdir(data_path):\n",
    "    if '.jpg' not in file:\n",
    "        continue\n",
    "    img = cv2.imread(data_path + file)\n",
    "    if img.shape[0] > 1200:\n",
    "        print(file, 'is larger than 1200X1200, we are resizing it!')\n",
    "        resized = cv2.resize(img, (1200, 1200))\n",
    "        cv2.imwrite(data_path + file, resized)"
   ]
  },
  {
   "cell_type": "markdown",
   "metadata": {},
   "source": [
    "## Train Test Split"
   ]
  },
  {
   "cell_type": "code",
   "execution_count": 38,
   "metadata": {},
   "outputs": [],
   "source": [
    "import xml.etree.ElementTree as ET\n",
    "\n",
    "train_tree = ET.parse(empty_xml_file_path)\n",
    "test_tree = ET.parse(empty_xml_file_path)\n",
    "val_tree = ET.parse(empty_xml_file_path)\n",
    "\n",
    "train_root = train_tree.getroot()\n",
    "test_root = test_tree.getroot()\n",
    "val_root = val_tree.getroot()\n",
    "all_root = ET.parse(all_xml_file_path).getroot()\n",
    "\n",
    "images = all_root.find('images')\n",
    "train_images = train_root.find('images')\n",
    "test_images = test_root.find('images')\n",
    "val_images = val_root.find('images')"
   ]
  },
  {
   "cell_type": "code",
   "execution_count": 39,
   "metadata": {},
   "outputs": [
    {
     "name": "stdout",
     "output_type": "stream",
     "text": [
      "Count of labels: 232\n"
     ]
    }
   ],
   "source": [
    "all_count = len(all_root.findall('images/image'))\n",
    "print('Count of labels:', all_count)\n",
    "\n",
    "counter = 0\n",
    "for img in images.findall('image'):\n",
    "    counter += 1\n",
    "    if counter <= int(all_count * 0.6): \n",
    "        train_images.append(img)\n",
    "    elif counter > int(all_count * 0.6) and counter <= int(all_count * 0.8):\n",
    "        val_images.append(img)\n",
    "    else:\n",
    "        test_images.append(img)"
   ]
  },
  {
   "cell_type": "code",
   "execution_count": 40,
   "metadata": {},
   "outputs": [
    {
     "name": "stdout",
     "output_type": "stream",
     "text": [
      "Count of test images: 47\n"
     ]
    }
   ],
   "source": [
    "test_file_lst = []\n",
    "for img in test_images.findall('image'):\n",
    "    test_file_lst.append(img.attrib['file'])\n",
    "print('Count of test images:', len(test_file_lst))"
   ]
  },
  {
   "cell_type": "code",
   "execution_count": 41,
   "metadata": {},
   "outputs": [],
   "source": [
    "train_tree.write(train_xml_file_path)\n",
    "test_tree.write(test_xml_file_path)\n",
    "val_tree.write(val_xml_file_path)"
   ]
  },
  {
   "cell_type": "markdown",
   "metadata": {},
   "source": [
    "## Training"
   ]
  },
  {
   "cell_type": "code",
   "execution_count": 44,
   "metadata": {},
   "outputs": [],
   "source": [
    "# import the necessary packages\n",
    "import multiprocessing\n",
    "\n",
    "def train(parameters):\n",
    "#     print(\"===========================================\")\n",
    "#     print(\"[INFO] setting shape predictor options...\")\n",
    "    options = dlib.shape_predictor_training_options()\n",
    "#     print(parameters)\n",
    "    # [2-8]\n",
    "    options.tree_depth = parameters['tree_depth']\n",
    "\n",
    "    # regularization parameter \n",
    "    # [0.01, 0.03, 0.05, 0.1, 0.3, 0.5, 0.8]\n",
    "    options.nu = parameters['nu']\n",
    "\n",
    "    # [6, 18]\n",
    "    options.cascade_depth = parameters['cascade_depth']\n",
    "\n",
    "    # Larger for more accurate results & Slower inference\n",
    "    options.feature_pool_size = parameters['feature_pool_size']\n",
    "\n",
    "    # Larger for more accurate results & Slower training\n",
    "    options.num_test_splits = parameters['num_test_splits']\n",
    "\n",
    "    # controls amount of \"jitter\" (i.e., data augmentation) when training\n",
    "    # the shape predictor -- applies the supplied number of random\n",
    "    # deformations, thereby performing regularization and increasing the\n",
    "    # ability of our model to generalize\n",
    "    # [0, 50] \n",
    "    options.oversampling_amount = parameters['oversampling_amount']\n",
    "\n",
    "    # amount of translation jitter to apply -- the dlib docs recommend\n",
    "    # values in the range [0, 0.5]\n",
    "    options.oversampling_translation_jitter = parameters['oversampling_translation_jitter']\n",
    "\n",
    "    # tell the dlib shape predictor to be verbose and print out status\n",
    "    # messages our model trains\n",
    "    options.be_verbose = True\n",
    "\n",
    "    # number of threads/CPU cores to be used when training -- we default\n",
    "    # this value to the number of available cores on the system, but you\n",
    "    # can supply an integer value here if you would like\n",
    "    options.num_threads = multiprocessing.cpu_count()\n",
    "#     options.num_threads = 2\n",
    "    \n",
    "#     # log our training options to the terminal\n",
    "#     print(\"[INFO] shape predictor options:\")\n",
    "#     print(options)\n",
    "\n",
    "    # train the shape predictor\n",
    "#     print(\"[INFO] training shape predictor...\")\n",
    "    dlib.train_shape_predictor(train_xml_file_path, predictor_path, options)"
   ]
  },
  {
   "cell_type": "code",
   "execution_count": null,
   "metadata": {},
   "outputs": [],
   "source": []
  },
  {
   "cell_type": "markdown",
   "metadata": {},
   "source": [
    "### Training on existing models"
   ]
  },
  {
   "cell_type": "code",
   "execution_count": 43,
   "metadata": {},
   "outputs": [
    {
     "data": {
      "text/html": [
       "<div>\n",
       "<style scoped>\n",
       "    .dataframe tbody tr th:only-of-type {\n",
       "        vertical-align: middle;\n",
       "    }\n",
       "\n",
       "    .dataframe tbody tr th {\n",
       "        vertical-align: top;\n",
       "    }\n",
       "\n",
       "    .dataframe thead th {\n",
       "        text-align: right;\n",
       "    }\n",
       "</style>\n",
       "<table border=\"1\" class=\"dataframe\">\n",
       "  <thead>\n",
       "    <tr style=\"text-align: right;\">\n",
       "      <th></th>\n",
       "      <th>tree_depth</th>\n",
       "      <th>nu</th>\n",
       "      <th>cascade_depth</th>\n",
       "      <th>feature_pool_size</th>\n",
       "      <th>num_test_splits</th>\n",
       "      <th>oversampling_amount</th>\n",
       "      <th>oversampling_translation_jitter</th>\n",
       "      <th>error</th>\n",
       "    </tr>\n",
       "  </thead>\n",
       "  <tbody>\n",
       "    <tr>\n",
       "      <th>0</th>\n",
       "      <td>4</td>\n",
       "      <td>0.03</td>\n",
       "      <td>18</td>\n",
       "      <td>800</td>\n",
       "      <td>50</td>\n",
       "      <td>35</td>\n",
       "      <td>0.35</td>\n",
       "      <td>1.985454</td>\n",
       "    </tr>\n",
       "    <tr>\n",
       "      <th>1</th>\n",
       "      <td>4</td>\n",
       "      <td>0.03</td>\n",
       "      <td>18</td>\n",
       "      <td>400</td>\n",
       "      <td>100</td>\n",
       "      <td>35</td>\n",
       "      <td>0.35</td>\n",
       "      <td>2.022114</td>\n",
       "    </tr>\n",
       "    <tr>\n",
       "      <th>2</th>\n",
       "      <td>4</td>\n",
       "      <td>0.03</td>\n",
       "      <td>18</td>\n",
       "      <td>400</td>\n",
       "      <td>50</td>\n",
       "      <td>45</td>\n",
       "      <td>0.35</td>\n",
       "      <td>2.029044</td>\n",
       "    </tr>\n",
       "    <tr>\n",
       "      <th>3</th>\n",
       "      <td>4</td>\n",
       "      <td>0.03</td>\n",
       "      <td>18</td>\n",
       "      <td>800</td>\n",
       "      <td>75</td>\n",
       "      <td>35</td>\n",
       "      <td>0.40</td>\n",
       "      <td>2.031314</td>\n",
       "    </tr>\n",
       "    <tr>\n",
       "      <th>4</th>\n",
       "      <td>4</td>\n",
       "      <td>0.03</td>\n",
       "      <td>18</td>\n",
       "      <td>800</td>\n",
       "      <td>75</td>\n",
       "      <td>45</td>\n",
       "      <td>0.35</td>\n",
       "      <td>2.033936</td>\n",
       "    </tr>\n",
       "  </tbody>\n",
       "</table>\n",
       "</div>"
      ],
      "text/plain": [
       "   tree_depth    nu  cascade_depth  feature_pool_size  num_test_splits  \\\n",
       "0           4  0.03             18                800               50   \n",
       "1           4  0.03             18                400              100   \n",
       "2           4  0.03             18                400               50   \n",
       "3           4  0.03             18                800               75   \n",
       "4           4  0.03             18                800               75   \n",
       "\n",
       "   oversampling_amount  oversampling_translation_jitter     error  \n",
       "0                   35                             0.35  1.985454  \n",
       "1                   35                             0.35  2.022114  \n",
       "2                   45                             0.35  2.029044  \n",
       "3                   35                             0.40  2.031314  \n",
       "4                   45                             0.35  2.033936  "
      ]
     },
     "execution_count": 43,
     "metadata": {},
     "output_type": "execute_result"
    }
   ],
   "source": [
    "first_trial = pd.read_csv(model_path + 'first_trial.csv')\n",
    "second_trial = pd.read_csv(model_path + 'second_trial.csv')\n",
    "third_trial = pd.read_csv(model_path + 'third_trial.csv')\n",
    "all_trials = pd.concat([first_trial, second_trial, third_trial]).sort_values('error').reset_index(drop = True)\n",
    "all_trials.head(5)"
   ]
  },
  {
   "cell_type": "code",
   "execution_count": 45,
   "metadata": {},
   "outputs": [
    {
     "name": "stderr",
     "output_type": "stream",
     "text": [
      "100%|██████████| 10/10 [17:24<00:00, 104.49s/it]\n"
     ]
    }
   ],
   "source": [
    "performance_lst = []\n",
    "for i in tqdm(range(10)):\n",
    "    curr_model = dict(result.iloc[i])\n",
    "    curr_model['tree_depth'] = int(curr_model['tree_depth'])\n",
    "    curr_model['cascade_depth'] = int(curr_model['cascade_depth'])\n",
    "    curr_model['feature_pool_size'] = int(curr_model['feature_pool_size'])\n",
    "    curr_model['num_test_splits'] = int(curr_model['num_test_splits'])\n",
    "    curr_model['oversampling_amount'] = int(curr_model['oversampling_amount'])\n",
    "    train(curr_model)\n",
    "    error = dlib.test_shape_predictor(val_xml_file_path, predictor_path)\n",
    "    curr_model['error'] = error\n",
    "    performance_lst.append(curr_model)"
   ]
  },
  {
   "cell_type": "code",
   "execution_count": 46,
   "metadata": {},
   "outputs": [
    {
     "data": {
      "text/html": [
       "<div>\n",
       "<style scoped>\n",
       "    .dataframe tbody tr th:only-of-type {\n",
       "        vertical-align: middle;\n",
       "    }\n",
       "\n",
       "    .dataframe tbody tr th {\n",
       "        vertical-align: top;\n",
       "    }\n",
       "\n",
       "    .dataframe thead th {\n",
       "        text-align: right;\n",
       "    }\n",
       "</style>\n",
       "<table border=\"1\" class=\"dataframe\">\n",
       "  <thead>\n",
       "    <tr style=\"text-align: right;\">\n",
       "      <th></th>\n",
       "      <th>tree_depth</th>\n",
       "      <th>nu</th>\n",
       "      <th>cascade_depth</th>\n",
       "      <th>feature_pool_size</th>\n",
       "      <th>num_test_splits</th>\n",
       "      <th>oversampling_amount</th>\n",
       "      <th>oversampling_translation_jitter</th>\n",
       "      <th>error</th>\n",
       "    </tr>\n",
       "  </thead>\n",
       "  <tbody>\n",
       "    <tr>\n",
       "      <th>0</th>\n",
       "      <td>4</td>\n",
       "      <td>0.03</td>\n",
       "      <td>18</td>\n",
       "      <td>400</td>\n",
       "      <td>100</td>\n",
       "      <td>45</td>\n",
       "      <td>0.45</td>\n",
       "      <td>12.856496</td>\n",
       "    </tr>\n",
       "    <tr>\n",
       "      <th>1</th>\n",
       "      <td>4</td>\n",
       "      <td>0.03</td>\n",
       "      <td>18</td>\n",
       "      <td>800</td>\n",
       "      <td>50</td>\n",
       "      <td>35</td>\n",
       "      <td>0.35</td>\n",
       "      <td>12.996752</td>\n",
       "    </tr>\n",
       "    <tr>\n",
       "      <th>2</th>\n",
       "      <td>4</td>\n",
       "      <td>0.03</td>\n",
       "      <td>18</td>\n",
       "      <td>800</td>\n",
       "      <td>50</td>\n",
       "      <td>35</td>\n",
       "      <td>0.40</td>\n",
       "      <td>13.165330</td>\n",
       "    </tr>\n",
       "    <tr>\n",
       "      <th>3</th>\n",
       "      <td>4</td>\n",
       "      <td>0.03</td>\n",
       "      <td>18</td>\n",
       "      <td>400</td>\n",
       "      <td>75</td>\n",
       "      <td>35</td>\n",
       "      <td>0.40</td>\n",
       "      <td>13.176420</td>\n",
       "    </tr>\n",
       "    <tr>\n",
       "      <th>4</th>\n",
       "      <td>4</td>\n",
       "      <td>0.03</td>\n",
       "      <td>18</td>\n",
       "      <td>400</td>\n",
       "      <td>50</td>\n",
       "      <td>35</td>\n",
       "      <td>0.40</td>\n",
       "      <td>13.365225</td>\n",
       "    </tr>\n",
       "    <tr>\n",
       "      <th>5</th>\n",
       "      <td>4</td>\n",
       "      <td>0.01</td>\n",
       "      <td>18</td>\n",
       "      <td>800</td>\n",
       "      <td>100</td>\n",
       "      <td>35</td>\n",
       "      <td>0.35</td>\n",
       "      <td>13.697611</td>\n",
       "    </tr>\n",
       "    <tr>\n",
       "      <th>6</th>\n",
       "      <td>4</td>\n",
       "      <td>0.03</td>\n",
       "      <td>18</td>\n",
       "      <td>800</td>\n",
       "      <td>75</td>\n",
       "      <td>45</td>\n",
       "      <td>0.35</td>\n",
       "      <td>13.779139</td>\n",
       "    </tr>\n",
       "    <tr>\n",
       "      <th>7</th>\n",
       "      <td>4</td>\n",
       "      <td>0.03</td>\n",
       "      <td>18</td>\n",
       "      <td>800</td>\n",
       "      <td>100</td>\n",
       "      <td>35</td>\n",
       "      <td>0.35</td>\n",
       "      <td>13.915144</td>\n",
       "    </tr>\n",
       "    <tr>\n",
       "      <th>8</th>\n",
       "      <td>4</td>\n",
       "      <td>0.03</td>\n",
       "      <td>18</td>\n",
       "      <td>400</td>\n",
       "      <td>100</td>\n",
       "      <td>35</td>\n",
       "      <td>0.35</td>\n",
       "      <td>14.060518</td>\n",
       "    </tr>\n",
       "    <tr>\n",
       "      <th>9</th>\n",
       "      <td>4</td>\n",
       "      <td>0.03</td>\n",
       "      <td>18</td>\n",
       "      <td>800</td>\n",
       "      <td>75</td>\n",
       "      <td>35</td>\n",
       "      <td>0.35</td>\n",
       "      <td>14.252427</td>\n",
       "    </tr>\n",
       "  </tbody>\n",
       "</table>\n",
       "</div>"
      ],
      "text/plain": [
       "   tree_depth    nu  cascade_depth  feature_pool_size  num_test_splits  \\\n",
       "0           4  0.03             18                400              100   \n",
       "1           4  0.03             18                800               50   \n",
       "2           4  0.03             18                800               50   \n",
       "3           4  0.03             18                400               75   \n",
       "4           4  0.03             18                400               50   \n",
       "5           4  0.01             18                800              100   \n",
       "6           4  0.03             18                800               75   \n",
       "7           4  0.03             18                800              100   \n",
       "8           4  0.03             18                400              100   \n",
       "9           4  0.03             18                800               75   \n",
       "\n",
       "   oversampling_amount  oversampling_translation_jitter      error  \n",
       "0                   45                             0.45  12.856496  \n",
       "1                   35                             0.35  12.996752  \n",
       "2                   35                             0.40  13.165330  \n",
       "3                   35                             0.40  13.176420  \n",
       "4                   35                             0.40  13.365225  \n",
       "5                   35                             0.35  13.697611  \n",
       "6                   45                             0.35  13.779139  \n",
       "7                   35                             0.35  13.915144  \n",
       "8                   35                             0.35  14.060518  \n",
       "9                   35                             0.35  14.252427  "
      ]
     },
     "execution_count": 46,
     "metadata": {},
     "output_type": "execute_result"
    }
   ],
   "source": [
    "result = pd.DataFrame(performance_lst).sort_values(by = 'error').reset_index(drop = True)\n",
    "result.head(10)"
   ]
  },
  {
   "cell_type": "code",
   "execution_count": 47,
   "metadata": {},
   "outputs": [
    {
     "data": {
      "text/plain": [
       "{'tree_depth': 4,\n",
       " 'nu': 0.03,\n",
       " 'cascade_depth': 18,\n",
       " 'feature_pool_size': 400,\n",
       " 'num_test_splits': 100,\n",
       " 'oversampling_amount': 45,\n",
       " 'oversampling_translation_jitter': 0.45,\n",
       " 'error': 12.856495681659897}"
      ]
     },
     "execution_count": 47,
     "metadata": {},
     "output_type": "execute_result"
    }
   ],
   "source": [
    "final_model = dict(result.iloc[0])\n",
    "final_model['tree_depth'] = int(final_model['tree_depth'])\n",
    "final_model['cascade_depth'] = int(final_model['cascade_depth'])\n",
    "final_model['feature_pool_size'] = int(final_model['feature_pool_size'])\n",
    "final_model['num_test_splits'] = int(final_model['num_test_splits'])\n",
    "final_model['oversampling_amount'] = int(final_model['oversampling_amount'])\n",
    "final_model"
   ]
  },
  {
   "cell_type": "code",
   "execution_count": 48,
   "metadata": {},
   "outputs": [
    {
     "name": "stdout",
     "output_type": "stream",
     "text": [
      "[INFO] evaluating shape predictor...\n",
      "[INFO] error: 12.856495681659897\n"
     ]
    }
   ],
   "source": [
    "train(final_model)\n",
    "print(\"[INFO] evaluating shape predictor...\")\n",
    "error = dlib.test_shape_predictor(val_xml_file_path, predictor_path)\n",
    "print(\"[INFO] error: {}\".format(error))"
   ]
  },
  {
   "cell_type": "code",
   "execution_count": null,
   "metadata": {},
   "outputs": [],
   "source": []
  },
  {
   "cell_type": "markdown",
   "metadata": {},
   "source": [
    "### Training on all possible parameters"
   ]
  },
  {
   "cell_type": "code",
   "execution_count": 69,
   "metadata": {},
   "outputs": [
    {
     "data": {
      "text/plain": [
       "216"
      ]
     },
     "execution_count": 69,
     "metadata": {},
     "output_type": "execute_result"
    }
   ],
   "source": [
    "tree_depth_lst = [4, 6, 8]\n",
    "nu_lst = [0.005, 0.01, 0.03]\n",
    "cascade_depth_lst = [18]\n",
    "feature_pool_size_lst = [500, 800]\n",
    "num_test_splits_lst = [50, 75, 100]\n",
    "oversampling_amount_lst = [35, 45]\n",
    "oversampling_translation_jitter_lst = [0.3, 0.45]\n",
    "\n",
    "num_of_models = len(tree_depth_lst) * len(nu_lst) * len(cascade_depth_lst) * len(feature_pool_size_lst) * \\\n",
    "    len(num_test_splits_lst) * len(oversampling_amount_lst) * len(oversampling_translation_jitter_lst)\n",
    "num_of_models"
   ]
  },
  {
   "cell_type": "code",
   "execution_count": 70,
   "metadata": {},
   "outputs": [],
   "source": [
    "all_para_lst = []\n",
    "for t in tree_depth_lst:\n",
    "    for n in nu_lst:\n",
    "        for c in cascade_depth_lst:\n",
    "            for f in feature_pool_size_lst:\n",
    "                for num in num_test_splits_lst:\n",
    "                    for o1 in oversampling_amount_lst:\n",
    "                        for o2 in oversampling_translation_jitter_lst:\n",
    "                            all_para_lst.append(\\\n",
    "                            {'tree_depth': t,\n",
    "                            'nu': n,\n",
    "                            'cascade_depth': c,\n",
    "                            'feature_pool_size': f,\n",
    "                            'num_test_splits': num,\n",
    "                            'oversampling_amount': o1,\n",
    "                            'oversampling_translation_jitter': o2})"
   ]
  },
  {
   "cell_type": "code",
   "execution_count": null,
   "metadata": {},
   "outputs": [],
   "source": [
    "# from tqdm import tqdm\n",
    "# error_lst = []\n",
    "# for parameters in tqdm(all_para_lst):\n",
    "#     train(parameters)\n",
    "#     # print(\"[INFO] evaluating shape predictor...\")\n",
    "#     error = dlib.test_shape_predictor(val_xml_file_path, predictor_path)\n",
    "#     # print(\"[INFO] error: {}\".format(error))\n",
    "#     error_lst.append(error)"
   ]
  },
  {
   "cell_type": "code",
   "execution_count": null,
   "metadata": {},
   "outputs": [],
   "source": []
  },
  {
   "cell_type": "code",
   "execution_count": null,
   "metadata": {},
   "outputs": [],
   "source": [
    "error_lst = []\n",
    "count = 0\n",
    "for parameters in tqdm(all_para_lst):\n",
    "#     if parameters in done_para:\n",
    "#         count += 1\n",
    "#         continue\n",
    "    train(parameters)\n",
    "    # print(\"[INFO] evaluating shape predictor...\")\n",
    "    error = dlib.test_shape_predictor(val_xml_file_path, predictor_path)\n",
    "    # print(\"[INFO] error: {}\".format(error))\n",
    "    error_lst.append(error)"
   ]
  },
  {
   "cell_type": "code",
   "execution_count": 20,
   "metadata": {},
   "outputs": [
    {
     "data": {
      "text/plain": [
       "170"
      ]
     },
     "execution_count": 20,
     "metadata": {},
     "output_type": "execute_result"
    }
   ],
   "source": [
    "len(error_lst)"
   ]
  },
  {
   "cell_type": "code",
   "execution_count": 27,
   "metadata": {},
   "outputs": [
    {
     "data": {
      "text/plain": [
       "11.741591665262739"
      ]
     },
     "execution_count": 27,
     "metadata": {},
     "output_type": "execute_result"
    }
   ],
   "source": [
    "min(error_lst)"
   ]
  },
  {
   "cell_type": "code",
   "execution_count": 16,
   "metadata": {},
   "outputs": [
    {
     "data": {
      "text/plain": [
       "True"
      ]
     },
     "execution_count": 16,
     "metadata": {},
     "output_type": "execute_result"
    }
   ],
   "source": [
    "all_para_lst[100] in done_para"
   ]
  },
  {
   "cell_type": "code",
   "execution_count": null,
   "metadata": {},
   "outputs": [],
   "source": [
    "for i in range(len(all_para_lst)):\n",
    "    all_para_lst[i]['error'] = error_lst[i]\n",
    "grid_search_result = pd.DataFrame(all_para_lst).sort_values('error')\n",
    "grid_search_result.head(20)"
   ]
  },
  {
   "cell_type": "code",
   "execution_count": 23,
   "metadata": {},
   "outputs": [
    {
     "data": {
      "text/html": [
       "<div>\n",
       "<style scoped>\n",
       "    .dataframe tbody tr th:only-of-type {\n",
       "        vertical-align: middle;\n",
       "    }\n",
       "\n",
       "    .dataframe tbody tr th {\n",
       "        vertical-align: top;\n",
       "    }\n",
       "\n",
       "    .dataframe thead th {\n",
       "        text-align: right;\n",
       "    }\n",
       "</style>\n",
       "<table border=\"1\" class=\"dataframe\">\n",
       "  <thead>\n",
       "    <tr style=\"text-align: right;\">\n",
       "      <th></th>\n",
       "      <th>tree_depth</th>\n",
       "      <th>nu</th>\n",
       "      <th>cascade_depth</th>\n",
       "      <th>feature_pool_size</th>\n",
       "      <th>num_test_splits</th>\n",
       "      <th>oversampling_amount</th>\n",
       "      <th>oversampling_translation_jitter</th>\n",
       "      <th>error</th>\n",
       "    </tr>\n",
       "  </thead>\n",
       "  <tbody>\n",
       "    <tr>\n",
       "      <th>0</th>\n",
       "      <td>4</td>\n",
       "      <td>0.030</td>\n",
       "      <td>18</td>\n",
       "      <td>800</td>\n",
       "      <td>50</td>\n",
       "      <td>35</td>\n",
       "      <td>0.35</td>\n",
       "      <td>1.985454</td>\n",
       "    </tr>\n",
       "    <tr>\n",
       "      <th>1</th>\n",
       "      <td>4</td>\n",
       "      <td>0.030</td>\n",
       "      <td>18</td>\n",
       "      <td>400</td>\n",
       "      <td>100</td>\n",
       "      <td>35</td>\n",
       "      <td>0.35</td>\n",
       "      <td>2.022114</td>\n",
       "    </tr>\n",
       "    <tr>\n",
       "      <th>2</th>\n",
       "      <td>4</td>\n",
       "      <td>0.030</td>\n",
       "      <td>18</td>\n",
       "      <td>400</td>\n",
       "      <td>50</td>\n",
       "      <td>45</td>\n",
       "      <td>0.35</td>\n",
       "      <td>2.029044</td>\n",
       "    </tr>\n",
       "    <tr>\n",
       "      <th>3</th>\n",
       "      <td>4</td>\n",
       "      <td>0.030</td>\n",
       "      <td>18</td>\n",
       "      <td>800</td>\n",
       "      <td>75</td>\n",
       "      <td>35</td>\n",
       "      <td>0.40</td>\n",
       "      <td>2.031314</td>\n",
       "    </tr>\n",
       "    <tr>\n",
       "      <th>4</th>\n",
       "      <td>4</td>\n",
       "      <td>0.030</td>\n",
       "      <td>18</td>\n",
       "      <td>800</td>\n",
       "      <td>75</td>\n",
       "      <td>45</td>\n",
       "      <td>0.35</td>\n",
       "      <td>2.033936</td>\n",
       "    </tr>\n",
       "    <tr>\n",
       "      <th>5</th>\n",
       "      <td>4</td>\n",
       "      <td>0.010</td>\n",
       "      <td>18</td>\n",
       "      <td>800</td>\n",
       "      <td>75</td>\n",
       "      <td>45</td>\n",
       "      <td>0.35</td>\n",
       "      <td>2.055256</td>\n",
       "    </tr>\n",
       "    <tr>\n",
       "      <th>6</th>\n",
       "      <td>6</td>\n",
       "      <td>0.005</td>\n",
       "      <td>18</td>\n",
       "      <td>800</td>\n",
       "      <td>50</td>\n",
       "      <td>35</td>\n",
       "      <td>0.40</td>\n",
       "      <td>2.056602</td>\n",
       "    </tr>\n",
       "    <tr>\n",
       "      <th>7</th>\n",
       "      <td>6</td>\n",
       "      <td>0.010</td>\n",
       "      <td>18</td>\n",
       "      <td>800</td>\n",
       "      <td>50</td>\n",
       "      <td>35</td>\n",
       "      <td>0.40</td>\n",
       "      <td>2.060509</td>\n",
       "    </tr>\n",
       "    <tr>\n",
       "      <th>8</th>\n",
       "      <td>4</td>\n",
       "      <td>0.030</td>\n",
       "      <td>18</td>\n",
       "      <td>800</td>\n",
       "      <td>100</td>\n",
       "      <td>35</td>\n",
       "      <td>0.35</td>\n",
       "      <td>2.067261</td>\n",
       "    </tr>\n",
       "    <tr>\n",
       "      <th>9</th>\n",
       "      <td>6</td>\n",
       "      <td>0.010</td>\n",
       "      <td>18</td>\n",
       "      <td>400</td>\n",
       "      <td>75</td>\n",
       "      <td>45</td>\n",
       "      <td>0.45</td>\n",
       "      <td>2.070887</td>\n",
       "    </tr>\n",
       "  </tbody>\n",
       "</table>\n",
       "</div>"
      ],
      "text/plain": [
       "   tree_depth     nu  cascade_depth  feature_pool_size  num_test_splits  \\\n",
       "0           4  0.030             18                800               50   \n",
       "1           4  0.030             18                400              100   \n",
       "2           4  0.030             18                400               50   \n",
       "3           4  0.030             18                800               75   \n",
       "4           4  0.030             18                800               75   \n",
       "5           4  0.010             18                800               75   \n",
       "6           6  0.005             18                800               50   \n",
       "7           6  0.010             18                800               50   \n",
       "8           4  0.030             18                800              100   \n",
       "9           6  0.010             18                400               75   \n",
       "\n",
       "   oversampling_amount  oversampling_translation_jitter     error  \n",
       "0                   35                             0.35  1.985454  \n",
       "1                   35                             0.35  2.022114  \n",
       "2                   45                             0.35  2.029044  \n",
       "3                   35                             0.40  2.031314  \n",
       "4                   45                             0.35  2.033936  \n",
       "5                   45                             0.35  2.055256  \n",
       "6                   35                             0.40  2.056602  \n",
       "7                   35                             0.40  2.060509  \n",
       "8                   35                             0.35  2.067261  \n",
       "9                   45                             0.45  2.070887  "
      ]
     },
     "execution_count": 23,
     "metadata": {},
     "output_type": "execute_result"
    }
   ],
   "source": [
    "first_trial = pd.read_csv(model_path + 'first_trial.csv')\n",
    "second_trial = pd.read_csv(model_path + 'second_trial.csv')\n",
    "third_trial = pd.read_csv(model_path + 'third_trial.csv')\n",
    "all_trials = pd.concat([first_trial, second_trial, third_trial]).sort_values('error').reset_index(drop = True)\n",
    "all_trials.head(10)"
   ]
  },
  {
   "cell_type": "code",
   "execution_count": 24,
   "metadata": {},
   "outputs": [
    {
     "data": {
      "text/plain": [
       "{'tree_depth': 4,\n",
       " 'nu': 0.03,\n",
       " 'cascade_depth': 18,\n",
       " 'feature_pool_size': 800,\n",
       " 'num_test_splits': 50,\n",
       " 'oversampling_amount': 35,\n",
       " 'oversampling_translation_jitter': 0.35,\n",
       " 'error': 1.98545365484632}"
      ]
     },
     "execution_count": 24,
     "metadata": {},
     "output_type": "execute_result"
    }
   ],
   "source": [
    "final_model = dict(all_trials.iloc[0])\n",
    "# final_model = dict(grid_search_result.iloc[0])\n",
    "final_model['tree_depth'] = int(final_model['tree_depth'])\n",
    "final_model['cascade_depth'] = int(final_model['cascade_depth'])\n",
    "final_model['feature_pool_size'] = int(final_model['feature_pool_size'])\n",
    "final_model['num_test_splits'] = int(final_model['num_test_splits'])\n",
    "final_model['oversampling_amount'] = int(final_model['oversampling_amount'])\n",
    "final_model"
   ]
  },
  {
   "cell_type": "code",
   "execution_count": 25,
   "metadata": {},
   "outputs": [],
   "source": [
    "train(final_model)"
   ]
  },
  {
   "cell_type": "code",
   "execution_count": 26,
   "metadata": {},
   "outputs": [
    {
     "name": "stdout",
     "output_type": "stream",
     "text": [
      "[INFO] evaluating shape predictor...\n",
      "[INFO] error: 13.65401657125887\n"
     ]
    }
   ],
   "source": [
    "print(\"[INFO] evaluating shape predictor...\")\n",
    "error = dlib.test_shape_predictor(val_xml_file_path, predictor_path)\n",
    "print(\"[INFO] error: {}\".format(error))"
   ]
  },
  {
   "cell_type": "code",
   "execution_count": null,
   "metadata": {},
   "outputs": [],
   "source": []
  },
  {
   "cell_type": "markdown",
   "metadata": {},
   "source": [
    "## Testing & Prediction"
   ]
  },
  {
   "cell_type": "code",
   "execution_count": 50,
   "metadata": {},
   "outputs": [],
   "source": [
    "def predict_landmarks(filepath, predictor):\n",
    "    # load the input image, resize it, and convert it to grayscale\n",
    "    image = cv2.imread(filepath)\n",
    "    image = imutils.resize(image, width = 250)\n",
    "    gray = cv2.cvtColor(image, cv2.COLOR_BGR2GRAY)\n",
    "    # gray = cv2.GaussianBlur(gray, (5, 5), 0)\n",
    "\n",
    "    h, w = image.shape[0], image.shape[1]\n",
    "    rects = dlib.rectangles()\n",
    "    rec = dlib.rectangle(0, 0, w, h)\n",
    "    rects.append(rec)\n",
    "    \n",
    "    shape = 0\n",
    "    # loop over the face detections\n",
    "    for (i, rect) in enumerate(rects):\n",
    "        # determine the facial landmarks for the face region, then\n",
    "        # convert the facial landmark (x, y)-coordinates to a NumPy\n",
    "        # array\n",
    "        shape = predictor(gray, rect)\n",
    "        shape = face_utils.shape_to_np(shape)\n",
    "\n",
    "        # convert dlib's rectangle to a OpenCV-style bounding box\n",
    "        # [i.e., (x, y, w, h)], then draw the face bounding box\n",
    "        (x, y, w, h) = face_utils.rect_to_bb(rect)\n",
    "        cv2.rectangle(image, (x, y), (x + w, y + h), (0, 255, 0), 2)\n",
    "        # show the face number\n",
    "        cv2.putText(image, \"Face #{}\".format(i + 1), (x - 10, y - 10),\\\n",
    "            cv2.FONT_HERSHEY_SIMPLEX, 0.5, (0, 255, 0), 2)\n",
    "        # loop over the (x, y)-coordinates for the facial landmarks\n",
    "        # and draw them on the image\n",
    "        for (x, y) in shape:\n",
    "            cv2.circle(image, (x, y), 5, (0, 0, 255), -1)\n",
    "    return image, shape\n",
    "\n",
    "def find_best_circle(x, y):\n",
    "    method_2 = \"leastsq\"\n",
    "    \n",
    "    x_m, y_m = np.mean(x), np.mean(y)\n",
    "    def calc_R(xc, yc):\n",
    "        \"\"\" \n",
    "        calculate the distance of each 2D points from the center (xc, yc) \n",
    "        \"\"\"\n",
    "        return ((x-xc)**2 + (y-yc)**2) ** (1/2)\n",
    "\n",
    "    def f_2(c):\n",
    "        \"\"\" \n",
    "        calculate the algebraic distance between the data points and\n",
    "        the mean circle centered at c=(xc, yc) \n",
    "        \"\"\"\n",
    "        Ri = calc_R(*c)\n",
    "        return Ri - Ri.mean()\n",
    "\n",
    "    center_estimate = x_m, y_m\n",
    "    center_2, ier = optimize.leastsq(f_2, center_estimate)\n",
    "\n",
    "    xc_2, yc_2 = center_2\n",
    "    Ri_2       = calc_R(*center_2)\n",
    "    R_2        = Ri_2.mean()\n",
    "    residu_2   = sum((Ri_2 - R_2)**2)\n",
    "    \n",
    "    return xc_2, yc_2, R_2"
   ]
  },
  {
   "cell_type": "code",
   "execution_count": 51,
   "metadata": {},
   "outputs": [],
   "source": [
    "# Define text info\n",
    "font = cv2.FONT_HERSHEY_SIMPLEX\n",
    "fontScale = 1\n",
    "fontColor = (255, 255, 255)\n",
    "lineType = 2"
   ]
  },
  {
   "cell_type": "code",
   "execution_count": 55,
   "metadata": {
    "scrolled": false
   },
   "outputs": [],
   "source": [
    "predictor = dlib.shape_predictor(predictor_path)\n",
    "\n",
    "# 4.27: Temporarily added testing data, delete later!\n",
    "model_result = []\n",
    "counter = 0\n",
    "for filename in listdir(data_path_right):\n",
    "    if filename not in test_file_lst:\n",
    "        continue\n",
    "    counter += 1\n",
    "#     if counter == 10:\n",
    "#         break\n",
    "    output, shape = predict_landmarks(data_path_right + filename, predictor)\n",
    "    \n",
    "    # Find the best fit circle of the iris\n",
    "    circle_point_x = shape[(1, 3, 5, 7), 0]\n",
    "    circle_point_y = shape[(1, 3, 5, 7), 1]\n",
    "    xc1, yc1, r1 = find_best_circle(circle_point_x, circle_point_y)\n",
    "    xc1, yc1, r1 = int(xc1), int(yc1), int(r1)\n",
    "    cv2.circle(output, (xc1, yc1), r1, (0, 255, 255), 1)\n",
    "    \n",
    "    # Find the best fir curve of the upper eyelid\n",
    "    upper_point_x = shape[(1, 2, 3), 0]\n",
    "    upper_point_y = shape[(1, 2, 3), 1]\n",
    "    xc2, yc2, r2 = find_best_circle(upper_point_x, upper_point_y)\n",
    "    xc2, yc2, r2 = int(xc2), int(yc2), int(r2)\n",
    "    y_upper = yc2 - (r2 ** 2 - (xc1 - xc2) ** 2) ** (1 / 2)\n",
    "    if y_upper < 0:\n",
    "        y_upper = 0\n",
    "    elif y_upper > yc1:\n",
    "        y_upper = yc1\n",
    "    else:\n",
    "        y_upper = int(y_upper) \n",
    "    upper_in_mm = round(11.65 * (yc1 - y_upper) / (r1 * 2), 2)\n",
    "    cv2.putText(output, str(upper_in_mm), (xc1 + 20, y_upper - 20), font, fontScale, fontColor, lineType)\n",
    "    cv2.arrowedLine(output, (xc1, yc1), (xc1, y_upper), (0, 255, 255), 2)  \n",
    "\n",
    "    # Find the best fir curve of the lower eyelid\n",
    "    lower_point_x = shape[(4, 6, 0), 0]\n",
    "    lower_point_y = shape[(4, 6, 0), 1]\n",
    "    xc3, yc3, r3 = find_best_circle(lower_point_x, lower_point_y)\n",
    "    xc3, yc3, r3 = int(xc3), int(yc3), int(r3)\n",
    "    y_lower = yc3 + (r3 ** 2 - (xc1 - xc3) ** 2) ** (1 / 2)\n",
    "    if y_lower <= yc1:\n",
    "        y_lower = yc1\n",
    "    elif y_lower >= output.shape[0]:\n",
    "        y_lower = yc1 + r1\n",
    "    else:\n",
    "        y_lower = int(y_lower)\n",
    "    lower_in_mm = round(11.65 * (y_lower - yc1) / (r1 * 2), 2)\n",
    "    cv2.putText(output, str(lower_in_mm), (xc1 + 20, y_lower + 20), font, fontScale, fontColor, lineType)\n",
    "    cv2.arrowedLine(output, (xc1, yc1), (xc1, y_lower), (0, 255, 255), 2)  \n",
    "\n",
    "    # Adding a point at the center\n",
    "    cv2.circle(output, (xc1, yc1), 2, (0, 0, 255), 2)\n",
    "    cv2.imwrite(output_path + 'output_' + filename, output)\n",
    "#     plt.imshow(output)\n",
    "#     plt.title(filename)\n",
    "#     plt.show()"
   ]
  },
  {
   "cell_type": "code",
   "execution_count": null,
   "metadata": {},
   "outputs": [],
   "source": []
  },
  {
   "cell_type": "code",
   "execution_count": null,
   "metadata": {},
   "outputs": [],
   "source": []
  },
  {
   "cell_type": "code",
   "execution_count": null,
   "metadata": {},
   "outputs": [],
   "source": [
    "# # 4.27: Temporarily added testing data, delete later!\n",
    "# # model_result\n",
    "# ground_truth_results = []\n",
    "# for filename in listdir(data_path_right):\n",
    "#     if 'txt' not in filename:\n",
    "#         continue\n",
    "        \n",
    "#     image = cv2.imread(data_path_right + filename.replace('txt', 'png'))\n",
    "#     image = imutils.resize(image, width = 250)\n",
    "    \n",
    "#     f = open(data_path_left + filename, \"r\") \n",
    "#     cordinates = []\n",
    "#     for line in f:\n",
    "#         x, y = line.split()\n",
    "#         cordinates.append([int(float(x)), int(float(y))])\n",
    "#     x1, y1 = cordinates[2]\n",
    "#     x2, y2 = cordinates[1]\n",
    "#     x3, y3 = cordinates[0]\n",
    "#     ground_truth_results.append({\n",
    "#         'id': filename.replace('.txt', ''),\n",
    "#         'true_upper': cordinates[2][1],\n",
    "#         'true_lower': cordinates[0][1]\n",
    "#     })\n",
    "    \n",
    "#     cv2.arrowedLine(image, (x2, y2), (x1, y1), (0, 255, 255), 2)  \n",
    "#     cv2.arrowedLine(image, (x2, y2), (x3, y3), (0, 255, 255), 2) \n",
    "#     cv2.circle(image, (x2, y2), 2, (0, 0, 255), 2)\n",
    "#     plt.imshow(image)\n",
    "#     plt.title(filename)\n",
    "#     plt.show()\n",
    "#     cv2.imwrite(data_path_left + 'output/CL_output_' + filename.replace('txt', '.png'), image)\n",
    "\n",
    "# ground_truth_results"
   ]
  },
  {
   "cell_type": "code",
   "execution_count": 109,
   "metadata": {},
   "outputs": [
    {
     "data": {
      "text/html": [
       "<div>\n",
       "<style scoped>\n",
       "    .dataframe tbody tr th:only-of-type {\n",
       "        vertical-align: middle;\n",
       "    }\n",
       "\n",
       "    .dataframe tbody tr th {\n",
       "        vertical-align: top;\n",
       "    }\n",
       "\n",
       "    .dataframe thead th {\n",
       "        text-align: right;\n",
       "    }\n",
       "</style>\n",
       "<table border=\"1\" class=\"dataframe\">\n",
       "  <thead>\n",
       "    <tr style=\"text-align: right;\">\n",
       "      <th></th>\n",
       "      <th>id</th>\n",
       "      <th>model_upper_point</th>\n",
       "      <th>model_lower_point</th>\n",
       "      <th>diameters_pixel</th>\n",
       "      <th>model_center</th>\n",
       "    </tr>\n",
       "  </thead>\n",
       "  <tbody>\n",
       "    <tr>\n",
       "      <th>0</th>\n",
       "      <td>3BM07098338042518-374.87_left._output</td>\n",
       "      <td>144</td>\n",
       "      <td>174</td>\n",
       "      <td>70</td>\n",
       "      <td>152</td>\n",
       "    </tr>\n",
       "    <tr>\n",
       "      <th>1</th>\n",
       "      <td>3AS30230885022718-374.87_left._output</td>\n",
       "      <td>138</td>\n",
       "      <td>193</td>\n",
       "      <td>84</td>\n",
       "      <td>155</td>\n",
       "    </tr>\n",
       "    <tr>\n",
       "      <th>2</th>\n",
       "      <td>output_3BM07098338042518-374.87_left</td>\n",
       "      <td>142</td>\n",
       "      <td>174</td>\n",
       "      <td>70</td>\n",
       "      <td>150</td>\n",
       "    </tr>\n",
       "    <tr>\n",
       "      <th>3</th>\n",
       "      <td>3AS10759462080818-374.33_left._output</td>\n",
       "      <td>142</td>\n",
       "      <td>193</td>\n",
       "      <td>74</td>\n",
       "      <td>156</td>\n",
       "    </tr>\n",
       "    <tr>\n",
       "      <th>4</th>\n",
       "      <td>output_3AS10759462080818-374.33_left</td>\n",
       "      <td>142</td>\n",
       "      <td>192</td>\n",
       "      <td>72</td>\n",
       "      <td>157</td>\n",
       "    </tr>\n",
       "    <tr>\n",
       "      <th>5</th>\n",
       "      <td>output_3AS30230885022718-374.87_left</td>\n",
       "      <td>138</td>\n",
       "      <td>194</td>\n",
       "      <td>84</td>\n",
       "      <td>155</td>\n",
       "    </tr>\n",
       "  </tbody>\n",
       "</table>\n",
       "</div>"
      ],
      "text/plain": [
       "                                      id  model_upper_point  \\\n",
       "0  3BM07098338042518-374.87_left._output                144   \n",
       "1  3AS30230885022718-374.87_left._output                138   \n",
       "2   output_3BM07098338042518-374.87_left                142   \n",
       "3  3AS10759462080818-374.33_left._output                142   \n",
       "4   output_3AS10759462080818-374.33_left                142   \n",
       "5   output_3AS30230885022718-374.87_left                138   \n",
       "\n",
       "   model_lower_point  diameters_pixel  model_center  \n",
       "0                174               70           152  \n",
       "1                193               84           155  \n",
       "2                174               70           150  \n",
       "3                193               74           156  \n",
       "4                192               72           157  \n",
       "5                194               84           155  "
      ]
     },
     "execution_count": 109,
     "metadata": {},
     "output_type": "execute_result"
    }
   ],
   "source": [
    "# df_model"
   ]
  },
  {
   "cell_type": "code",
   "execution_count": 113,
   "metadata": {},
   "outputs": [
    {
     "data": {
      "text/html": [
       "<div>\n",
       "<style scoped>\n",
       "    .dataframe tbody tr th:only-of-type {\n",
       "        vertical-align: middle;\n",
       "    }\n",
       "\n",
       "    .dataframe tbody tr th {\n",
       "        vertical-align: top;\n",
       "    }\n",
       "\n",
       "    .dataframe thead th {\n",
       "        text-align: right;\n",
       "    }\n",
       "</style>\n",
       "<table border=\"1\" class=\"dataframe\">\n",
       "  <thead>\n",
       "    <tr style=\"text-align: right;\">\n",
       "      <th></th>\n",
       "      <th>id</th>\n",
       "      <th>model_upper_point</th>\n",
       "      <th>true_upper</th>\n",
       "      <th>model_lower_point</th>\n",
       "      <th>true_lower</th>\n",
       "    </tr>\n",
       "  </thead>\n",
       "  <tbody>\n",
       "    <tr>\n",
       "      <th>0</th>\n",
       "      <td>3AS30230885022718-374.87_left</td>\n",
       "      <td>139</td>\n",
       "      <td>137</td>\n",
       "      <td>196</td>\n",
       "      <td>197</td>\n",
       "    </tr>\n",
       "    <tr>\n",
       "      <th>1</th>\n",
       "      <td>3AS10759462080818-374.33_left</td>\n",
       "      <td>142</td>\n",
       "      <td>144</td>\n",
       "      <td>193</td>\n",
       "      <td>195</td>\n",
       "    </tr>\n",
       "    <tr>\n",
       "      <th>2</th>\n",
       "      <td>3BM07098338042518-374.87_left</td>\n",
       "      <td>144</td>\n",
       "      <td>143</td>\n",
       "      <td>175</td>\n",
       "      <td>176</td>\n",
       "    </tr>\n",
       "  </tbody>\n",
       "</table>\n",
       "</div>"
      ],
      "text/plain": [
       "                              id  model_upper_point  true_upper  \\\n",
       "0  3AS30230885022718-374.87_left                139         137   \n",
       "1  3AS10759462080818-374.33_left                142         144   \n",
       "2  3BM07098338042518-374.87_left                144         143   \n",
       "\n",
       "   model_lower_point  true_lower  \n",
       "0                196         197  \n",
       "1                193         195  \n",
       "2                175         176  "
      ]
     },
     "execution_count": 113,
     "metadata": {},
     "output_type": "execute_result"
    }
   ],
   "source": [
    "df_model = pd.DataFrame(model_result)\n",
    "df_ground_truth = pd.DataFrame(ground_truth_results)\n",
    "compare = df_model.merge(df_ground_truth, on = 'id')\n",
    "# def convert_to_mm(s):\n",
    "#     s.model_mrd1 = s.model_mrd1 / s.diameters_pixel * 11.65\n",
    "#     s.model_mrd2 = s.model_mrd2 / s.diameters_pixel * 11.65\n",
    "#     s.true_mrd1 = s.true_mrd1 / s.diameters_pixel * 11.65\n",
    "#     s.true_mrd2 = s.true_mrd2 / s.diameters_pixel * 11.65\n",
    "#     return s\n",
    "# compare = compare.apply(convert_to_mm, axis = 1)\n",
    "compare[['id', 'model_upper_point', 'true_upper', 'model_lower_point', 'true_lower']]"
   ]
  },
  {
   "cell_type": "code",
   "execution_count": 114,
   "metadata": {},
   "outputs": [],
   "source": [
    "# def show_img(s):\n",
    "#     show_two_eyes(s.true_image, s.model_img)\n",
    "# compare.apply(show_img, axis = 1)"
   ]
  },
  {
   "cell_type": "code",
   "execution_count": null,
   "metadata": {},
   "outputs": [],
   "source": []
  },
  {
   "cell_type": "code",
   "execution_count": null,
   "metadata": {},
   "outputs": [],
   "source": []
  },
  {
   "cell_type": "code",
   "execution_count": 13,
   "metadata": {},
   "outputs": [],
   "source": [
    "# print(\"[INFO] evaluating shape predictor...\")\n",
    "# error = dlib.test_shape_predictor(xml_file_path, predictor_path)\n",
    "# print(\"[INFO] error: {}\".format(error))"
   ]
  },
  {
   "cell_type": "code",
   "execution_count": null,
   "metadata": {},
   "outputs": [],
   "source": []
  },
  {
   "cell_type": "code",
   "execution_count": null,
   "metadata": {},
   "outputs": [],
   "source": []
  },
  {
   "cell_type": "code",
   "execution_count": null,
   "metadata": {},
   "outputs": [],
   "source": []
  },
  {
   "cell_type": "code",
   "execution_count": null,
   "metadata": {},
   "outputs": [],
   "source": []
  },
  {
   "cell_type": "code",
   "execution_count": null,
   "metadata": {},
   "outputs": [],
   "source": []
  },
  {
   "cell_type": "code",
   "execution_count": null,
   "metadata": {},
   "outputs": [],
   "source": []
  },
  {
   "cell_type": "markdown",
   "metadata": {},
   "source": [
    "# Apply image segmentation techniques \n",
    "- Note (04/01): In the following parts I tried to use the technique mentioned in the paper. But didn't get too much good results..."
   ]
  },
  {
   "cell_type": "code",
   "execution_count": 11,
   "metadata": {
    "scrolled": false
   },
   "outputs": [
    {
     "data": {
      "image/png": "[encoded data removed]",
      "text/plain": [
       "<Figure size 432x288 with 1 Axes>"
      ]
     },
     "metadata": {
      "needs_background": "light"
     },
     "output_type": "display_data"
    },
    {
     "data": {
      "image/png": "[encoded data removed]",
      "text/plain": [
       "<Figure size 432x288 with 1 Axes>"
      ]
     },
     "metadata": {
      "needs_background": "light"
     },
     "output_type": "display_data"
    }
   ],
   "source": [
    "from scipy.signal import convolve\n",
    "\n",
    "img = eyes[0][0]\n",
    "\n",
    "plt.imshow(img, cmap = 'gray')\n",
    "plt.axis('off')\n",
    "plt.title('original image')\n",
    "plt.show()\n",
    "\n",
    "# Vertical edge filter\n",
    "def vert_filter2d():\n",
    "    return np.array([[1, 0, -1]])\n",
    "\n",
    "vert_filter = vert_filter2d()\n",
    "y_grad_image = np.absolute(convolve(img, vert_filter, mode='same'))\n",
    "# y_grad_image = np.round(y_grad_image * 255 / (np.max(y_grad_image) - np.min(y_grad_image)))\n",
    "\n",
    "plt.imshow(y_grad_image)\n",
    "plt.axis('off')\n",
    "plt.title('vertical edges')\n",
    "plt.show()"
   ]
  },
  {
   "cell_type": "code",
   "execution_count": 12,
   "metadata": {},
   "outputs": [
    {
     "data": {
      "text/plain": [
       "(242, 242)"
      ]
     },
     "execution_count": 12,
     "metadata": {},
     "output_type": "execute_result"
    }
   ],
   "source": [
    "y_grad_image.shape"
   ]
  },
  {
   "cell_type": "code",
   "execution_count": 13,
   "metadata": {},
   "outputs": [
    {
     "data": {
      "text/plain": [
       "array([[  0,   0,   0, ...,   0,   0,   0],\n",
       "       [  0,   0,   0, ...,   0,   0,   0],\n",
       "       [  0, 140, 141, ...,   2, 199, 196],\n",
       "       ...,\n",
       "       [  0, 141, 136, ...,   0, 168, 167],\n",
       "       [  0, 144, 140, ...,   1, 173, 168],\n",
       "       [  0,   0,   0, ...,   0,   0,   0]])"
      ]
     },
     "execution_count": 13,
     "metadata": {},
     "output_type": "execute_result"
    }
   ],
   "source": [
    "y_grad_image"
   ]
  },
  {
   "cell_type": "code",
   "execution_count": 14,
   "metadata": {},
   "outputs": [
    {
     "data": {
      "text/plain": [
       "(Text(0.5, 1.0, 'Edge Image'),\n",
       " ([], <a list of 0 Text xticklabel objects>),\n",
       " ([], <a list of 0 Text yticklabel objects>))"
      ]
     },
     "execution_count": 14,
     "metadata": {},
     "output_type": "execute_result"
    },
    {
     "data": {
      "image/png": "[encoded data removed]",
      "text/plain": [
       "<Figure size 432x288 with 2 Axes>"
      ]
     },
     "metadata": {},
     "output_type": "display_data"
    }
   ],
   "source": [
    "edges = cv2.Canny(y_grad_image.astype(np.uint8), 50, 150)\n",
    "plt.subplot(121),plt.imshow(y_grad_image)\n",
    "plt.title('Original Image'), plt.xticks([]), plt.yticks([])\n",
    "plt.subplot(122),plt.imshow(edges,cmap = 'gray')\n",
    "plt.title('Edge Image'), plt.xticks([]), plt.yticks([])"
   ]
  },
  {
   "cell_type": "code",
   "execution_count": null,
   "metadata": {},
   "outputs": [],
   "source": []
  },
  {
   "cell_type": "code",
   "execution_count": 29,
   "metadata": {},
   "outputs": [],
   "source": [
    "# Finding vertical edges\n",
    "def verti_edges(img):\n",
    "    img = cv2.GaussianBlur(img, (5, 5), 0)\n",
    "\n",
    "#     # First, convolve to get vertical gradients\n",
    "#     def vert_filter2d():\n",
    "#         return np.array([[1, 0, -1]])\n",
    "#     vert_filter = vert_filter2d()\n",
    "#     y_grad_image = np.absolute(convolve(img, vert_filter, mode='same'))\n",
    "#     y_grad_image = np.round(y_grad_image * 255 / (np.max(y_grad_image) - np.min(y_grad_image))) # Normalize the image\n",
    "    \n",
    "#     # Then, detect the edges.\n",
    "#     edges = cv2.Canny(y_grad_image.astype(np.uint8), 50, 150, 3)\n",
    "#     return edges\n",
    "\n",
    "\n",
    "    # ------------ #\n",
    "    \n",
    "    # First, detect the edges.\n",
    "    edges = cv2.Canny(img.astype(np.uint8), 50, 150, 3)\n",
    "    \n",
    "    # Then, convolve to get vertical gradients\n",
    "    def vert_filter2d():\n",
    "        return np.array([[1, 0, -1]])\n",
    "    vert_filter = vert_filter2d()\n",
    "    y_grad_image = np.absolute(convolve(edges, vert_filter, mode='same'))\n",
    "    y_grad_image = np.round(y_grad_image * 255 / (np.max(y_grad_image) - np.min(y_grad_image))) # Normalize the image\n",
    "    \n",
    "    return y_grad_image\n",
    "    \n",
    "#     edges = np.round(edges * 255 / (np.max(edges) - np.min(edges)))\n",
    "#     edges = cv2.threshold(edges.astype(np.uint8), 10, 255, cv2.THRESH_BINARY)[1]\n",
    "    "
   ]
  },
  {
   "cell_type": "code",
   "execution_count": 30,
   "metadata": {
    "scrolled": true
   },
   "outputs": [
    {
     "data": {
      "image/png": "[encoded data removed]",
      "text/plain": [
       "<Figure size 432x288 with 1 Axes>"
      ]
     },
     "metadata": {
      "needs_background": "light"
     },
     "output_type": "display_data"
    },
    {
     "data": {
      "image/png": "[encoded data removed]",
      "text/plain": [
       "<Figure size 432x288 with 1 Axes>"
      ]
     },
     "metadata": {
      "needs_background": "light"
     },
     "output_type": "display_data"
    },
    {
     "data": {
      "image/png": "[encoded data removed]",
      "text/plain": [
       "<Figure size 432x288 with 1 Axes>"
      ]
     },
     "metadata": {
      "needs_background": "light"
     },
     "output_type": "display_data"
    },
    {
     "data": {
      "image/png": "[encoded data removed]",
      "text/plain": [
       "<Figure size 432x288 with 1 Axes>"
      ]
     },
     "metadata": {
      "needs_background": "light"
     },
     "output_type": "display_data"
    },
    {
     "data": {
      "image/png": "[encoded data removed]",
      "text/plain": [
       "<Figure size 432x288 with 1 Axes>"
      ]
     },
     "metadata": {
      "needs_background": "light"
     },
     "output_type": "display_data"
    },
    {
     "data": {
      "image/png": "[encoded data removed]",
      "text/plain": [
       "<Figure size 432x288 with 1 Axes>"
      ]
     },
     "metadata": {
      "needs_background": "light"
     },
     "output_type": "display_data"
    },
    {
     "data": {
      "image/png": "[encoded data removed]",
      "text/plain": [
       "<Figure size 432x288 with 1 Axes>"
      ]
     },
     "metadata": {
      "needs_background": "light"
     },
     "output_type": "display_data"
    },
    {
     "data": {
      "image/png": "[encoded data removed]",
      "text/plain": [
       "<Figure size 432x288 with 1 Axes>"
      ]
     },
     "metadata": {
      "needs_background": "light"
     },
     "output_type": "display_data"
    },
    {
     "data": {
      "image/png": "[encoded data removed]",
      "text/plain": [
       "<Figure size 432x288 with 1 Axes>"
      ]
     },
     "metadata": {
      "needs_background": "light"
     },
     "output_type": "display_data"
    },
    {
     "data": {
      "image/png": "[encoded data removed]",
      "text/plain": [
       "<Figure size 432x288 with 1 Axes>"
      ]
     },
     "metadata": {
      "needs_background": "light"
     },
     "output_type": "display_data"
    },
    {
     "data": {
      "image/png": "[encoded data removed]",
      "text/plain": [
       "<Figure size 432x288 with 1 Axes>"
      ]
     },
     "metadata": {
      "needs_background": "light"
     },
     "output_type": "display_data"
    },
    {
     "data": {
      "image/png": "[encoded data removed]",
      "text/plain": [
       "<Figure size 432x288 with 1 Axes>"
      ]
     },
     "metadata": {
      "needs_background": "light"
     },
     "output_type": "display_data"
    },
    {
     "data": {
      "image/png": "[encoded data removed]",
      "text/plain": [
       "<Figure size 432x288 with 1 Axes>"
      ]
     },
     "metadata": {
      "needs_background": "light"
     },
     "output_type": "display_data"
    },
    {
     "data": {
      "image/png": "[encoded data removed]",
      "text/plain": [
       "<Figure size 432x288 with 1 Axes>"
      ]
     },
     "metadata": {
      "needs_background": "light"
     },
     "output_type": "display_data"
    },
    {
     "data": {
      "image/png": "[encoded data removed]",
      "text/plain": [
       "<Figure size 432x288 with 1 Axes>"
      ]
     },
     "metadata": {
      "needs_background": "light"
     },
     "output_type": "display_data"
    },
    {
     "data": {
      "image/png": "[encoded data removed]",
      "text/plain": [
       "<Figure size 432x288 with 1 Axes>"
      ]
     },
     "metadata": {
      "needs_background": "light"
     },
     "output_type": "display_data"
    },
    {
     "data": {
      "image/png": "[encoded data removed]",
      "text/plain": [
       "<Figure size 432x288 with 1 Axes>"
      ]
     },
     "metadata": {
      "needs_background": "light"
     },
     "output_type": "display_data"
    },
    {
     "data": {
      "image/png": "[encoded data removed]",
      "text/plain": [
       "<Figure size 432x288 with 1 Axes>"
      ]
     },
     "metadata": {
      "needs_background": "light"
     },
     "output_type": "display_data"
    },
    {
     "data": {
      "image/png": "[encoded data removed]",
      "text/plain": [
       "<Figure size 432x288 with 1 Axes>"
      ]
     },
     "metadata": {
      "needs_background": "light"
     },
     "output_type": "display_data"
    },
    {
     "data": {
      "image/png": "[encoded data removed]",
      "text/plain": [
       "<Figure size 432x288 with 1 Axes>"
      ]
     },
     "metadata": {
      "needs_background": "light"
     },
     "output_type": "display_data"
    },
    {
     "data": {
      "image/png": "[encoded data removed]",
      "text/plain": [
       "<Figure size 432x288 with 1 Axes>"
      ]
     },
     "metadata": {
      "needs_background": "light"
     },
     "output_type": "display_data"
    },
    {
     "data": {
      "image/png": "[encoded data removed]",
      "text/plain": [
       "<Figure size 432x288 with 1 Axes>"
      ]
     },
     "metadata": {
      "needs_background": "light"
     },
     "output_type": "display_data"
    },
    {
     "data": {
      "image/png": "[encoded data removed]",
      "text/plain": [
       "<Figure size 432x288 with 1 Axes>"
      ]
     },
     "metadata": {
      "needs_background": "light"
     },
     "output_type": "display_data"
    },
    {
     "data": {
      "image/png": "[encoded data removed]",
      "text/plain": [
       "<Figure size 432x288 with 1 Axes>"
      ]
     },
     "metadata": {
      "needs_background": "light"
     },
     "output_type": "display_data"
    },
    {
     "data": {
      "image/png": "[encoded data removed]",
      "text/plain": [
       "<Figure size 432x288 with 1 Axes>"
      ]
     },
     "metadata": {
      "needs_background": "light"
     },
     "output_type": "display_data"
    },
    {
     "data": {
      "image/png": "[encoded data removed]",
      "text/plain": [
       "<Figure size 432x288 with 1 Axes>"
      ]
     },
     "metadata": {
      "needs_background": "light"
     },
     "output_type": "display_data"
    },
    {
     "data": {
      "image/png": "[encoded data removed]",
      "text/plain": [
       "<Figure size 432x288 with 1 Axes>"
      ]
     },
     "metadata": {
      "needs_background": "light"
     },
     "output_type": "display_data"
    },
    {
     "data": {
      "image/png": "[encoded data removed]",
      "text/plain": [
       "<Figure size 432x288 with 1 Axes>"
      ]
     },
     "metadata": {
      "needs_background": "light"
     },
     "output_type": "display_data"
    },
    {
     "data": {
      "image/png": "[encoded data removed]",
      "text/plain": [
       "<Figure size 432x288 with 1 Axes>"
      ]
     },
     "metadata": {
      "needs_background": "light"
     },
     "output_type": "display_data"
    },
    {
     "data": {
      "image/png": "[encoded data removed]",
      "text/plain": [
       "<Figure size 432x288 with 1 Axes>"
      ]
     },
     "metadata": {
      "needs_background": "light"
     },
     "output_type": "display_data"
    },
    {
     "data": {
      "image/png": "[encoded data removed]",
      "text/plain": [
       "<Figure size 432x288 with 1 Axes>"
      ]
     },
     "metadata": {
      "needs_background": "light"
     },
     "output_type": "display_data"
    },
    {
     "data": {
      "image/png": "[encoded data removed]",
      "text/plain": [
       "<Figure size 432x288 with 1 Axes>"
      ]
     },
     "metadata": {
      "needs_background": "light"
     },
     "output_type": "display_data"
    },
    {
     "data": {
      "image/png": "[encoded data removed]",
      "text/plain": [
       "<Figure size 432x288 with 1 Axes>"
      ]
     },
     "metadata": {
      "needs_background": "light"
     },
     "output_type": "display_data"
    },
    {
     "data": {
      "image/png": "[encoded data removed]",
      "text/plain": [
       "<Figure size 432x288 with 1 Axes>"
      ]
     },
     "metadata": {
      "needs_background": "light"
     },
     "output_type": "display_data"
    },
    {
     "data": {
      "image/png": "[encoded data removed]",
      "text/plain": [
       "<Figure size 432x288 with 1 Axes>"
      ]
     },
     "metadata": {
      "needs_background": "light"
     },
     "output_type": "display_data"
    },
    {
     "data": {
      "image/png": "[encoded data removed]",
      "text/plain": [
       "<Figure size 432x288 with 1 Axes>"
      ]
     },
     "metadata": {
      "needs_background": "light"
     },
     "output_type": "display_data"
    },
    {
     "data": {
      "image/png": "[encoded data removed]",
      "text/plain": [
       "<Figure size 432x288 with 1 Axes>"
      ]
     },
     "metadata": {
      "needs_background": "light"
     },
     "output_type": "display_data"
    },
    {
     "data": {
      "image/png": "[encoded data removed]",
      "text/plain": [
       "<Figure size 432x288 with 1 Axes>"
      ]
     },
     "metadata": {
      "needs_background": "light"
     },
     "output_type": "display_data"
    },
    {
     "data": {
      "image/png": "[encoded data removed]",
      "text/plain": [
       "<Figure size 432x288 with 1 Axes>"
      ]
     },
     "metadata": {
      "needs_background": "light"
     },
     "output_type": "display_data"
    },
    {
     "data": {
      "image/png": "[encoded data removed]",
      "text/plain": [
       "<Figure size 432x288 with 1 Axes>"
      ]
     },
     "metadata": {
      "needs_background": "light"
     },
     "output_type": "display_data"
    },
    {
     "data": {
      "image/png": "[encoded data removed]",
      "text/plain": [
       "<Figure size 432x288 with 1 Axes>"
      ]
     },
     "metadata": {
      "needs_background": "light"
     },
     "output_type": "display_data"
    }
   ],
   "source": [
    "count = 0\n",
    "for eye_pairs in eyes:\n",
    "    \n",
    "    show_two_eyes(verti_edges(eye_pairs[0]), verti_edges(eye_pairs[1]))\n",
    "\n",
    "#     count += 1\n",
    "#     if count > 10:\n",
    "#         break"
   ]
  },
  {
   "cell_type": "markdown",
   "metadata": {},
   "source": [
    "## Detect circles"
   ]
  },
  {
   "cell_type": "code",
   "execution_count": 62,
   "metadata": {},
   "outputs": [
    {
     "data": {
      "image/png": "[encoded data removed]",
      "text/plain": [
       "<Figure size 432x288 with 1 Axes>"
      ]
     },
     "metadata": {
      "needs_background": "light"
     },
     "output_type": "display_data"
    }
   ],
   "source": [
    "img = verti_edges(eyes[0][0]).astype(np.uint8)\n",
    "cimg = img.copy()\n",
    "plt.imshow(img)\n",
    "plt.show()"
   ]
  },
  {
   "cell_type": "code",
   "execution_count": 63,
   "metadata": {},
   "outputs": [],
   "source": [
    "circles = cv.HoughCircles(img, cv.HOUGH_GRADIENT, 1, 20, \\\n",
    "                            param1 = 200, param2 = 30, minRadius = 10)\n",
    "circles = np.uint16(np.around(circles))\n",
    "for i in circles[0,:]:\n",
    "    # draw the outer circle\n",
    "    cv.circle(cimg,(i[0],i[1]),i[2],(0,255,0),2)\n",
    "    # draw the center of the circle\n",
    "    cv.circle(cimg,(i[0],i[1]),2,(0,0,255),3)\n"
   ]
  },
  {
   "cell_type": "code",
   "execution_count": 69,
   "metadata": {},
   "outputs": [
    {
     "data": {
      "image/png": "[encoded data removed]",
      "text/plain": [
       "<Figure size 432x288 with 1 Axes>"
      ]
     },
     "metadata": {
      "needs_background": "light"
     },
     "output_type": "display_data"
    }
   ],
   "source": [
    "i = circles[0,:][0]\n",
    "cv.circle(cimg,(i[0],i[1]),i[2],(255,0,0),2)\n",
    "plt.imshow(cimg)\n",
    "plt.show()"
   ]
  },
  {
   "cell_type": "code",
   "execution_count": 65,
   "metadata": {},
   "outputs": [
    {
     "data": {
      "text/plain": [
       "array([[112, 154,  40]], dtype=uint16)"
      ]
     },
     "execution_count": 65,
     "metadata": {},
     "output_type": "execute_result"
    }
   ],
   "source": [
    "circles[0,:]"
   ]
  },
  {
   "cell_type": "markdown",
   "metadata": {},
   "source": [
    "# Circle detection"
   ]
  },
  {
   "cell_type": "code",
   "execution_count": null,
   "metadata": {},
   "outputs": [],
   "source": []
  },
  {
   "cell_type": "code",
   "execution_count": null,
   "metadata": {},
   "outputs": [],
   "source": [
    "def calc_circle_score(x, y, r, outline_img):\n",
    "    height, width = outline_img.shape\n",
    "    pi = math.pi\n",
    "    n = 100\n",
    "    points = [ (int(math.sin(2*pi / n*a)* r + y) , int(math.cos(2*pi / n*a) * r + x)) for a in range(0, n + 1) ]\n",
    "    score = sum([outline_img[p] > 50 for p in points if p[0] < height and p[1] < width]) / n\n",
    "    return score\n",
    "\n",
    "# Define text info\n",
    "font = cv2.FONT_HERSHEY_SIMPLEX\n",
    "fontScale = 0.3\n",
    "fontColor = (255, 255, 255)\n",
    "lineType = 1\n",
    "\n",
    "def circle_detection(origin_dir, outline_dir, outfile_dir, filename):\n",
    "    print('Processing file:', filename)\n",
    "    \n",
    "    # Loading files\n",
    "    outline_img = cv2.imread(outline_dir + 'outline_cropped_' + filename)\n",
    "    gray = cv2.cvtColor(outline_img, cv2.COLOR_BGR2GRAY)\n",
    "    orig_height, orig_width = gray.shape\n",
    "    \n",
    "    origin_gray = cv2.imread(origin_dir + filename, 0)\n",
    "    origin = cv2.imread(origin_dir + filename)\n",
    "    origin_cropped = origin_gray[int(orig_height / 6): int(orig_height / 6 * 5), int(orig_width / 6): int(orig_width / 6 * 5)]\n",
    "    \n",
    "    # Find the lightest point\n",
    "    origin_cropped = cv2.GaussianBlur(origin_cropped, (3, 3), 0)\n",
    "    (minVal, maxVal, minLoc, maxLoc) = cv2.minMaxLoc(origin_cropped)\n",
    "    max_x = maxLoc[0]\n",
    "    max_y = maxLoc[1]\n",
    "    \n",
    "    # Cropping\n",
    "    gray = gray[int(orig_height / 6): int(orig_height / 6 * 5), int(orig_width / 6): int(orig_width / 6 * 5)]\n",
    "    curr_height, curr_width = gray.shape\n",
    "    gray_blurred = cv2.GaussianBlur(gray, (3, 3), 0) # For score calculation\n",
    "    \n",
    "    # Finding circles (tuning the parameters)\n",
    "    best_x = -1\n",
    "    best_y = -1\n",
    "    best_r = -1\n",
    "    results = []\n",
    "    \n",
    "    r_tmp = int(curr_width / 6)\n",
    "    while True and r_tmp < int(curr_width / 3):\n",
    "        circles = cv2.HoughCircles(gray, cv2.HOUGH_GRADIENT, 3, (curr_width + 1),\n",
    "                      param1 = 30,\n",
    "                      param2 = 15,\n",
    "                      minRadius = r_tmp,\n",
    "                      maxRadius = int(curr_width / 3))\n",
    "        if circles is None:\n",
    "            r_tmp += 1\n",
    "            continue\n",
    "        circles = np.uint16(np.around(circles))\n",
    "        if len(circles[0,:]) == 0:\n",
    "            break\n",
    "        tmp_x = circles[0,:][0][0]\n",
    "        tmp_y = circles[0,:][0][1]\n",
    "        tmp_r = circles[0,:][0][2]\n",
    "        results.append(\n",
    "            (tmp_x, \n",
    "             tmp_y, \n",
    "             tmp_r, \n",
    "             (max_x - tmp_x) ** 2 + (max_y - tmp_y) ** 2,\n",
    "             calc_circle_score(tmp_x, tmp_y, tmp_r, gray_blurred))\n",
    "        )\n",
    "\n",
    "        r_tmp += 1\n",
    "    \n",
    "    # Finding the best circle\n",
    "    result_count = len(results) \n",
    "    results = sorted(results, key = lambda tup: tup[4], reverse = True) # Sort the circles by their score\n",
    "    results = results[ : min([result_count, 10]) ]\n",
    "    \n",
    "    result_count = len(results) \n",
    "    results = sorted(results, key = lambda tup: tup[3], reverse = False) # Sort the circles by their distance to lightest point\n",
    "    results = results[ : min([result_count, 5]) ]\n",
    "    \n",
    "    results = sorted(results, key = lambda tup: tup[2], reverse = True) # Sort the circles by their radius\n",
    "    best_x = results[0][0]\n",
    "    best_y = results[0][1]\n",
    "    best_r = results[0][2]\n",
    "    \n",
    "    # Find the upper and lower eyelid\n",
    "    y_upper = best_y\n",
    "    tmp_y = best_y\n",
    "    while tmp_y > best_y - best_r and tmp_y < curr_height:\n",
    "        if gray_blurred[(tmp_y, best_x)] > 20:\n",
    "            y_upper = tmp_y\n",
    "        tmp_y -= 1\n",
    "    \n",
    "    y_lower = best_y\n",
    "    tmp_y = best_y\n",
    "    while tmp_y < best_y + best_r and tmp_y < curr_height:\n",
    "        if gray_blurred[(tmp_y, best_x)] > 20:\n",
    "            y_lower = tmp_y\n",
    "        tmp_y += 1\n",
    "        \n",
    "    # Finalized, best circle\n",
    "    x = best_x + int(orig_height / 6)\n",
    "    y = best_y + int(orig_width / 6)\n",
    "    y_upper = y_upper + int(orig_height / 6)\n",
    "    y_lower = y_lower + int(orig_height / 6)\n",
    "    \n",
    "    # Draw the arrows to upper and lower eyelid\n",
    "    cv2.arrowedLine(origin, (x, y), (x, y_upper), (0, 0, 255), 2)\n",
    "    cv2.arrowedLine(origin, (x, y), (x, y_lower), (0, 0, 255), 2)\n",
    "    \n",
    "    # Drawing the best circle on the pic\n",
    "    cv2.circle(origin, (x, y), best_r, (0, 255, 0), 2)\n",
    "    cv2.circle(origin, (x, y), 2, (0, 255, 0), 5)\n",
    "    \n",
    "    upper_point = (x + best_r, y - best_r)\n",
    "    lower_point = (x + best_r, y + best_r)\n",
    "    \n",
    "    upper_in_mm = 11.65 * (y - y_upper) / (best_r * 2)\n",
    "    lower_in_mm = 11.65 * (y_lower - y) / (best_r * 2)\n",
    "    \n",
    "    cv2.putText(origin, str(upper_in_mm), upper_point, font, fontScale, fontColor, lineType)\n",
    "    cv2.putText(origin, str(lower_in_mm), lower_point, font, fontScale, fontColor, lineType)\n",
    "\n",
    "    cv2.imwrite('./Jacob/Stage2_output/detection/detected_' + filename , origin)"
   ]
  },
  {
   "cell_type": "code",
   "execution_count": null,
   "metadata": {},
   "outputs": [],
   "source": []
  }
 ],
 "metadata": {
  "kernelspec": {
   "display_name": "Python 3",
   "language": "python",
   "name": "python3"
  },
  "language_info": {
   "codemirror_mode": {
    "name": "ipython",
    "version": 3
   },
   "file_extension": ".py",
   "mimetype": "text/x-python",
   "name": "python",
   "nbconvert_exporter": "python",
   "pygments_lexer": "ipython3",
   "version": "3.6.7"
  },
  "toc": {
   "base_numbering": 1,
   "nav_menu": {},
   "number_sections": true,
   "sideBar": true,
   "skip_h1_title": false,
   "title_cell": "Table of Contents",
   "title_sidebar": "Contents",
   "toc_cell": false,
   "toc_position": {},
   "toc_section_display": true,
   "toc_window_display": false
  }
 },
 "nbformat": 4,
 "nbformat_minor": 2
}

{
 "cells": [
  {
   "cell_type": "code",
   "execution_count": 1,
   "metadata": {
    "colab": {
     "base_uri": "https://localhost:8080/",
     "height": 51
    },
    "colab_type": "code",
    "id": "NzuDPPuROPJQ",
    "outputId": "f955dc26-9297-4608-f0cd-ca9535461661"
   },
   "outputs": [
    {
     "name": "stderr",
     "output_type": "stream",
     "text": [
      "/usr/local/lib/python3.6/dist-packages/statsmodels/tools/_testing.py:19: FutureWarning: pandas.util.testing is deprecated. Use the functions in the public API at pandas.testing instead.\n",
      "  import pandas.util.testing as tm\n"
     ]
    }
   ],
   "source": [
    "import cv2 as cv\n",
    "import cv2\n",
    "from os import listdir\n",
    "import math\n",
    "import numpy as np\n",
    "from matplotlib.pyplot import imshow\n",
    "from matplotlib import pyplot as plt\n",
    "import pandas as pd\n",
    "from scipy import optimize\n",
    "from tqdm import tqdm\n",
    "import seaborn as sns\n",
    "import dlib"
   ]
  },
  {
   "cell_type": "code",
   "execution_count": 2,
   "metadata": {
    "colab": {
     "base_uri": "https://localhost:8080/",
     "height": 34
    },
    "colab_type": "code",
    "id": "IYZlrGsfOPJW",
    "outputId": "2eb4e900-4fb5-4e02-8a5b-51c1df21c3b2",
    "scrolled": true
   },
   "outputs": [
    {
     "data": {
      "text/plain": [
       "'4.1.2'"
      ]
     },
     "execution_count": 2,
     "metadata": {
      "tags": []
     },
     "output_type": "execute_result"
    }
   ],
   "source": [
    "cv2.__version__"
   ]
  },
  {
   "cell_type": "code",
   "execution_count": 3,
   "metadata": {
    "colab": {
     "base_uri": "https://localhost:8080/",
     "height": 34
    },
    "colab_type": "code",
    "id": "TBURRObyOPJa",
    "outputId": "cec086dc-2a46-49f9-ee40-f99025e80a66"
   },
   "outputs": [
    {
     "data": {
      "text/plain": [
       "'1.18.5'"
      ]
     },
     "execution_count": 3,
     "metadata": {
      "tags": []
     },
     "output_type": "execute_result"
    }
   ],
   "source": [
    "np.__version__"
   ]
  },
  {
   "cell_type": "code",
   "execution_count": 4,
   "metadata": {
    "colab": {
     "base_uri": "https://localhost:8080/",
     "height": 122
    },
    "colab_type": "code",
    "id": "ehnz8aLKOgh6",
    "outputId": "f9f4c306-a968-4ae9-b9ea-344195fe52d2"
   },
   "outputs": [
    {
     "name": "stdout",
     "output_type": "stream",
     "text": [
      "Go to this URL in a browser: https://accounts.google.com/o/oauth2/auth?client_id=947318989803-6bn6qk8qdgf4n4g3pfee6491hc0brc4i.apps.googleusercontent.com&redirect_uri=urn%3aietf%3awg%3aoauth%3a2.0%3aoob&response_type=code&scope=email%20https%3a%2f%2fwww.googleapis.com%2fauth%2fdocs.test%20https%3a%2f%2fwww.googleapis.com%2fauth%2fdrive%20https%3a%2f%2fwww.googleapis.com%2fauth%2fdrive.photos.readonly%20https%3a%2f%2fwww.googleapis.com%2fauth%2fpeopleapi.readonly\n",
      "\n",
      "Enter your authorization code:\n",
      "··········\n",
      "Mounted at /content/drive\n"
     ]
    }
   ],
   "source": [
    "from google.colab import drive\n",
    "drive.mount('/content/drive')\n",
    "file_dir = 'drive/My Drive/Dr Chao/notebooks/'\n",
    "# file_dir = './'"
   ]
  },
  {
   "cell_type": "markdown",
   "metadata": {
    "colab_type": "text",
    "id": "YR_6p_7aOPJm"
   },
   "source": [
    "# Setup"
   ]
  },
  {
   "cell_type": "code",
   "execution_count": null,
   "metadata": {
    "colab": {},
    "colab_type": "code",
    "id": "2RuWtoOsOPJm"
   },
   "outputs": [],
   "source": [
    "# haarcascade_path = '../outside_sources/haarcascade/'\n",
    "# sripts_path = '../sripts/facial_landmark/'\n",
    "# raw_data_path = '../data/raw/full/'\n",
    "# original_raw_data_path = '../data/raw/full_orig/'\n",
    "# labels_path = '../data/labels/'\n",
    "# output_img_path = '../data/final_outcome/'\n",
    "# model_path = '../models/'"
   ]
  },
  {
   "cell_type": "markdown",
   "metadata": {
    "colab_type": "text",
    "id": "A5SXdEkxOPJp"
   },
   "source": [
    "## Parse the labeled data from Dr. Liu and prepare testing & validation set"
   ]
  },
  {
   "cell_type": "code",
   "execution_count": null,
   "metadata": {
    "colab": {
     "base_uri": "https://localhost:8080/",
     "height": 289
    },
    "colab_type": "code",
    "id": "gLaYK9AbOPJq",
    "outputId": "e7e12e52-f698-49fc-eadb-c50af69ac3d6"
   },
   "outputs": [
    {
     "data": {
      "text/html": [
       "<div>\n",
       "<style scoped>\n",
       "    .dataframe tbody tr th:only-of-type {\n",
       "        vertical-align: middle;\n",
       "    }\n",
       "\n",
       "    .dataframe tbody tr th {\n",
       "        vertical-align: top;\n",
       "    }\n",
       "\n",
       "    .dataframe thead th {\n",
       "        text-align: right;\n",
       "    }\n",
       "</style>\n",
       "<table border=\"1\" class=\"dataframe\">\n",
       "  <thead>\n",
       "    <tr style=\"text-align: right;\">\n",
       "      <th></th>\n",
       "      <th>original_name</th>\n",
       "      <th>orderred_name</th>\n",
       "      <th>left_found</th>\n",
       "      <th>right_found</th>\n",
       "      <th>both_found</th>\n",
       "      <th>left_hard</th>\n",
       "      <th>right_hard</th>\n",
       "      <th>left_failed</th>\n",
       "      <th>right_failed</th>\n",
       "    </tr>\n",
       "  </thead>\n",
       "  <tbody>\n",
       "    <tr>\n",
       "      <th>0</th>\n",
       "      <td>2MM23355506081418-375.22.JPG</td>\n",
       "      <td>1.jpg</td>\n",
       "      <td>1</td>\n",
       "      <td>1</td>\n",
       "      <td>1</td>\n",
       "      <td>0</td>\n",
       "      <td>0</td>\n",
       "      <td>0</td>\n",
       "      <td>0</td>\n",
       "    </tr>\n",
       "    <tr>\n",
       "      <th>1</th>\n",
       "      <td>2ES30404089011618-374.87.JPG</td>\n",
       "      <td>2.jpg</td>\n",
       "      <td>1</td>\n",
       "      <td>1</td>\n",
       "      <td>1</td>\n",
       "      <td>0</td>\n",
       "      <td>0</td>\n",
       "      <td>0</td>\n",
       "      <td>0</td>\n",
       "    </tr>\n",
       "    <tr>\n",
       "      <th>2</th>\n",
       "      <td>2MR10489169120318-374.87.JPG</td>\n",
       "      <td>3.jpg</td>\n",
       "      <td>1</td>\n",
       "      <td>1</td>\n",
       "      <td>1</td>\n",
       "      <td>0</td>\n",
       "      <td>0</td>\n",
       "      <td>0</td>\n",
       "      <td>0</td>\n",
       "    </tr>\n",
       "    <tr>\n",
       "      <th>3</th>\n",
       "      <td>2DM15140817020618-374.33.JPG</td>\n",
       "      <td>4.jpg</td>\n",
       "      <td>1</td>\n",
       "      <td>0</td>\n",
       "      <td>0</td>\n",
       "      <td>0</td>\n",
       "      <td>0</td>\n",
       "      <td>0</td>\n",
       "      <td>1</td>\n",
       "    </tr>\n",
       "    <tr>\n",
       "      <th>4</th>\n",
       "      <td>2FM16841546011618-374.33.JPG</td>\n",
       "      <td>5.jpg</td>\n",
       "      <td>0</td>\n",
       "      <td>0</td>\n",
       "      <td>0</td>\n",
       "      <td>0</td>\n",
       "      <td>0</td>\n",
       "      <td>1</td>\n",
       "      <td>1</td>\n",
       "    </tr>\n",
       "  </tbody>\n",
       "</table>\n",
       "</div>"
      ],
      "text/plain": [
       "                  original_name orderred_name  ...  left_failed  right_failed\n",
       "0  2MM23355506081418-375.22.JPG         1.jpg  ...            0             0\n",
       "1  2ES30404089011618-374.87.JPG         2.jpg  ...            0             0\n",
       "2  2MR10489169120318-374.87.JPG         3.jpg  ...            0             0\n",
       "3  2DM15140817020618-374.33.JPG         4.jpg  ...            0             1\n",
       "4  2FM16841546011618-374.33.JPG         5.jpg  ...            1             1\n",
       "\n",
       "[5 rows x 9 columns]"
      ]
     },
     "execution_count": 86,
     "metadata": {
      "tags": []
     },
     "output_type": "execute_result"
    }
   ],
   "source": [
    "df_img_info = pd.read_csv(file_dir + '../data/processed/df_img_info.csv')\n",
    "df_img_info.head()"
   ]
  },
  {
   "cell_type": "code",
   "execution_count": null,
   "metadata": {
    "colab": {
     "base_uri": "https://localhost:8080/",
     "height": 34
    },
    "colab_type": "code",
    "id": "4tHYIYWZOPJt",
    "outputId": "bf2d2f41-7a76-4d79-cb61-48dc9798399a"
   },
   "outputs": [
    {
     "name": "stdout",
     "output_type": "stream",
     "text": [
      "100\n"
     ]
    }
   ],
   "source": [
    "df_img_info = pd.read_csv(file_dir + '../data/processed/df_img_info.csv')\n",
    "\n",
    "labeled_data_dir = file_dir + '../data/processed/left_akg_all/'\n",
    "lebel_file_dir = file_dir + '../data/labels/cl/'\n",
    "all_testing_img = []\n",
    "for label in listdir(lebel_file_dir):\n",
    "    tmp_name = label.replace('_left.txt', '.JPG')\n",
    "    tmp_df = df_img_info.query('original_name == \"' + tmp_name + '\"')\n",
    "    if tmp_df.shape[0] == 0:\n",
    "        print('Something wrong with:', label)\n",
    "        continue\n",
    "    orderred_img_idx = int(tmp_df.orderred_name.iloc[0].replace('.jpg', ''))\n",
    "    all_testing_img.append(orderred_img_idx)\n",
    "print(len(all_testing_img))"
   ]
  },
  {
   "cell_type": "markdown",
   "metadata": {
    "colab_type": "text",
    "id": "9-p3N69uOPJw"
   },
   "source": [
    "# Preprocessing the images"
   ]
  },
  {
   "cell_type": "markdown",
   "metadata": {
    "colab_type": "text",
    "id": "8w5g1ED4OPJx"
   },
   "source": [
    "### Convert the file names, uncommon if files are not numberred"
   ]
  },
  {
   "cell_type": "code",
   "execution_count": null,
   "metadata": {
    "colab": {},
    "colab_type": "code",
    "id": "QugLee-9OPJx"
   },
   "outputs": [],
   "source": [
    "# curr_file_count = 0\n",
    "# for filename in listdir(raw_data_path):\n",
    "#     try:\n",
    "#         cv2.imread(original_raw_data_path + filename)\n",
    "#         curr_file_count += 1\n",
    "#     except:\n",
    "#         continue\n",
    "# print('Currently have:', curr_file_count, 'file(s) as raw data.')\n",
    "# # count = curr_file_count + 1\n",
    "# count = 1\n",
    "\n",
    "# mapping_from_old = []\n",
    "# for filename in listdir(original_raw_data_path):\n",
    "#     try:\n",
    "#         img = cv2.imread(original_raw_data_path + filename)\n",
    "#     except:\n",
    "#         print('[ERROR] Cannot read file:', filename)\n",
    "#         continue\n",
    "#     cv2.imwrite(raw_data_path + str(count) + '.jpg', img) \n",
    "#     mapping_from_old.append({\n",
    "#         'original_name': filename,\n",
    "#         'orderred_name': str(count) + '.jpg'\n",
    "#     })\n",
    "#     count += 1"
   ]
  },
  {
   "cell_type": "code",
   "execution_count": null,
   "metadata": {
    "colab": {},
    "colab_type": "code",
    "id": "op94-ILfOPJ4",
    "outputId": "5f2ad015-8351-4f31-c6e3-9760540fee55"
   },
   "outputs": [
    {
     "name": "stdout",
     "output_type": "stream",
     "text": [
      "Count of images: 269\n"
     ]
    }
   ],
   "source": [
    "list_of_files = listdir(raw_data_path)\n",
    "print('Count of images:', len(list_of_files))"
   ]
  },
  {
   "cell_type": "code",
   "execution_count": null,
   "metadata": {
    "colab": {},
    "colab_type": "code",
    "id": "Rq2SZZwQOPJ7",
    "outputId": "faa46797-ce94-48a6-fbb7-0e03a46f849f"
   },
   "outputs": [
    {
     "data": {
      "text/html": [
       "<div>\n",
       "<style scoped>\n",
       "    .dataframe tbody tr th:only-of-type {\n",
       "        vertical-align: middle;\n",
       "    }\n",
       "\n",
       "    .dataframe tbody tr th {\n",
       "        vertical-align: top;\n",
       "    }\n",
       "\n",
       "    .dataframe thead th {\n",
       "        text-align: right;\n",
       "    }\n",
       "</style>\n",
       "<table border=\"1\" class=\"dataframe\">\n",
       "  <thead>\n",
       "    <tr style=\"text-align: right;\">\n",
       "      <th></th>\n",
       "      <th>original_name</th>\n",
       "      <th>orderred_name</th>\n",
       "      <th>left_found</th>\n",
       "      <th>right_found</th>\n",
       "      <th>both_found</th>\n",
       "      <th>left_hard</th>\n",
       "      <th>right_hard</th>\n",
       "      <th>left_failed</th>\n",
       "      <th>right_failed</th>\n",
       "    </tr>\n",
       "  </thead>\n",
       "  <tbody>\n",
       "    <tr>\n",
       "      <th>0</th>\n",
       "      <td>2MM23355506081418-375.22.JPG</td>\n",
       "      <td>1.jpg</td>\n",
       "      <td>1</td>\n",
       "      <td>1</td>\n",
       "      <td>1</td>\n",
       "      <td>0</td>\n",
       "      <td>0</td>\n",
       "      <td>0</td>\n",
       "      <td>0</td>\n",
       "    </tr>\n",
       "    <tr>\n",
       "      <th>1</th>\n",
       "      <td>2ES30404089011618-374.87.JPG</td>\n",
       "      <td>2.jpg</td>\n",
       "      <td>1</td>\n",
       "      <td>1</td>\n",
       "      <td>1</td>\n",
       "      <td>0</td>\n",
       "      <td>0</td>\n",
       "      <td>0</td>\n",
       "      <td>0</td>\n",
       "    </tr>\n",
       "    <tr>\n",
       "      <th>2</th>\n",
       "      <td>2MR10489169120318-374.87.JPG</td>\n",
       "      <td>3.jpg</td>\n",
       "      <td>1</td>\n",
       "      <td>1</td>\n",
       "      <td>1</td>\n",
       "      <td>0</td>\n",
       "      <td>0</td>\n",
       "      <td>0</td>\n",
       "      <td>0</td>\n",
       "    </tr>\n",
       "    <tr>\n",
       "      <th>3</th>\n",
       "      <td>2DM15140817020618-374.33.JPG</td>\n",
       "      <td>4.jpg</td>\n",
       "      <td>1</td>\n",
       "      <td>0</td>\n",
       "      <td>0</td>\n",
       "      <td>0</td>\n",
       "      <td>0</td>\n",
       "      <td>0</td>\n",
       "      <td>1</td>\n",
       "    </tr>\n",
       "    <tr>\n",
       "      <th>4</th>\n",
       "      <td>2FM16841546011618-374.33.JPG</td>\n",
       "      <td>5.jpg</td>\n",
       "      <td>0</td>\n",
       "      <td>0</td>\n",
       "      <td>0</td>\n",
       "      <td>0</td>\n",
       "      <td>0</td>\n",
       "      <td>1</td>\n",
       "      <td>1</td>\n",
       "    </tr>\n",
       "  </tbody>\n",
       "</table>\n",
       "</div>"
      ],
      "text/plain": [
       "                  original_name orderred_name  left_found  right_found  \\\n",
       "0  2MM23355506081418-375.22.JPG         1.jpg           1            1   \n",
       "1  2ES30404089011618-374.87.JPG         2.jpg           1            1   \n",
       "2  2MR10489169120318-374.87.JPG         3.jpg           1            1   \n",
       "3  2DM15140817020618-374.33.JPG         4.jpg           1            0   \n",
       "4  2FM16841546011618-374.33.JPG         5.jpg           0            0   \n",
       "\n",
       "   both_found  left_hard  right_hard  left_failed  right_failed  \n",
       "0           1          0           0            0             0  \n",
       "1           1          0           0            0             0  \n",
       "2           1          0           0            0             0  \n",
       "3           0          0           0            0             1  \n",
       "4           0          0           0            1             1  "
      ]
     },
     "execution_count": 6,
     "metadata": {
      "tags": []
     },
     "output_type": "execute_result"
    }
   ],
   "source": [
    "# df_img_info = pd.DataFrame(mapping_from_old)\n",
    "# df_img_info.to_csv('../data/labels/df_img_info.csv', index = False)\n",
    "df_img_info = pd.read_csv('../data/processed/df_img_info.csv')\n",
    "df_img_info.head()"
   ]
  },
  {
   "cell_type": "code",
   "execution_count": null,
   "metadata": {
    "colab": {},
    "colab_type": "code",
    "id": "SFDX2nsGOPJ-",
    "outputId": "b8207e59-5695-4a33-c4eb-63df4ef49a81"
   },
   "outputs": [
    {
     "data": {
      "text/plain": [
       "(269, 9)"
      ]
     },
     "execution_count": 7,
     "metadata": {
      "tags": []
     },
     "output_type": "execute_result"
    }
   ],
   "source": [
    "df_img_info.shape"
   ]
  },
  {
   "cell_type": "code",
   "execution_count": null,
   "metadata": {
    "colab": {},
    "colab_type": "code",
    "id": "YZ1OA5QWOPKB"
   },
   "outputs": [],
   "source": []
  },
  {
   "cell_type": "markdown",
   "metadata": {
    "colab_type": "text",
    "id": "91bweE4jOPKD"
   },
   "source": [
    "## Check if the raw data is ready"
   ]
  },
  {
   "cell_type": "code",
   "execution_count": null,
   "metadata": {
    "colab": {},
    "colab_type": "code",
    "id": "fdwQhkw-OPKE",
    "outputId": "723f30d7-1e9b-439b-d9fd-ca33f4d453e2"
   },
   "outputs": [
    {
     "name": "stdout",
     "output_type": "stream",
     "text": [
      "[SETUP] Data is ready!\n"
     ]
    }
   ],
   "source": [
    "ready = False\n",
    "for file in listdir(raw_data_path):\n",
    "    if 'png' in file or 'jpg' in file or 'JPG' in file:\n",
    "        ready = True\n",
    "        break\n",
    "if ready:\n",
    "    print('[SETUP] Data is ready!')\n",
    "else:\n",
    "    print('[SETUP] Data is NOT ready!')"
   ]
  },
  {
   "cell_type": "markdown",
   "metadata": {
    "colab_type": "text",
    "id": "BV51yZc9OPKG"
   },
   "source": [
    "# Detect Eyes\n",
    "## Step1: Use OpenCV CascadeClassifier"
   ]
  },
  {
   "cell_type": "code",
   "execution_count": null,
   "metadata": {
    "colab": {},
    "colab_type": "code",
    "id": "P9tYDouBOPKG"
   },
   "outputs": [],
   "source": [
    "import copy"
   ]
  },
  {
   "cell_type": "code",
   "execution_count": null,
   "metadata": {
    "colab": {},
    "colab_type": "code",
    "id": "7DCkbvEAOPKJ"
   },
   "outputs": [],
   "source": [
    "def detect_eye(directory, filename):\n",
    "    '''\n",
    "    input:\n",
    "        directory: directory to the input image (in RGB)\n",
    "        filename: name of the file\n",
    "    output:\n",
    "        img1: image segmentation of one of an eye (type: np.ndarray)\n",
    "        img2: image segmentation of another eye (type: np.ndarray)\n",
    "        outpue: original image with the rectangle plotted on the segmented areas\n",
    "    '''\n",
    "    # 1. Readin the image and return if there is an error\n",
    "    print('=================================')\n",
    "    print('Now Processing:', filename + '...')\n",
    "    try:\n",
    "        gray = cv2.imread(directory + filename, 0)\n",
    "        output = cv2.imread(directory + filename, 0)\n",
    "    except:\n",
    "        print(filename, 'is not an image!')\n",
    "        return -1, -1, -1\n",
    "    \n",
    "    # 2. Processing image - detect eyes using CascadeClassifier\n",
    "    gray = cv2.medianBlur(gray, 7)\n",
    "#     gray = cv2.GaussianBlur(gray, (5,5), 0)\n",
    "    \n",
    "    # [OLD WAY]\n",
    "    eye_cascade = cv2.CascadeClassifier(haarcascade_path + 'haarcascade_eye.xml')\n",
    "    eyes = eye_cascade.detectMultiScale(gray)\n",
    "    if len(eyes) < 2:\n",
    "        print('[Error!] Stupit classifier!!!')\n",
    "        return -1, -1, -1\n",
    "    # Pick the two \"eyes\" with largest sizes\n",
    "    eyes = sorted(eyes, key = lambda x: x[2] + x[3], reverse = True)[:2]\n",
    "    # Sort the \"eyes\" by their x position\n",
    "    eyes = sorted(eyes, key = lambda x: x[0], reverse = False)  \n",
    "    # 3. Crop the original image and return the two eye segments\n",
    "    result = []\n",
    "    for (ex,ey,ew,eh) in eyes:\n",
    "        eye = output[ey-25:ey + eh + 25, ex - 25:ex + ew + 25]\n",
    "        result.append(eye)\n",
    "    \n",
    "    print('Done processing:', filename + '!')\n",
    "    return result[0], result[1], output"
   ]
  },
  {
   "cell_type": "code",
   "execution_count": null,
   "metadata": {
    "colab": {},
    "colab_type": "code",
    "id": "Wod3eXS-OPKM"
   },
   "outputs": [],
   "source": [
    "# def detect_eye(directory, filename):\n",
    "#     '''\n",
    "#     input:\n",
    "#         directory: directory to the input image (in RGB)\n",
    "#         filename: name of the file\n",
    "#     output:\n",
    "#         img1: image segmentation of one of an eye (type: np.ndarray)\n",
    "#         img2: image segmentation of another eye (type: np.ndarray)\n",
    "#         outpue: original image with the rectangle plotted on the segmented areas\n",
    "#     '''\n",
    "#     # 1. Readin the image and return if there is an error\n",
    "#     print('=================================')\n",
    "#     print('Now Processing:', filename + '...')\n",
    "#     try:\n",
    "#         gray = cv2.imread(directory + filename, 0)\n",
    "#         output = cv2.imread(directory + filename)\n",
    "#     except:\n",
    "#         print(filename, 'is not an image!')\n",
    "#         return -1, -1, -1\n",
    "    \n",
    "#     # 2. Processing image - detect eyes using CascadeClassifier\n",
    "#     gray = cv2.medianBlur(gray, 5)\n",
    "# #     gray = cv2.GaussianBlur(gray, (5,5), 0)\n",
    "    \n",
    "#     # [NEW WAY]    \n",
    "#     left_eye_cascade = cv2.CascadeClassifier(haarcascade_path + 'haarcascade_lefteye_2splits.xml')\n",
    "#     left_eyes = left_eye_cascade.detectMultiScale(gray)\n",
    "#     right_eye_cascade = cv2.CascadeClassifier(haarcascade_path + 'haarcascade_righteye_2splits.xml')\n",
    "#     right_eyes = right_eye_cascade.detectMultiScale(gray)\n",
    "    \n",
    "    \n",
    "#     if len(left_eyes) < 1 or len(right_eyes) < 1:\n",
    "#         eye_cascade = cv2.CascadeClassifier(haarcascade_path + 'haarcascade_eye.xml')\n",
    "#         eyes = eye_cascade.detectMultiScale(gray)\n",
    "#         if len(eyes) < 2:\n",
    "#             print('[Error!] Stupit classifier!!!')\n",
    "#             return -1, -1, -1\n",
    "#         if len(left_eyes) < 1:\n",
    "#             print('[DEBUG] Left splider failed')\n",
    "#             left_eyes = copy.deepcopy(eyes)\n",
    "#         if len(right_eyes) < 1:\n",
    "#             print('[DEBUG] Right splider failed')\n",
    "#             right_eyes = copy.deepcopy(eyes)\n",
    "    \n",
    "#     def compare_eyes(e1, e2):\n",
    "#         return (sum(np.square(e1 - e2))) ** (1/2)\n",
    "#     all_result = []\n",
    "#     for (lex,ley,lew,leh) in left_eyes:\n",
    "#         for (rex,rey,rew,reh) in right_eyes:\n",
    "#             if lex <= rex:\n",
    "#                 continue\n",
    "#             e1 = np.array([ley,lew,leh])\n",
    "#             e2 = np.array([rey,rew,reh])\n",
    "#             score = (-1) * (compare_eyes(e1, e2) - lew - rew - abs(lex - rex))\n",
    "#             if abs(rex - lex) < min([lew, rew]):\n",
    "#                 continue\n",
    "#             all_result.append( (score, (rex,rey,rew,reh), (lex,ley,lew,leh)) )\n",
    "#     result = []\n",
    "    \n",
    "#     if len(all_result) > 0:\n",
    "#         all_result = sorted(all_result, key = lambda x: x[0], reverse = True)  \n",
    "#         rex,rey,rew,reh = all_result[0][1]\n",
    "#         lex,ley,lew,leh = all_result[0][2]\n",
    "#         result.append(output[rey-25:rey + reh + 25, rex - 25:rex + rew + 25])\n",
    "#         result.append(output[ley-25:ley + leh + 25, lex - 25:lex + lew + 25])\n",
    "#     else:\n",
    "#         print('[Error!] Stupit classifier!!!')\n",
    "#         return -1, -1, -1\n",
    "    \n",
    "#     print('Done processing:', filename + '!')\n",
    "#     return result[0], result[1], output"
   ]
  },
  {
   "cell_type": "code",
   "execution_count": null,
   "metadata": {
    "colab": {},
    "colab_type": "code",
    "id": "8S3fmZicOPKQ"
   },
   "outputs": [],
   "source": []
  },
  {
   "cell_type": "code",
   "execution_count": null,
   "metadata": {
    "colab": {},
    "colab_type": "code",
    "id": "W9796hn1OPKV"
   },
   "outputs": [],
   "source": [
    "# eye1, eye2, out = detect_eye(raw_data_path, '8.jpg')\n",
    "# face_cascade = cv2.CascadeClassifier(haarcascade_path + 'haarcascade_frontalface_default.xml') \n",
    "# eye_cascade = cv2.CascadeClassifier(haarcascade_path + 'haarcascade_lefteye_2splits.xml')\n",
    "# img = cv2.imread(raw_data_path + '54.jpg')\n",
    "# gray = cv2.cvtColor(img, cv2.COLOR_BGR2GRAY) \n",
    "# faces = face_cascade.detectMultiScale(gray, 1.3, 5) \n",
    "# count = 0\n",
    "# for (x,y,w,h) in faces: \n",
    "#     cv2.rectangle(img,(x,y),(x+w,y+h),(255,255,0),2) \n",
    "#     roi_gray = gray[y:y+h, x:x+w] \n",
    "#     roi_color = img[y:y+h, x:x+w] \n",
    "#     eyes = eye_cascade.detectMultiScale(roi_gray) \n",
    "#     print(eyes)\n",
    "#     for (ex,ey,ew,eh) in eyes: \n",
    "#         cv2.rectangle(roi_color,(ex,ey),(ex+ew,ey+eh),(0,127,255),2) \n",
    "#     count +=1 \n",
    "# plt.imshow(img)"
   ]
  },
  {
   "cell_type": "code",
   "execution_count": null,
   "metadata": {
    "colab": {},
    "colab_type": "code",
    "id": "zEMgzuIWOPKY",
    "outputId": "432df7b1-fbab-4bac-92c1-877fe4205b6a"
   },
   "outputs": [
    {
     "data": {
      "text/plain": [
       "269"
      ]
     },
     "execution_count": 16,
     "metadata": {
      "tags": []
     },
     "output_type": "execute_result"
    }
   ],
   "source": [
    "len(list_of_files)"
   ]
  },
  {
   "cell_type": "code",
   "execution_count": null,
   "metadata": {
    "colab": {},
    "colab_type": "code",
    "id": "EFiHR8K0OPKb",
    "outputId": "d8794caa-2484-4b7e-ad65-64252a6ab13b",
    "scrolled": true
   },
   "outputs": [
    {
     "name": "stdout",
     "output_type": "stream",
     "text": [
      "=================================\n",
      "Now Processing: 189.jpg...\n",
      "Done processing: 189.jpg!\n",
      "=================================\n",
      "Now Processing: 190.jpg...\n",
      "Done processing: 190.jpg!\n",
      "=================================\n",
      "Now Processing: 191.jpg...\n",
      "Done processing: 191.jpg!\n",
      "=================================\n",
      "Now Processing: 192.jpg...\n",
      "Done processing: 192.jpg!\n",
      "=================================\n",
      "Now Processing: 193.jpg...\n",
      "Done processing: 193.jpg!\n",
      "=================================\n",
      "Now Processing: 194.jpg...\n",
      "Done processing: 194.jpg!\n",
      "=================================\n",
      "Now Processing: 195.jpg...\n",
      "Done processing: 195.jpg!\n",
      "=================================\n",
      "Now Processing: 196.jpg...\n",
      "Done processing: 196.jpg!\n",
      "=================================\n",
      "Now Processing: 197.jpg...\n",
      "Done processing: 197.jpg!\n",
      "=================================\n",
      "Now Processing: 198.jpg...\n",
      "Done processing: 198.jpg!\n",
      "=================================\n",
      "Now Processing: 199.jpg...\n",
      "Done processing: 199.jpg!\n",
      "=================================\n",
      "Now Processing: 200.jpg...\n",
      "Done processing: 200.jpg!\n",
      "=================================\n",
      "Now Processing: 201.jpg...\n",
      "Done processing: 201.jpg!\n",
      "=================================\n",
      "Now Processing: 202.jpg...\n",
      "Done processing: 202.jpg!\n",
      "=================================\n",
      "Now Processing: 203.jpg...\n",
      "Done processing: 203.jpg!\n",
      "=================================\n",
      "Now Processing: 204.jpg...\n",
      "Done processing: 204.jpg!\n",
      "=================================\n",
      "Now Processing: 205.jpg...\n",
      "Done processing: 205.jpg!\n",
      "=================================\n",
      "Now Processing: 206.jpg...\n",
      "Done processing: 206.jpg!\n",
      "=================================\n",
      "Now Processing: 207.jpg...\n",
      "Done processing: 207.jpg!\n",
      "=================================\n",
      "Now Processing: 208.jpg...\n",
      "Done processing: 208.jpg!\n",
      "=================================\n",
      "Now Processing: 209.jpg...\n",
      "Done processing: 209.jpg!\n",
      "=================================\n",
      "Now Processing: 210.jpg...\n",
      "Done processing: 210.jpg!\n",
      "=================================\n",
      "Now Processing: 211.jpg...\n",
      "Done processing: 211.jpg!\n",
      "=================================\n",
      "Now Processing: 212.jpg...\n",
      "Done processing: 212.jpg!\n",
      "=================================\n",
      "Now Processing: 213.jpg...\n",
      "Done processing: 213.jpg!\n",
      "=================================\n",
      "Now Processing: 214.jpg...\n",
      "Done processing: 214.jpg!\n",
      "=================================\n",
      "Now Processing: 215.jpg...\n",
      "Done processing: 215.jpg!\n",
      "=================================\n",
      "Now Processing: 216.jpg...\n",
      "Done processing: 216.jpg!\n",
      "=================================\n",
      "Now Processing: 217.jpg...\n",
      "Done processing: 217.jpg!\n",
      "=================================\n",
      "Now Processing: 218.jpg...\n",
      "Done processing: 218.jpg!\n",
      "=================================\n",
      "Now Processing: 219.jpg...\n",
      "Done processing: 219.jpg!\n",
      "=================================\n",
      "Now Processing: 220.jpg...\n",
      "Done processing: 220.jpg!\n",
      "=================================\n",
      "Now Processing: 221.jpg...\n",
      "Done processing: 221.jpg!\n",
      "=================================\n",
      "Now Processing: 222.jpg...\n",
      "Done processing: 222.jpg!\n",
      "=================================\n",
      "Now Processing: 223.jpg...\n",
      "Done processing: 223.jpg!\n",
      "=================================\n",
      "Now Processing: 224.jpg...\n",
      "Done processing: 224.jpg!\n",
      "=================================\n",
      "Now Processing: 225.jpg...\n",
      "Done processing: 225.jpg!\n",
      "=================================\n",
      "Now Processing: 226.jpg...\n",
      "Done processing: 226.jpg!\n",
      "=================================\n",
      "Now Processing: 227.jpg...\n",
      "Done processing: 227.jpg!\n",
      "=================================\n",
      "Now Processing: 228.jpg...\n",
      "Done processing: 228.jpg!\n",
      "=================================\n",
      "Now Processing: 229.jpg...\n",
      "Done processing: 229.jpg!\n",
      "=================================\n",
      "Now Processing: 230.jpg...\n",
      "Done processing: 230.jpg!\n",
      "=================================\n",
      "Now Processing: 231.jpg...\n",
      "Done processing: 231.jpg!\n",
      "=================================\n",
      "Now Processing: 232.jpg...\n",
      "Done processing: 232.jpg!\n",
      "=================================\n",
      "Now Processing: 233.jpg...\n",
      "Done processing: 233.jpg!\n",
      "=================================\n",
      "Now Processing: 234.jpg...\n",
      "Done processing: 234.jpg!\n",
      "=================================\n",
      "Now Processing: 235.jpg...\n",
      "Done processing: 235.jpg!\n",
      "=================================\n",
      "Now Processing: 236.jpg...\n",
      "Done processing: 236.jpg!\n",
      "=================================\n",
      "Now Processing: 237.jpg...\n",
      "Done processing: 237.jpg!\n",
      "=================================\n",
      "Now Processing: 238.jpg...\n",
      "Done processing: 238.jpg!\n",
      "=================================\n",
      "Now Processing: 239.jpg...\n",
      "Done processing: 239.jpg!\n",
      "=================================\n",
      "Now Processing: 240.jpg...\n",
      "Done processing: 240.jpg!\n",
      "=================================\n",
      "Now Processing: 241.jpg...\n",
      "Done processing: 241.jpg!\n",
      "=================================\n",
      "Now Processing: 242.jpg...\n",
      "Done processing: 242.jpg!\n",
      "=================================\n",
      "Now Processing: 243.jpg...\n",
      "Done processing: 243.jpg!\n",
      "=================================\n",
      "Now Processing: 244.jpg...\n",
      "Done processing: 244.jpg!\n",
      "=================================\n",
      "Now Processing: 245.jpg...\n",
      "Done processing: 245.jpg!\n",
      "=================================\n",
      "Now Processing: 246.jpg...\n",
      "Done processing: 246.jpg!\n",
      "=================================\n",
      "Now Processing: 247.jpg...\n",
      "Done processing: 247.jpg!\n",
      "=================================\n",
      "Now Processing: 248.jpg...\n",
      "Done processing: 248.jpg!\n",
      "=================================\n",
      "Now Processing: 249.jpg...\n",
      "Done processing: 249.jpg!\n",
      "=================================\n",
      "Now Processing: 250.jpg...\n",
      "Done processing: 250.jpg!\n",
      "=================================\n",
      "Now Processing: 251.jpg...\n",
      "Done processing: 251.jpg!\n",
      "=================================\n",
      "Now Processing: 252.jpg...\n",
      "Done processing: 252.jpg!\n",
      "=================================\n",
      "Now Processing: 253.jpg...\n",
      "Done processing: 253.jpg!\n",
      "=================================\n",
      "Now Processing: 254.jpg...\n",
      "Done processing: 254.jpg!\n",
      "=================================\n",
      "Now Processing: 255.jpg...\n",
      "Done processing: 255.jpg!\n",
      "=================================\n",
      "Now Processing: 256.jpg...\n",
      "Done processing: 256.jpg!\n",
      "=================================\n",
      "Now Processing: 257.jpg...\n",
      "Done processing: 257.jpg!\n",
      "=================================\n",
      "Now Processing: 258.jpg...\n",
      "Done processing: 258.jpg!\n",
      "=================================\n",
      "Now Processing: 259.jpg...\n",
      "Done processing: 259.jpg!\n",
      "=================================\n",
      "Now Processing: 260.jpg...\n",
      "Done processing: 260.jpg!\n",
      "=================================\n",
      "Now Processing: 261.jpg...\n",
      "Done processing: 261.jpg!\n",
      "=================================\n",
      "Now Processing: 262.jpg...\n",
      "Done processing: 262.jpg!\n",
      "=================================\n",
      "Now Processing: 263.jpg...\n",
      "Done processing: 263.jpg!\n",
      "=================================\n",
      "Now Processing: 264.jpg...\n",
      "Done processing: 264.jpg!\n",
      "=================================\n",
      "Now Processing: 265.jpg...\n",
      "Done processing: 265.jpg!\n",
      "=================================\n",
      "Now Processing: 266.jpg...\n",
      "Done processing: 266.jpg!\n",
      "=================================\n",
      "Now Processing: 267.jpg...\n",
      "Done processing: 267.jpg!\n",
      "=================================\n",
      "Now Processing: 268.jpg...\n",
      "Done processing: 268.jpg!\n",
      "=================================\n",
      "Now Processing: 269.jpg...\n",
      "Done processing: 269.jpg!\n"
     ]
    }
   ],
   "source": [
    "eyes = []\n",
    "count = 0\n",
    "start = 189\n",
    "for i in range(start, len(list_of_files) + 1):\n",
    "    filename = str(i) + '.jpg'\n",
    "    eye1, eye2, out = detect_eye(raw_data_path, filename)\n",
    "    count += 1\n",
    "    if type(out) == int:\n",
    "        print(\"[ERROR] Didn't find eye for img:\", filename)\n",
    "        continue\n",
    "    eyes.append(np.array([eye1, eye2]))\n",
    "    cv2.imwrite(processed_data_path_left + 'left_' + filename, cv2.GaussianBlur(eye2,(5,5),0)) \n",
    "    cv2.imwrite(processed_data_path_right + 'right_' + filename, cv2.GaussianBlur(eye1,(5,5),0)) \n",
    "#     cv2.imwrite(processed_data_path_left[:-1] + '_origin/' + 'left_' + filename, eye2) \n",
    "#     cv2.imwrite(processed_data_path_right[:-1] + '_origin/' + 'right_' + filename, eye1)"
   ]
  },
  {
   "cell_type": "code",
   "execution_count": null,
   "metadata": {
    "colab": {},
    "colab_type": "code",
    "id": "WHhrhELnOPKe"
   },
   "outputs": [],
   "source": []
  },
  {
   "cell_type": "code",
   "execution_count": null,
   "metadata": {
    "colab": {},
    "colab_type": "code",
    "id": "9DgK9sckOPKg"
   },
   "outputs": [],
   "source": []
  },
  {
   "cell_type": "code",
   "execution_count": null,
   "metadata": {
    "colab": {},
    "colab_type": "code",
    "id": "cMRcZFtDOPKi"
   },
   "outputs": [],
   "source": []
  },
  {
   "cell_type": "markdown",
   "metadata": {
    "colab_type": "text",
    "id": "gopuzkcLOPKm"
   },
   "source": [
    "## Step2: Manually Select the Ones that Works Well"
   ]
  },
  {
   "cell_type": "code",
   "execution_count": null,
   "metadata": {
    "colab": {},
    "colab_type": "code",
    "id": "2X0Cpcd5OPKm"
   },
   "outputs": [],
   "source": [
    "# df_img_info['left_found'] = 0\n",
    "# df_img_info['right_found'] = 0\n",
    "# df_img_info['both_found'] = 0\n",
    "# df_img_info['left_hard'] = 0\n",
    "# df_img_info['right_hard'] = 0\n",
    "# df_img_info['left_failed'] = 0\n",
    "# df_img_info['right_failed'] = 0\n",
    "\n",
    "# def adding_manual_selection_info(s):\n",
    "#     filename = s.orderred_name\n",
    "#     if 'left_' + filename in listdir(processed_data_path_left):\n",
    "#         s['left_found'] = 1\n",
    "#     if 'right_' + filename in listdir(processed_data_path_right):\n",
    "#         s['right_found'] = 1\n",
    "#     if s['right_found'] == 1 and s['left_found'] == 1:\n",
    "#         s['both_found'] = 1\n",
    "    \n",
    "#     if 'left_' + filename in listdir(processed_data_path_left + 'hard_eyes/'):\n",
    "#         s['left_hard'] = 1\n",
    "#     if 'right_' + filename in listdir(processed_data_path_right + 'hard_eyes/'):\n",
    "#         s['right_hard'] = 1\n",
    "        \n",
    "#     if 'left_' + filename in listdir(processed_data_path_left + 'eye_detection_failed/'):\n",
    "#         s['left_failed'] = 1\n",
    "#     if 'right_' + filename in listdir(processed_data_path_right + 'eye_detection_failed/'):\n",
    "#         s['right_failed'] = 1\n",
    "#     return s\n",
    "# df_img_info = df_img_info.apply(adding_manual_selection_info, axis = 1)\n",
    "# df_img_info.to_csv('../data/processed/df_img_info.csv', index = False)\n",
    "# df_img_info.head()"
   ]
  },
  {
   "cell_type": "code",
   "execution_count": null,
   "metadata": {
    "colab": {},
    "colab_type": "code",
    "id": "O-d1dPKcOPKo",
    "outputId": "e1ec783b-a92f-439b-c312-89a05c540e86"
   },
   "outputs": [
    {
     "data": {
      "text/plain": [
       "original_name    2MM23355506081418-375.22.JPG2ES30404089011618-...\n",
       "orderred_name    1.jpg2.jpg3.jpg4.jpg5.jpg6.jpg7.jpg8.jpg9.jpg1...\n",
       "left_found                                                     239\n",
       "right_found                                                    237\n",
       "both_found                                                     222\n",
       "left_hard                                                        9\n",
       "right_hard                                                       7\n",
       "left_failed                                                     21\n",
       "right_failed                                                    25\n",
       "dtype: object"
      ]
     },
     "execution_count": 19,
     "metadata": {
      "tags": []
     },
     "output_type": "execute_result"
    }
   ],
   "source": [
    "# df_img_info.sum()"
   ]
  },
  {
   "cell_type": "code",
   "execution_count": null,
   "metadata": {
    "colab": {},
    "colab_type": "code",
    "id": "dp_HaJhQOPKq",
    "outputId": "930c0e89-a816-4458-f44e-2cb7ad8cc69b"
   },
   "outputs": [
    {
     "name": "stdout",
     "output_type": "stream",
     "text": [
      "Number of left eyes: 239\n",
      "Number of right eyes: 237\n",
      "Number of both eyes: 222\n"
     ]
    }
   ],
   "source": [
    "df_img_info = pd.read_csv('../data/processed/df_img_info.csv')\n",
    "print('Number of left eyes:', df_img_info.left_found.sum())\n",
    "print('Number of right eyes:', df_img_info.right_found.sum())\n",
    "print('Number of both eyes:', df_img_info.both_found.sum())"
   ]
  },
  {
   "cell_type": "code",
   "execution_count": null,
   "metadata": {
    "colab": {},
    "colab_type": "code",
    "id": "liVcL5_EOPKu"
   },
   "outputs": [],
   "source": []
  },
  {
   "cell_type": "markdown",
   "metadata": {
    "colab_type": "text",
    "id": "LuHdqnM-OPKx"
   },
   "source": [
    "# Labeling Data\n",
    "- Run the script in the `script/facial_landmark/` folder"
   ]
  },
  {
   "cell_type": "code",
   "execution_count": null,
   "metadata": {
    "colab": {},
    "colab_type": "code",
    "id": "hN4vSXZaOPKx"
   },
   "outputs": [],
   "source": []
  },
  {
   "cell_type": "markdown",
   "metadata": {
    "colab_type": "text",
    "id": "iUYEiyKvOPK0"
   },
   "source": [
    "# Training Landmark Detection"
   ]
  },
  {
   "cell_type": "code",
   "execution_count": null,
   "metadata": {
    "colab": {},
    "colab_type": "code",
    "id": "kfHKm83xOPK0"
   },
   "outputs": [],
   "source": [
    "# Setting current eyes\n",
    "curr_eye = 'left'"
   ]
  },
  {
   "cell_type": "code",
   "execution_count": null,
   "metadata": {
    "colab": {},
    "colab_type": "code",
    "id": "ubICgPe8OPK3"
   },
   "outputs": [],
   "source": [
    "from imutils import face_utils\n",
    "import numpy as np\n",
    "import imutils\n",
    "import dlib\n",
    "import cv2\n",
    "\n",
    "predictor_path = file_dir + '../models/' + curr_eye + '_eye_predictor.dat'\n",
    "data_path = file_dir + \"../data/processed/\" + curr_eye + \"/\"\n",
    "output_path = file_dir + '../data/final_output/'\n",
    "\n",
    "all_xml_file_path = file_dir + '../data/processed/' + curr_eye + '/' + curr_eye + '_eyes_eight_points_model_all.xml'\n",
    "empty_xml_file_path = file_dir + '../data/processed/' + curr_eye + '/' + curr_eye + '_eyes_eight_points_model_empty.xml'\n",
    "\n",
    "train_xml_file_path = file_dir + '../data/processed/' + curr_eye + '/' + curr_eye + '_eyes_eight_points_model_train.xml'\n",
    "test_xml_file_path = file_dir + '../data/processed/' + curr_eye + '/' + curr_eye + '_eyes_eight_points_model_test.xml'\n",
    "val_xml_file_path = file_dir + '../data/processed/' + curr_eye + '/' + curr_eye + '_eyes_eight_points_model_val.xml'"
   ]
  },
  {
   "cell_type": "code",
   "execution_count": null,
   "metadata": {
    "colab": {},
    "colab_type": "code",
    "id": "32OFK7EiOPK6"
   },
   "outputs": [],
   "source": [
    "# print('Current data path:', data_path)\n",
    "# size_lst = []\n",
    "# for file in listdir(data_path):\n",
    "#     if '.jpg' not in file:\n",
    "#         continue\n",
    "#     img = cv2.imread(data_path + file)\n",
    "#     if img.shape[0] > 1200:\n",
    "#         print(file, 'is larger than 1200X1200, we are resizing it!')\n",
    "#         resized = cv2.resize(img, (1200, 1200))\n",
    "#         cv2.imwrite(data_path + file, resized)"
   ]
  },
  {
   "cell_type": "markdown",
   "metadata": {
    "colab_type": "text",
    "id": "xo0ZJW43OPK-"
   },
   "source": [
    "## Train Test Split"
   ]
  },
  {
   "cell_type": "code",
   "execution_count": null,
   "metadata": {
    "colab": {},
    "colab_type": "code",
    "id": "Q9RnvKeMOPK-"
   },
   "outputs": [],
   "source": [
    "import xml.etree.ElementTree as ET\n",
    "\n",
    "train_tree = ET.parse(empty_xml_file_path)\n",
    "test_tree = ET.parse(empty_xml_file_path)\n",
    "val_tree = ET.parse(empty_xml_file_path)\n",
    "\n",
    "train_root = train_tree.getroot()\n",
    "test_root = test_tree.getroot()\n",
    "val_root = val_tree.getroot()\n",
    "all_root = ET.parse(all_xml_file_path).getroot()\n",
    "\n",
    "images = all_root.find('images')\n",
    "train_images = train_root.find('images')\n",
    "test_images = test_root.find('images')\n",
    "val_images = val_root.find('images')"
   ]
  },
  {
   "cell_type": "code",
   "execution_count": null,
   "metadata": {
    "colab": {
     "base_uri": "https://localhost:8080/",
     "height": 34
    },
    "colab_type": "code",
    "id": "U2FLtrx8OPLB",
    "outputId": "0c092958-51bf-4c95-8e52-6abd9c5cf14a"
   },
   "outputs": [
    {
     "name": "stdout",
     "output_type": "stream",
     "text": [
      "Count of labels: 236\n"
     ]
    }
   ],
   "source": [
    "all_count = len(all_root.findall('images/image'))\n",
    "print('Count of labels:', all_count)\n",
    "\n",
    "# counter = 0\n",
    "# for img in images.findall('image'):\n",
    "#     counter += 1\n",
    "#     if counter <= int(all_count * 0.6): \n",
    "#         train_images.append(img)\n",
    "#     elif counter > int(all_count * 0.6) and counter <= int(all_count * 0.8):\n",
    "#         val_images.append(img)\n",
    "#     else:\n",
    "#         test_images.append(img)\n",
    "\n",
    "# Special version of train-test-split for left eyes detection with Dr. Liu's labels\n",
    "train_counter = 0\n",
    "test_count = 50\n",
    "for img in images.findall('image'):\n",
    "    idx = int(img.attrib['file'].replace('left_', '').replace('.jpg', ''))\n",
    "    if idx in all_testing_img[:test_count]:\n",
    "        test_images.append(img)\n",
    "    else:\n",
    "        if train_counter < (all_count - test_count) * 0.75:\n",
    "            train_counter += 1\n",
    "            train_images.append(img)\n",
    "        else:\n",
    "            val_images.append(img)"
   ]
  },
  {
   "cell_type": "code",
   "execution_count": null,
   "metadata": {
    "colab": {},
    "colab_type": "code",
    "id": "MtDZ9Zqw0qND"
   },
   "outputs": [],
   "source": []
  },
  {
   "cell_type": "code",
   "execution_count": null,
   "metadata": {
    "colab": {
     "base_uri": "https://localhost:8080/",
     "height": 68
    },
    "colab_type": "code",
    "id": "U35zl7a0OPLD",
    "outputId": "156edf4b-cfdc-4e64-f828-f87351d0bdb0"
   },
   "outputs": [
    {
     "name": "stdout",
     "output_type": "stream",
     "text": [
      "Count of test images: 47\n",
      "Count of validation images: 49\n",
      "Count of train images: 140\n"
     ]
    }
   ],
   "source": [
    "test_file_lst = []\n",
    "for img in test_images.findall('image'):\n",
    "    test_file_lst.append(img.attrib['file'])\n",
    "print('Count of test images:', len(test_file_lst))\n",
    "\n",
    "val_file_lst = []\n",
    "for img in val_images.findall('image'):\n",
    "    val_file_lst.append(img.attrib['file'])\n",
    "print('Count of validation images:', len(val_file_lst))\n",
    "\n",
    "train_file_lst = []\n",
    "for img in train_images.findall('image'):\n",
    "    train_file_lst.append(img.attrib['file'])\n",
    "print('Count of train images:', len(train_file_lst))"
   ]
  },
  {
   "cell_type": "code",
   "execution_count": null,
   "metadata": {
    "colab": {},
    "colab_type": "code",
    "id": "nP1R3E1YOPLG"
   },
   "outputs": [],
   "source": [
    "train_tree.write(train_xml_file_path)\n",
    "test_tree.write(test_xml_file_path)\n",
    "val_tree.write(val_xml_file_path)"
   ]
  },
  {
   "cell_type": "markdown",
   "metadata": {
    "colab_type": "text",
    "id": "th_CxCWeOPLI"
   },
   "source": [
    "## Training"
   ]
  },
  {
   "cell_type": "code",
   "execution_count": null,
   "metadata": {
    "colab": {},
    "colab_type": "code",
    "id": "OcHlNjF2OPLJ"
   },
   "outputs": [],
   "source": [
    "# import the necessary packages\n",
    "import multiprocessing\n",
    "\n",
    "def train(parameters):\n",
    "#     print(\"===========================================\")\n",
    "#     print(\"[INFO] setting shape predictor options...\")\n",
    "    options = dlib.shape_predictor_training_options()\n",
    "#     print(parameters)\n",
    "    # [2-8]\n",
    "    options.tree_depth = parameters['tree_depth']\n",
    "\n",
    "    # regularization parameter \n",
    "    # [0.01, 0.03, 0.05, 0.1, 0.3, 0.5, 0.8]\n",
    "    options.nu = parameters['nu']\n",
    "\n",
    "    # [6, 18]\n",
    "    options.cascade_depth = parameters['cascade_depth']\n",
    "\n",
    "    # Larger for more accurate results & Slower inference\n",
    "    options.feature_pool_size = parameters['feature_pool_size']\n",
    "\n",
    "    # Larger for more accurate results & Slower training\n",
    "    options.num_test_splits = parameters['num_test_splits']\n",
    "\n",
    "    # controls amount of \"jitter\" (i.e., data augmentation) when training\n",
    "    # the shape predictor -- applies the supplied number of random\n",
    "    # deformations, thereby performing regularization and increasing the\n",
    "    # ability of our model to generalize\n",
    "    # [0, 50] \n",
    "    options.oversampling_amount = parameters['oversampling_amount']\n",
    "\n",
    "    # amount of translation jitter to apply -- the dlib docs recommend\n",
    "    # values in the range [0, 0.5]\n",
    "    options.oversampling_translation_jitter = parameters['oversampling_translation_jitter']\n",
    "\n",
    "    # tell the dlib shape predictor to be verbose and print out status\n",
    "    # messages our model trains\n",
    "    options.be_verbose = True\n",
    "\n",
    "    # number of threads/CPU cores to be used when training -- we default\n",
    "    # this value to the number of available cores on the system, but you\n",
    "    # can supply an integer value here if you would like\n",
    "    options.num_threads = multiprocessing.cpu_count()\n",
    "#     options.num_threads = 2\n",
    "    \n",
    "#     # log our training options to the terminal\n",
    "#     print(\"[INFO] shape predictor options:\")\n",
    "#     print(options)\n",
    "\n",
    "    # train the shape predictor\n",
    "#     print(\"[INFO] training shape predictor...\")\n",
    "    dlib.train_shape_predictor(train_xml_file_path, predictor_path, options)"
   ]
  },
  {
   "cell_type": "code",
   "execution_count": null,
   "metadata": {
    "colab": {},
    "colab_type": "code",
    "id": "yLE0SjACOPLP"
   },
   "outputs": [],
   "source": []
  },
  {
   "cell_type": "markdown",
   "metadata": {
    "colab_type": "text",
    "id": "ttfpndTSOPLT"
   },
   "source": [
    "### Training on existing models [DON'T RUN WHEN TESTING!!!]"
   ]
  },
  {
   "cell_type": "code",
   "execution_count": null,
   "metadata": {
    "colab": {
     "base_uri": "https://localhost:8080/",
     "height": 232
    },
    "colab_type": "code",
    "id": "YJvg_iclOPLT",
    "outputId": "bdae54bf-b6b5-4262-d545-0b7fd63a444c"
   },
   "outputs": [
    {
     "ename": "NameError",
     "evalue": "ignored",
     "output_type": "error",
     "traceback": [
      "\u001b[0;31m---------------------------------------------------------------------------\u001b[0m",
      "\u001b[0;31mNameError\u001b[0m                                 Traceback (most recent call last)",
      "\u001b[0;32m<ipython-input-19-10cd8a4e7673>\u001b[0m in \u001b[0;36m<module>\u001b[0;34m()\u001b[0m\n\u001b[0;32m----> 1\u001b[0;31m \u001b[0mfirst_trial\u001b[0m \u001b[0;34m=\u001b[0m \u001b[0mpd\u001b[0m\u001b[0;34m.\u001b[0m\u001b[0mread_csv\u001b[0m\u001b[0;34m(\u001b[0m\u001b[0mfile_dir\u001b[0m \u001b[0;34m+\u001b[0m \u001b[0mmodel_path\u001b[0m \u001b[0;34m+\u001b[0m \u001b[0;34m'first_trial.csv'\u001b[0m\u001b[0;34m)\u001b[0m\u001b[0;34m\u001b[0m\u001b[0;34m\u001b[0m\u001b[0m\n\u001b[0m\u001b[1;32m      2\u001b[0m \u001b[0msecond_trial\u001b[0m \u001b[0;34m=\u001b[0m \u001b[0mpd\u001b[0m\u001b[0;34m.\u001b[0m\u001b[0mread_csv\u001b[0m\u001b[0;34m(\u001b[0m\u001b[0mfile_dir\u001b[0m \u001b[0;34m+\u001b[0m \u001b[0mmodel_path\u001b[0m \u001b[0;34m+\u001b[0m \u001b[0;34m'second_trial.csv'\u001b[0m\u001b[0;34m)\u001b[0m\u001b[0;34m\u001b[0m\u001b[0;34m\u001b[0m\u001b[0m\n\u001b[1;32m      3\u001b[0m \u001b[0mthird_trial\u001b[0m \u001b[0;34m=\u001b[0m \u001b[0mpd\u001b[0m\u001b[0;34m.\u001b[0m\u001b[0mread_csv\u001b[0m\u001b[0;34m(\u001b[0m\u001b[0mfile_dir\u001b[0m \u001b[0;34m+\u001b[0m \u001b[0mmodel_path\u001b[0m \u001b[0;34m+\u001b[0m \u001b[0;34m'third_trial.csv'\u001b[0m\u001b[0;34m)\u001b[0m\u001b[0;34m\u001b[0m\u001b[0;34m\u001b[0m\u001b[0m\n\u001b[1;32m      4\u001b[0m \u001b[0mall_trials\u001b[0m \u001b[0;34m=\u001b[0m \u001b[0mpd\u001b[0m\u001b[0;34m.\u001b[0m\u001b[0mconcat\u001b[0m\u001b[0;34m(\u001b[0m\u001b[0;34m[\u001b[0m\u001b[0mfirst_trial\u001b[0m\u001b[0;34m,\u001b[0m \u001b[0msecond_trial\u001b[0m\u001b[0;34m,\u001b[0m \u001b[0mthird_trial\u001b[0m\u001b[0;34m]\u001b[0m\u001b[0;34m)\u001b[0m\u001b[0;34m.\u001b[0m\u001b[0msort_values\u001b[0m\u001b[0;34m(\u001b[0m\u001b[0;34m'error'\u001b[0m\u001b[0;34m)\u001b[0m\u001b[0;34m.\u001b[0m\u001b[0mreset_index\u001b[0m\u001b[0;34m(\u001b[0m\u001b[0mdrop\u001b[0m \u001b[0;34m=\u001b[0m \u001b[0;32mTrue\u001b[0m\u001b[0;34m)\u001b[0m\u001b[0;34m\u001b[0m\u001b[0;34m\u001b[0m\u001b[0m\n\u001b[1;32m      5\u001b[0m \u001b[0mall_trials\u001b[0m\u001b[0;34m.\u001b[0m\u001b[0mhead\u001b[0m\u001b[0;34m(\u001b[0m\u001b[0;36m5\u001b[0m\u001b[0;34m)\u001b[0m\u001b[0;34m\u001b[0m\u001b[0;34m\u001b[0m\u001b[0m\n",
      "\u001b[0;31mNameError\u001b[0m: name 'model_path' is not defined"
     ]
    }
   ],
   "source": [
    "first_trial = pd.read_csv(file_dir + model_path + 'first_trial.csv')\n",
    "second_trial = pd.read_csv(file_dir + model_path + 'second_trial.csv')\n",
    "third_trial = pd.read_csv(file_dir + model_path + 'third_trial.csv')\n",
    "all_trials = pd.concat([first_trial, second_trial, third_trial]).sort_values('error').reset_index(drop = True)\n",
    "all_trials.head(5)"
   ]
  },
  {
   "cell_type": "code",
   "execution_count": null,
   "metadata": {
    "colab": {
     "base_uri": "https://localhost:8080/",
     "height": 34
    },
    "colab_type": "code",
    "id": "UULdPDAnOPLV",
    "outputId": "48e8a0d1-bcac-4406-d8b5-611d26d29a37"
   },
   "outputs": [
    {
     "name": "stderr",
     "output_type": "stream",
     "text": [
      "100%|██████████| 30/30 [2:24:10<00:00, 288.34s/it]\n"
     ]
    }
   ],
   "source": [
    "performance_lst = []\n",
    "for i in tqdm(range(30)):\n",
    "    curr_model = dict(all_trials.iloc[i])\n",
    "    curr_model['tree_depth'] = int(curr_model['tree_depth'])\n",
    "    curr_model['cascade_depth'] = int(curr_model['cascade_depth'])\n",
    "    curr_model['feature_pool_size'] = int(curr_model['feature_pool_size'])\n",
    "    curr_model['num_test_splits'] = int(curr_model['num_test_splits'])\n",
    "    curr_model['oversampling_amount'] = int(curr_model['oversampling_amount'])\n",
    "    train(curr_model)\n",
    "    error = dlib.test_shape_predictor(val_xml_file_path, predictor_path)\n",
    "    curr_model['error'] = error\n",
    "    performance_lst.append(curr_model)"
   ]
  },
  {
   "cell_type": "code",
   "execution_count": null,
   "metadata": {
    "colab": {
     "base_uri": "https://localhost:8080/",
     "height": 379
    },
    "colab_type": "code",
    "id": "0yQT4q_POPLY",
    "outputId": "41c52c4c-19cf-457c-9fb7-a7d111f6cc0d"
   },
   "outputs": [
    {
     "data": {
      "text/html": [
       "<div>\n",
       "<style scoped>\n",
       "    .dataframe tbody tr th:only-of-type {\n",
       "        vertical-align: middle;\n",
       "    }\n",
       "\n",
       "    .dataframe tbody tr th {\n",
       "        vertical-align: top;\n",
       "    }\n",
       "\n",
       "    .dataframe thead th {\n",
       "        text-align: right;\n",
       "    }\n",
       "</style>\n",
       "<table border=\"1\" class=\"dataframe\">\n",
       "  <thead>\n",
       "    <tr style=\"text-align: right;\">\n",
       "      <th></th>\n",
       "      <th>tree_depth</th>\n",
       "      <th>nu</th>\n",
       "      <th>cascade_depth</th>\n",
       "      <th>feature_pool_size</th>\n",
       "      <th>num_test_splits</th>\n",
       "      <th>oversampling_amount</th>\n",
       "      <th>oversampling_translation_jitter</th>\n",
       "      <th>error</th>\n",
       "    </tr>\n",
       "  </thead>\n",
       "  <tbody>\n",
       "    <tr>\n",
       "      <th>0</th>\n",
       "      <td>4</td>\n",
       "      <td>0.03</td>\n",
       "      <td>18</td>\n",
       "      <td>800</td>\n",
       "      <td>50</td>\n",
       "      <td>45</td>\n",
       "      <td>0.35</td>\n",
       "      <td>12.442347</td>\n",
       "    </tr>\n",
       "    <tr>\n",
       "      <th>1</th>\n",
       "      <td>4</td>\n",
       "      <td>0.03</td>\n",
       "      <td>18</td>\n",
       "      <td>800</td>\n",
       "      <td>75</td>\n",
       "      <td>45</td>\n",
       "      <td>0.35</td>\n",
       "      <td>12.704138</td>\n",
       "    </tr>\n",
       "    <tr>\n",
       "      <th>2</th>\n",
       "      <td>4</td>\n",
       "      <td>0.03</td>\n",
       "      <td>18</td>\n",
       "      <td>400</td>\n",
       "      <td>100</td>\n",
       "      <td>45</td>\n",
       "      <td>0.45</td>\n",
       "      <td>12.792426</td>\n",
       "    </tr>\n",
       "    <tr>\n",
       "      <th>3</th>\n",
       "      <td>4</td>\n",
       "      <td>0.03</td>\n",
       "      <td>18</td>\n",
       "      <td>800</td>\n",
       "      <td>75</td>\n",
       "      <td>35</td>\n",
       "      <td>0.40</td>\n",
       "      <td>12.857423</td>\n",
       "    </tr>\n",
       "    <tr>\n",
       "      <th>4</th>\n",
       "      <td>4</td>\n",
       "      <td>0.01</td>\n",
       "      <td>18</td>\n",
       "      <td>800</td>\n",
       "      <td>100</td>\n",
       "      <td>45</td>\n",
       "      <td>0.35</td>\n",
       "      <td>12.981028</td>\n",
       "    </tr>\n",
       "    <tr>\n",
       "      <th>5</th>\n",
       "      <td>4</td>\n",
       "      <td>0.03</td>\n",
       "      <td>18</td>\n",
       "      <td>400</td>\n",
       "      <td>50</td>\n",
       "      <td>45</td>\n",
       "      <td>0.35</td>\n",
       "      <td>13.083290</td>\n",
       "    </tr>\n",
       "    <tr>\n",
       "      <th>6</th>\n",
       "      <td>4</td>\n",
       "      <td>0.03</td>\n",
       "      <td>18</td>\n",
       "      <td>800</td>\n",
       "      <td>100</td>\n",
       "      <td>35</td>\n",
       "      <td>0.35</td>\n",
       "      <td>13.086142</td>\n",
       "    </tr>\n",
       "    <tr>\n",
       "      <th>7</th>\n",
       "      <td>4</td>\n",
       "      <td>0.03</td>\n",
       "      <td>18</td>\n",
       "      <td>800</td>\n",
       "      <td>75</td>\n",
       "      <td>35</td>\n",
       "      <td>0.35</td>\n",
       "      <td>13.152356</td>\n",
       "    </tr>\n",
       "    <tr>\n",
       "      <th>8</th>\n",
       "      <td>4</td>\n",
       "      <td>0.01</td>\n",
       "      <td>18</td>\n",
       "      <td>800</td>\n",
       "      <td>75</td>\n",
       "      <td>45</td>\n",
       "      <td>0.35</td>\n",
       "      <td>13.162734</td>\n",
       "    </tr>\n",
       "    <tr>\n",
       "      <th>9</th>\n",
       "      <td>4</td>\n",
       "      <td>0.03</td>\n",
       "      <td>18</td>\n",
       "      <td>800</td>\n",
       "      <td>50</td>\n",
       "      <td>35</td>\n",
       "      <td>0.35</td>\n",
       "      <td>13.205404</td>\n",
       "    </tr>\n",
       "  </tbody>\n",
       "</table>\n",
       "</div>"
      ],
      "text/plain": [
       "   tree_depth    nu  ...  oversampling_translation_jitter      error\n",
       "0           4  0.03  ...                             0.35  12.442347\n",
       "1           4  0.03  ...                             0.35  12.704138\n",
       "2           4  0.03  ...                             0.45  12.792426\n",
       "3           4  0.03  ...                             0.40  12.857423\n",
       "4           4  0.01  ...                             0.35  12.981028\n",
       "5           4  0.03  ...                             0.35  13.083290\n",
       "6           4  0.03  ...                             0.35  13.086142\n",
       "7           4  0.03  ...                             0.35  13.152356\n",
       "8           4  0.01  ...                             0.35  13.162734\n",
       "9           4  0.03  ...                             0.35  13.205404\n",
       "\n",
       "[10 rows x 8 columns]"
      ]
     },
     "execution_count": 96,
     "metadata": {
      "tags": []
     },
     "output_type": "execute_result"
    }
   ],
   "source": [
    "result = pd.read_csv(file_dir + '../models/left_eye_training_results.csv')\n",
    "# result = pd.DataFrame(performance_lst).sort_values(by = 'error').reset_index(drop = True)\n",
    "# result.to_csv('left_eye_training_results.csv', index = False)\n",
    "result.head(10)"
   ]
  },
  {
   "cell_type": "code",
   "execution_count": null,
   "metadata": {
    "colab": {
     "base_uri": "https://localhost:8080/",
     "height": 153
    },
    "colab_type": "code",
    "id": "e7KTari9OPLa",
    "outputId": "8a6898e1-3058-42ae-d6aa-38ca8d982b35"
   },
   "outputs": [
    {
     "data": {
      "text/plain": [
       "{'cascade_depth': 18,\n",
       " 'error': 12.442346986058785,\n",
       " 'feature_pool_size': 800,\n",
       " 'nu': 0.03,\n",
       " 'num_test_splits': 50,\n",
       " 'oversampling_amount': 45,\n",
       " 'oversampling_translation_jitter': 0.35,\n",
       " 'tree_depth': 4}"
      ]
     },
     "execution_count": 97,
     "metadata": {
      "tags": []
     },
     "output_type": "execute_result"
    }
   ],
   "source": [
    "final_model = dict(result.iloc[0])\n",
    "final_model['tree_depth'] = int(final_model['tree_depth'])\n",
    "final_model['cascade_depth'] = int(final_model['cascade_depth'])\n",
    "final_model['feature_pool_size'] = int(final_model['feature_pool_size'])\n",
    "final_model['num_test_splits'] = int(final_model['num_test_splits'])\n",
    "final_model['oversampling_amount'] = int(final_model['oversampling_amount'])\n",
    "final_model"
   ]
  },
  {
   "cell_type": "code",
   "execution_count": null,
   "metadata": {
    "colab": {},
    "colab_type": "code",
    "id": "72_NYTP7OPLf"
   },
   "outputs": [],
   "source": [
    "train(final_model)\n",
    "print(\"[INFO] evaluating shape predictor...\")\n",
    "error = dlib.test_shape_predictor(val_xml_file_path, predictor_path)\n",
    "print(\"[INFO] error: {}\".format(error))"
   ]
  },
  {
   "cell_type": "code",
   "execution_count": null,
   "metadata": {
    "colab": {},
    "colab_type": "code",
    "id": "OzASWEgdOPLj"
   },
   "outputs": [],
   "source": []
  },
  {
   "cell_type": "markdown",
   "metadata": {
    "colab_type": "text",
    "id": "06FyqmkxOPLk"
   },
   "source": [
    "### Training on all possible parameters"
   ]
  },
  {
   "cell_type": "code",
   "execution_count": null,
   "metadata": {
    "colab": {},
    "colab_type": "code",
    "id": "DzxlBwJ_OPLl",
    "outputId": "825b1468-ea42-479e-952c-afa0f0f371b4"
   },
   "outputs": [
    {
     "data": {
      "text/plain": [
       "216"
      ]
     },
     "execution_count": 69,
     "metadata": {
      "tags": []
     },
     "output_type": "execute_result"
    }
   ],
   "source": [
    "tree_depth_lst = [4, 6, 8]\n",
    "nu_lst = [0.005, 0.01, 0.03]\n",
    "cascade_depth_lst = [18]\n",
    "feature_pool_size_lst = [500, 800]\n",
    "num_test_splits_lst = [50, 75, 100]\n",
    "oversampling_amount_lst = [35, 45]\n",
    "oversampling_translation_jitter_lst = [0.3, 0.45]\n",
    "\n",
    "num_of_models = len(tree_depth_lst) * len(nu_lst) * len(cascade_depth_lst) * len(feature_pool_size_lst) * \\\n",
    "    len(num_test_splits_lst) * len(oversampling_amount_lst) * len(oversampling_translation_jitter_lst)\n",
    "num_of_models"
   ]
  },
  {
   "cell_type": "code",
   "execution_count": null,
   "metadata": {
    "colab": {},
    "colab_type": "code",
    "id": "iwkqn5eLOPLm"
   },
   "outputs": [],
   "source": [
    "all_para_lst = []\n",
    "for t in tree_depth_lst:\n",
    "    for n in nu_lst:\n",
    "        for c in cascade_depth_lst:\n",
    "            for f in feature_pool_size_lst:\n",
    "                for num in num_test_splits_lst:\n",
    "                    for o1 in oversampling_amount_lst:\n",
    "                        for o2 in oversampling_translation_jitter_lst:\n",
    "                            all_para_lst.append(\\\n",
    "                            {'tree_depth': t,\n",
    "                            'nu': n,\n",
    "                            'cascade_depth': c,\n",
    "                            'feature_pool_size': f,\n",
    "                            'num_test_splits': num,\n",
    "                            'oversampling_amount': o1,\n",
    "                            'oversampling_translation_jitter': o2})"
   ]
  },
  {
   "cell_type": "code",
   "execution_count": null,
   "metadata": {
    "colab": {},
    "colab_type": "code",
    "id": "JdFcc0onOPLo"
   },
   "outputs": [],
   "source": [
    "# from tqdm import tqdm\n",
    "# error_lst = []\n",
    "# for parameters in tqdm(all_para_lst):\n",
    "#     train(parameters)\n",
    "#     # print(\"[INFO] evaluating shape predictor...\")\n",
    "#     error = dlib.test_shape_predictor(val_xml_file_path, predictor_path)\n",
    "#     # print(\"[INFO] error: {}\".format(error))\n",
    "#     error_lst.append(error)"
   ]
  },
  {
   "cell_type": "code",
   "execution_count": null,
   "metadata": {
    "colab": {},
    "colab_type": "code",
    "id": "WiCJqjIZOPLr"
   },
   "outputs": [],
   "source": []
  },
  {
   "cell_type": "code",
   "execution_count": null,
   "metadata": {
    "colab": {},
    "colab_type": "code",
    "id": "655aQIYYOPLt"
   },
   "outputs": [],
   "source": [
    "error_lst = []\n",
    "count = 0\n",
    "for parameters in tqdm(all_para_lst):\n",
    "#     if parameters in done_para:\n",
    "#         count += 1\n",
    "#         continue\n",
    "    train(parameters)\n",
    "    # print(\"[INFO] evaluating shape predictor...\")\n",
    "    error = dlib.test_shape_predictor(val_xml_file_path, predictor_path)\n",
    "    # print(\"[INFO] error: {}\".format(error))\n",
    "    error_lst.append(error)"
   ]
  },
  {
   "cell_type": "code",
   "execution_count": null,
   "metadata": {
    "colab": {},
    "colab_type": "code",
    "id": "1cVJ6zfxOPLx",
    "outputId": "91bdb83a-6382-4793-ed06-7ade875a0fa7"
   },
   "outputs": [
    {
     "data": {
      "text/plain": [
       "170"
      ]
     },
     "execution_count": 20,
     "metadata": {
      "tags": []
     },
     "output_type": "execute_result"
    }
   ],
   "source": [
    "len(error_lst)"
   ]
  },
  {
   "cell_type": "code",
   "execution_count": null,
   "metadata": {
    "colab": {},
    "colab_type": "code",
    "id": "Qi2oeoVDOPLz",
    "outputId": "e027882f-4d61-4e15-fdb8-7a9565796c60"
   },
   "outputs": [
    {
     "data": {
      "text/plain": [
       "11.741591665262739"
      ]
     },
     "execution_count": 27,
     "metadata": {
      "tags": []
     },
     "output_type": "execute_result"
    }
   ],
   "source": [
    "min(error_lst)"
   ]
  },
  {
   "cell_type": "code",
   "execution_count": null,
   "metadata": {
    "colab": {},
    "colab_type": "code",
    "id": "NVc0MzyEOPL8",
    "outputId": "04e86065-0cde-4379-df0b-21f04e37e4c4"
   },
   "outputs": [
    {
     "data": {
      "text/plain": [
       "True"
      ]
     },
     "execution_count": 16,
     "metadata": {
      "tags": []
     },
     "output_type": "execute_result"
    }
   ],
   "source": [
    "all_para_lst[100] in done_para"
   ]
  },
  {
   "cell_type": "code",
   "execution_count": null,
   "metadata": {
    "colab": {},
    "colab_type": "code",
    "id": "cKMI766MOPL9"
   },
   "outputs": [],
   "source": [
    "for i in range(len(all_para_lst)):\n",
    "    all_para_lst[i]['error'] = error_lst[i]\n",
    "grid_search_result = pd.DataFrame(all_para_lst).sort_values('error')\n",
    "grid_search_result.head(20)"
   ]
  },
  {
   "cell_type": "code",
   "execution_count": null,
   "metadata": {
    "colab": {},
    "colab_type": "code",
    "id": "SWFFUJmnOPMC",
    "outputId": "5ffec654-31dc-40ea-a4fb-b055913b618c"
   },
   "outputs": [
    {
     "data": {
      "text/html": [
       "<div>\n",
       "<style scoped>\n",
       "    .dataframe tbody tr th:only-of-type {\n",
       "        vertical-align: middle;\n",
       "    }\n",
       "\n",
       "    .dataframe tbody tr th {\n",
       "        vertical-align: top;\n",
       "    }\n",
       "\n",
       "    .dataframe thead th {\n",
       "        text-align: right;\n",
       "    }\n",
       "</style>\n",
       "<table border=\"1\" class=\"dataframe\">\n",
       "  <thead>\n",
       "    <tr style=\"text-align: right;\">\n",
       "      <th></th>\n",
       "      <th>tree_depth</th>\n",
       "      <th>nu</th>\n",
       "      <th>cascade_depth</th>\n",
       "      <th>feature_pool_size</th>\n",
       "      <th>num_test_splits</th>\n",
       "      <th>oversampling_amount</th>\n",
       "      <th>oversampling_translation_jitter</th>\n",
       "      <th>error</th>\n",
       "    </tr>\n",
       "  </thead>\n",
       "  <tbody>\n",
       "    <tr>\n",
       "      <th>0</th>\n",
       "      <td>4</td>\n",
       "      <td>0.030</td>\n",
       "      <td>18</td>\n",
       "      <td>800</td>\n",
       "      <td>50</td>\n",
       "      <td>35</td>\n",
       "      <td>0.35</td>\n",
       "      <td>1.985454</td>\n",
       "    </tr>\n",
       "    <tr>\n",
       "      <th>1</th>\n",
       "      <td>4</td>\n",
       "      <td>0.030</td>\n",
       "      <td>18</td>\n",
       "      <td>400</td>\n",
       "      <td>100</td>\n",
       "      <td>35</td>\n",
       "      <td>0.35</td>\n",
       "      <td>2.022114</td>\n",
       "    </tr>\n",
       "    <tr>\n",
       "      <th>2</th>\n",
       "      <td>4</td>\n",
       "      <td>0.030</td>\n",
       "      <td>18</td>\n",
       "      <td>400</td>\n",
       "      <td>50</td>\n",
       "      <td>45</td>\n",
       "      <td>0.35</td>\n",
       "      <td>2.029044</td>\n",
       "    </tr>\n",
       "    <tr>\n",
       "      <th>3</th>\n",
       "      <td>4</td>\n",
       "      <td>0.030</td>\n",
       "      <td>18</td>\n",
       "      <td>800</td>\n",
       "      <td>75</td>\n",
       "      <td>35</td>\n",
       "      <td>0.40</td>\n",
       "      <td>2.031314</td>\n",
       "    </tr>\n",
       "    <tr>\n",
       "      <th>4</th>\n",
       "      <td>4</td>\n",
       "      <td>0.030</td>\n",
       "      <td>18</td>\n",
       "      <td>800</td>\n",
       "      <td>75</td>\n",
       "      <td>45</td>\n",
       "      <td>0.35</td>\n",
       "      <td>2.033936</td>\n",
       "    </tr>\n",
       "    <tr>\n",
       "      <th>5</th>\n",
       "      <td>4</td>\n",
       "      <td>0.010</td>\n",
       "      <td>18</td>\n",
       "      <td>800</td>\n",
       "      <td>75</td>\n",
       "      <td>45</td>\n",
       "      <td>0.35</td>\n",
       "      <td>2.055256</td>\n",
       "    </tr>\n",
       "    <tr>\n",
       "      <th>6</th>\n",
       "      <td>6</td>\n",
       "      <td>0.005</td>\n",
       "      <td>18</td>\n",
       "      <td>800</td>\n",
       "      <td>50</td>\n",
       "      <td>35</td>\n",
       "      <td>0.40</td>\n",
       "      <td>2.056602</td>\n",
       "    </tr>\n",
       "    <tr>\n",
       "      <th>7</th>\n",
       "      <td>6</td>\n",
       "      <td>0.010</td>\n",
       "      <td>18</td>\n",
       "      <td>800</td>\n",
       "      <td>50</td>\n",
       "      <td>35</td>\n",
       "      <td>0.40</td>\n",
       "      <td>2.060509</td>\n",
       "    </tr>\n",
       "    <tr>\n",
       "      <th>8</th>\n",
       "      <td>4</td>\n",
       "      <td>0.030</td>\n",
       "      <td>18</td>\n",
       "      <td>800</td>\n",
       "      <td>100</td>\n",
       "      <td>35</td>\n",
       "      <td>0.35</td>\n",
       "      <td>2.067261</td>\n",
       "    </tr>\n",
       "    <tr>\n",
       "      <th>9</th>\n",
       "      <td>6</td>\n",
       "      <td>0.010</td>\n",
       "      <td>18</td>\n",
       "      <td>400</td>\n",
       "      <td>75</td>\n",
       "      <td>45</td>\n",
       "      <td>0.45</td>\n",
       "      <td>2.070887</td>\n",
       "    </tr>\n",
       "  </tbody>\n",
       "</table>\n",
       "</div>"
      ],
      "text/plain": [
       "   tree_depth     nu  cascade_depth  feature_pool_size  num_test_splits  \\\n",
       "0           4  0.030             18                800               50   \n",
       "1           4  0.030             18                400              100   \n",
       "2           4  0.030             18                400               50   \n",
       "3           4  0.030             18                800               75   \n",
       "4           4  0.030             18                800               75   \n",
       "5           4  0.010             18                800               75   \n",
       "6           6  0.005             18                800               50   \n",
       "7           6  0.010             18                800               50   \n",
       "8           4  0.030             18                800              100   \n",
       "9           6  0.010             18                400               75   \n",
       "\n",
       "   oversampling_amount  oversampling_translation_jitter     error  \n",
       "0                   35                             0.35  1.985454  \n",
       "1                   35                             0.35  2.022114  \n",
       "2                   45                             0.35  2.029044  \n",
       "3                   35                             0.40  2.031314  \n",
       "4                   45                             0.35  2.033936  \n",
       "5                   45                             0.35  2.055256  \n",
       "6                   35                             0.40  2.056602  \n",
       "7                   35                             0.40  2.060509  \n",
       "8                   35                             0.35  2.067261  \n",
       "9                   45                             0.45  2.070887  "
      ]
     },
     "execution_count": 23,
     "metadata": {
      "tags": []
     },
     "output_type": "execute_result"
    }
   ],
   "source": [
    "first_trial = pd.read_csv(model_path + 'first_trial.csv')\n",
    "second_trial = pd.read_csv(model_path + 'second_trial.csv')\n",
    "third_trial = pd.read_csv(model_path + 'third_trial.csv')\n",
    "all_trials = pd.concat([first_trial, second_trial, third_trial]).sort_values('error').reset_index(drop = True)\n",
    "all_trials.head(10)"
   ]
  },
  {
   "cell_type": "code",
   "execution_count": null,
   "metadata": {
    "colab": {},
    "colab_type": "code",
    "id": "miMtcd20OPME",
    "outputId": "141c8ce5-7b40-48d2-9604-cba6c0a03412"
   },
   "outputs": [
    {
     "data": {
      "text/plain": [
       "{'tree_depth': 4,\n",
       " 'nu': 0.03,\n",
       " 'cascade_depth': 18,\n",
       " 'feature_pool_size': 800,\n",
       " 'num_test_splits': 50,\n",
       " 'oversampling_amount': 35,\n",
       " 'oversampling_translation_jitter': 0.35,\n",
       " 'error': 1.98545365484632}"
      ]
     },
     "execution_count": 24,
     "metadata": {
      "tags": []
     },
     "output_type": "execute_result"
    }
   ],
   "source": [
    "final_model = dict(all_trials.iloc[0])\n",
    "# final_model = dict(grid_search_result.iloc[0])\n",
    "final_model['tree_depth'] = int(final_model['tree_depth'])\n",
    "final_model['cascade_depth'] = int(final_model['cascade_depth'])\n",
    "final_model['feature_pool_size'] = int(final_model['feature_pool_size'])\n",
    "final_model['num_test_splits'] = int(final_model['num_test_splits'])\n",
    "final_model['oversampling_amount'] = int(final_model['oversampling_amount'])\n",
    "final_model"
   ]
  },
  {
   "cell_type": "code",
   "execution_count": null,
   "metadata": {
    "colab": {},
    "colab_type": "code",
    "id": "f7b38cp2OPMF"
   },
   "outputs": [],
   "source": [
    "train(final_model)"
   ]
  },
  {
   "cell_type": "code",
   "execution_count": null,
   "metadata": {
    "colab": {},
    "colab_type": "code",
    "id": "h3dH7CqVOPMN",
    "outputId": "38261440-76c1-48f7-bbbc-1f99825c87b8"
   },
   "outputs": [
    {
     "name": "stdout",
     "output_type": "stream",
     "text": [
      "[INFO] evaluating shape predictor...\n",
      "[INFO] error: 13.65401657125887\n"
     ]
    }
   ],
   "source": [
    "print(\"[INFO] evaluating shape predictor...\")\n",
    "error = dlib.test_shape_predictor(val_xml_file_path, predictor_path)\n",
    "print(\"[INFO] error: {}\".format(error))"
   ]
  },
  {
   "cell_type": "code",
   "execution_count": null,
   "metadata": {
    "colab": {},
    "colab_type": "code",
    "id": "vkoIuFGyOPMQ"
   },
   "outputs": [],
   "source": []
  },
  {
   "cell_type": "markdown",
   "metadata": {
    "colab_type": "text",
    "id": "2_b9Zmx6OPMT"
   },
   "source": [
    "## Testing & Prediction"
   ]
  },
  {
   "cell_type": "code",
   "execution_count": null,
   "metadata": {
    "colab": {},
    "colab_type": "code",
    "id": "vzB4tY9mOPMU"
   },
   "outputs": [],
   "source": [
    "def predict_landmarks(filepath, predictor):\n",
    "    \"\"\"\n",
    "    Predicting the landmarks given a image filepath and a predictor object\n",
    "    nput:\n",
    "        - filepath       : filepath to the image\n",
    "        - predictor      : predictor object\n",
    "    return:\n",
    "        - image          : output image\n",
    "        - shape          : list of landmark locations\n",
    "    \"\"\"\n",
    "\n",
    "    # load the input image, resize it, and convert it to grayscale\n",
    "    image = cv2.imread(filepath)\n",
    "    # image = imutils.resize(image, width = 250)\n",
    "    gray = cv2.cvtColor(image, cv2.COLOR_BGR2GRAY)\n",
    "    gray = cv2.GaussianBlur(gray, (5, 5), 0)\n",
    "\n",
    "    h, w = image.shape[0], image.shape[1]\n",
    "    rects = dlib.rectangles()\n",
    "    rec = dlib.rectangle(0, 0, w, h)\n",
    "    rects.append(rec)\n",
    "    \n",
    "    shape = 0\n",
    "    # loop over the face detections\n",
    "    for (i, rect) in enumerate(rects):\n",
    "        # determine the facial landmarks for the face region, then\n",
    "        # convert the facial landmark (x, y)-coordinates to a NumPy\n",
    "        # array\n",
    "        shape = predictor(gray, rect)\n",
    "        shape = face_utils.shape_to_np(shape)\n",
    "\n",
    "        # convert dlib's rectangle to a OpenCV-style bounding box\n",
    "        # [i.e., (x, y, w, h)], then draw the face bounding box\n",
    "        (x, y, w, h) = face_utils.rect_to_bb(rect)\n",
    "        cv2.rectangle(image, (x, y), (x + w, y + h), (0, 255, 0), 2)\n",
    "        # show the face number\n",
    "        cv2.putText(image, \"Face #{}\".format(i + 1), (x - 10, y - 10),\\\n",
    "            cv2.FONT_HERSHEY_SIMPLEX, 0.5, (0, 255, 0), 2)\n",
    "        # loop over the (x, y)-coordinates for the facial landmarks\n",
    "        # and draw them on the image\n",
    "        for (x, y) in shape:\n",
    "            cv2.circle(image, (x, y), 5, (0, 0, 255), -1)\n",
    "    return image, shape\n",
    "\n",
    "def find_best_circle(x, y):\n",
    "    \"\"\"\n",
    "    find the best circle given the list of points\n",
    "    \"\"\"\n",
    "    method_2 = \"leastsq\"\n",
    "    \n",
    "    x_m, y_m = np.mean(x), np.mean(y)\n",
    "    def calc_R(xc, yc):\n",
    "        \"\"\" \n",
    "        calculate the distance of each 2D points from the center (xc, yc) \n",
    "        \"\"\"\n",
    "        return ((x-xc)**2 + (y-yc)**2) ** (1/2)\n",
    "\n",
    "    def f_2(c):\n",
    "        \"\"\" \n",
    "        calculate the algebraic distance between the data points and\n",
    "        the mean circle centered at c=(xc, yc) \n",
    "        \"\"\"\n",
    "        Ri = calc_R(*c)\n",
    "        return Ri - Ri.mean()\n",
    "\n",
    "    center_estimate = x_m, y_m\n",
    "    center_2, ier = optimize.leastsq(f_2, center_estimate)\n",
    "\n",
    "    xc_2, yc_2 = center_2\n",
    "    Ri_2       = calc_R(*center_2)\n",
    "    R_2        = Ri_2.mean()\n",
    "    residu_2   = sum((Ri_2 - R_2)**2)\n",
    "    \n",
    "    return xc_2, yc_2, R_2"
   ]
  },
  {
   "cell_type": "code",
   "execution_count": null,
   "metadata": {
    "colab": {},
    "colab_type": "code",
    "id": "Z6wO7I2COPMV"
   },
   "outputs": [],
   "source": [
    "# Define text info\n",
    "font = cv2.FONT_HERSHEY_SIMPLEX\n",
    "fontScale = 1\n",
    "fontColor = (255, 255, 255)\n",
    "lineType = 2"
   ]
  },
  {
   "cell_type": "code",
   "execution_count": null,
   "metadata": {
    "colab": {},
    "colab_type": "code",
    "id": "tnmS4fwIin2D"
   },
   "outputs": [],
   "source": []
  },
  {
   "cell_type": "markdown",
   "metadata": {
    "colab_type": "text",
    "id": "Pt_nlMG9iqUp"
   },
   "source": [
    "- Test with all the images"
   ]
  },
  {
   "cell_type": "code",
   "execution_count": null,
   "metadata": {
    "colab": {},
    "colab_type": "code",
    "id": "1Q6t75RlOPMW",
    "scrolled": false
   },
   "outputs": [],
   "source": [
    "# predictor = dlib.shape_predictor(predictor_path)\n",
    "\n",
    "# model_result = []\n",
    "# for filename in listdir(data_path_right):\n",
    "#     if filename not in test_file_lst:\n",
    "#         continue\n",
    "#     output, shape = predict_landmarks(data_path_right + filename, predictor)\n",
    "    \n",
    "#     # Find the best fit circle of the iris\n",
    "#     circle_point_x = shape[(1, 3, 5, 7), 0]\n",
    "#     circle_point_y = shape[(1, 3, 5, 7), 1]\n",
    "#     xc1, yc1, r1 = find_best_circle(circle_point_x, circle_point_y)\n",
    "#     xc1, yc1, r1 = int(xc1), int(yc1), int(r1)\n",
    "#     cv2.circle(output, (xc1, yc1), r1, (0, 255, 255), 1)\n",
    "    \n",
    "#     # Find the best fir curve of the upper eyelid\n",
    "#     upper_point_x = shape[(1, 2, 3), 0]\n",
    "#     upper_point_y = shape[(1, 2, 3), 1]\n",
    "#     xc2, yc2, r2 = find_best_circle(upper_point_x, upper_point_y)\n",
    "#     xc2, yc2, r2 = int(xc2), int(yc2), int(r2)\n",
    "#     y_upper = yc2 - (r2 ** 2 - (xc1 - xc2) ** 2) ** (1 / 2)\n",
    "#     if y_upper < 0:\n",
    "#         y_upper = 0\n",
    "#     elif y_upper > yc1:\n",
    "#         y_upper = yc1\n",
    "#     else:\n",
    "#         y_upper = int(y_upper) \n",
    "#     upper_in_mm = round(11.65 * (yc1 - y_upper) / (r1 * 2), 2)\n",
    "#     cv2.putText(output, str(upper_in_mm), (xc1 + 20, y_upper - 20), font, fontScale, fontColor, lineType)\n",
    "#     cv2.arrowedLine(output, (xc1, yc1), (xc1, y_upper), (0, 255, 255), 2)  \n",
    "\n",
    "#     # Find the best fir curve of the lower eyelid\n",
    "#     lower_point_x = shape[(4, 6, 0), 0]\n",
    "#     lower_point_y = shape[(4, 6, 0), 1]\n",
    "#     xc3, yc3, r3 = find_best_circle(lower_point_x, lower_point_y)\n",
    "#     xc3, yc3, r3 = int(xc3), int(yc3), int(r3)\n",
    "#     y_lower = yc3 + (r3 ** 2 - (xc1 - xc3) ** 2) ** (1 / 2)\n",
    "#     if y_lower <= yc1:\n",
    "#         y_lower = yc1\n",
    "#     elif y_lower >= output.shape[0]:\n",
    "#         y_lower = yc1 + r1\n",
    "#     else:\n",
    "#         y_lower = int(y_lower)\n",
    "#     lower_in_mm = round(11.65 * (y_lower - yc1) / (r1 * 2), 2)\n",
    "#     cv2.putText(output, str(lower_in_mm), (xc1 + 20, y_lower + 20), font, fontScale, fontColor, lineType)\n",
    "#     cv2.arrowedLine(output, (xc1, yc1), (xc1, y_lower), (0, 255, 255), 2)  \n",
    "\n",
    "#     # Adding a point at the center\n",
    "#     cv2.circle(output, (xc1, yc1), 2, (0, 0, 255), 2)\n",
    "#     cv2.imwrite(output_path + 'output_' + filename, output)\n",
    "#     plt.imshow(output)\n",
    "#     plt.title(filename)\n",
    "#     plt.show()"
   ]
  },
  {
   "cell_type": "code",
   "execution_count": null,
   "metadata": {
    "colab": {},
    "colab_type": "code",
    "id": "Jf1_xhn1fvZa"
   },
   "outputs": [],
   "source": []
  },
  {
   "cell_type": "markdown",
   "metadata": {
    "colab_type": "text",
    "id": "layiiH3Mfvnu"
   },
   "source": [
    "# Pipeline Testing - Compare with Manual Measurements"
   ]
  },
  {
   "cell_type": "code",
   "execution_count": null,
   "metadata": {
    "colab": {
     "base_uri": "https://localhost:8080/",
     "height": 51
    },
    "colab_type": "code",
    "id": "i0-qe1Cwx2JY",
    "outputId": "27e2f3d2-4390-4506-e6ee-190dad43e3d2"
   },
   "outputs": [
    {
     "name": "stdout",
     "output_type": "stream",
     "text": [
      "Setting up testing environment...\n",
      "Currently testing manual measurements from: do ; on the left eye.\n"
     ]
    }
   ],
   "source": [
    "from imutils import face_utils\n",
    "import numpy as np\n",
    "import imutils\n",
    "import dlib\n",
    "import cv2\n",
    "\n",
    "print('Setting up testing environment...')\n",
    "curr_eye = 'left'\n",
    "\n",
    "predictor_path = file_dir + '../models/' + curr_eye + '_eye_predictor.dat'\n",
    "data_path = file_dir + \"../data/processed/\" + curr_eye + \"/\"\n",
    "output_path = file_dir + '../data/final_output/'\n",
    "\n",
    "all_xml_file_path = file_dir + '../data/processed/' + curr_eye + '/' + curr_eye + '_eyes_eight_points_model_all.xml'\n",
    "empty_xml_file_path = file_dir + '../data/processed/' + curr_eye + '/' + curr_eye + '_eyes_eight_points_model_empty.xml'\n",
    "\n",
    "train_xml_file_path = file_dir + '../data/processed/' + curr_eye + '/' + curr_eye + '_eyes_eight_points_model_train.xml'\n",
    "test_xml_file_path = file_dir + '../data/processed/' + curr_eye + '/' + curr_eye + '_eyes_eight_points_model_test.xml'\n",
    "val_xml_file_path = file_dir + '../data/processed/' + curr_eye + '/' + curr_eye + '_eyes_eight_points_model_val.xml'\n",
    "\n",
    "current_testing_source = 'do'\n",
    "print('Currently testing manual measurements from:', current_testing_source, '; on the', curr_eye, 'eye.')"
   ]
  },
  {
   "cell_type": "code",
   "execution_count": null,
   "metadata": {
    "colab": {
     "base_uri": "https://localhost:8080/",
     "height": 204
    },
    "colab_type": "code",
    "id": "K4UUk8YGbpfH",
    "outputId": "3f6371dd-9b2f-48ae-f4cc-6a6ade6e9ec9"
   },
   "outputs": [
    {
     "data": {
      "text/html": [
       "<div>\n",
       "<style scoped>\n",
       "    .dataframe tbody tr th:only-of-type {\n",
       "        vertical-align: middle;\n",
       "    }\n",
       "\n",
       "    .dataframe tbody tr th {\n",
       "        vertical-align: top;\n",
       "    }\n",
       "\n",
       "    .dataframe thead th {\n",
       "        text-align: right;\n",
       "    }\n",
       "</style>\n",
       "<table border=\"1\" class=\"dataframe\">\n",
       "  <thead>\n",
       "    <tr style=\"text-align: right;\">\n",
       "      <th></th>\n",
       "      <th>original_name</th>\n",
       "      <th>orderred_name</th>\n",
       "      <th>left_found</th>\n",
       "      <th>right_found</th>\n",
       "      <th>both_found</th>\n",
       "      <th>left_hard</th>\n",
       "      <th>right_hard</th>\n",
       "      <th>left_failed</th>\n",
       "      <th>right_failed</th>\n",
       "    </tr>\n",
       "  </thead>\n",
       "  <tbody>\n",
       "    <tr>\n",
       "      <th>0</th>\n",
       "      <td>2MM23355506081418-375.22.JPG</td>\n",
       "      <td>1.jpg</td>\n",
       "      <td>1</td>\n",
       "      <td>1</td>\n",
       "      <td>1</td>\n",
       "      <td>0</td>\n",
       "      <td>0</td>\n",
       "      <td>0</td>\n",
       "      <td>0</td>\n",
       "    </tr>\n",
       "    <tr>\n",
       "      <th>1</th>\n",
       "      <td>2ES30404089011618-374.87.JPG</td>\n",
       "      <td>2.jpg</td>\n",
       "      <td>1</td>\n",
       "      <td>1</td>\n",
       "      <td>1</td>\n",
       "      <td>0</td>\n",
       "      <td>0</td>\n",
       "      <td>0</td>\n",
       "      <td>0</td>\n",
       "    </tr>\n",
       "    <tr>\n",
       "      <th>2</th>\n",
       "      <td>2MR10489169120318-374.87.JPG</td>\n",
       "      <td>3.jpg</td>\n",
       "      <td>1</td>\n",
       "      <td>1</td>\n",
       "      <td>1</td>\n",
       "      <td>0</td>\n",
       "      <td>0</td>\n",
       "      <td>0</td>\n",
       "      <td>0</td>\n",
       "    </tr>\n",
       "    <tr>\n",
       "      <th>3</th>\n",
       "      <td>2DM15140817020618-374.33.JPG</td>\n",
       "      <td>4.jpg</td>\n",
       "      <td>1</td>\n",
       "      <td>0</td>\n",
       "      <td>0</td>\n",
       "      <td>0</td>\n",
       "      <td>0</td>\n",
       "      <td>0</td>\n",
       "      <td>1</td>\n",
       "    </tr>\n",
       "    <tr>\n",
       "      <th>4</th>\n",
       "      <td>2FM16841546011618-374.33.JPG</td>\n",
       "      <td>5.jpg</td>\n",
       "      <td>0</td>\n",
       "      <td>0</td>\n",
       "      <td>0</td>\n",
       "      <td>0</td>\n",
       "      <td>0</td>\n",
       "      <td>1</td>\n",
       "      <td>1</td>\n",
       "    </tr>\n",
       "  </tbody>\n",
       "</table>\n",
       "</div>"
      ],
      "text/plain": [
       "                  original_name orderred_name  ...  left_failed  right_failed\n",
       "0  2MM23355506081418-375.22.JPG         1.jpg  ...            0             0\n",
       "1  2ES30404089011618-374.87.JPG         2.jpg  ...            0             0\n",
       "2  2MR10489169120318-374.87.JPG         3.jpg  ...            0             0\n",
       "3  2DM15140817020618-374.33.JPG         4.jpg  ...            0             1\n",
       "4  2FM16841546011618-374.33.JPG         5.jpg  ...            1             1\n",
       "\n",
       "[5 rows x 9 columns]"
      ]
     },
     "execution_count": 7,
     "metadata": {
      "tags": []
     },
     "output_type": "execute_result"
    }
   ],
   "source": [
    "df_img_info = pd.read_csv(file_dir + '../data/processed/df_img_info.csv')\n",
    "df_img_info.head()"
   ]
  },
  {
   "cell_type": "code",
   "execution_count": null,
   "metadata": {
    "colab": {
     "base_uri": "https://localhost:8080/",
     "height": 34
    },
    "colab_type": "code",
    "id": "JxTpR7pihF1q",
    "outputId": "deec1471-eb6c-464d-fa0e-878dec86f400"
   },
   "outputs": [
    {
     "name": "stdout",
     "output_type": "stream",
     "text": [
      "100\n"
     ]
    }
   ],
   "source": [
    "labeled_data_dir = file_dir + '../data/processed/left_akg_all/'\n",
    "# lebel_file_dir = file_dir + '../data/labels/cl/'\n",
    "manual_measurements_file_dir = file_dir + '../data/labels/' + current_testing_source + '/'\n",
    "test_count = 50\n",
    "\n",
    "all_testing_img = []\n",
    "for label in listdir(manual_measurements_file_dir):\n",
    "    tmp_name = label.replace('_left.txt', '.JPG')\n",
    "    tmp_df = df_img_info.query('original_name == \"' + tmp_name + '\"')\n",
    "    if tmp_df.shape[0] == 0:\n",
    "        print('Something wrong with:', label)\n",
    "        continue\n",
    "    orderred_img_idx = int(tmp_df.orderred_name.iloc[0].replace('.jpg', ''))\n",
    "    all_testing_img.append(orderred_img_idx)\n",
    "print(len(all_testing_img))"
   ]
  },
  {
   "cell_type": "code",
   "execution_count": null,
   "metadata": {
    "colab": {
     "base_uri": "https://localhost:8080/",
     "height": 34
    },
    "colab_type": "code",
    "id": "1djQVpH9yRNf",
    "outputId": "aee0dcfc-510c-41c5-f3e8-0739f829ac1a"
   },
   "outputs": [
    {
     "name": "stdout",
     "output_type": "stream",
     "text": [
      "Loading predictor from: drive/My Drive/Dr Chao/notebooks/../models/left_eye_predictor.dat\n"
     ]
    }
   ],
   "source": [
    "print('Loading predictor from:', predictor_path)\n",
    "predictor = dlib.shape_predictor(predictor_path)"
   ]
  },
  {
   "cell_type": "code",
   "execution_count": null,
   "metadata": {
    "colab": {},
    "colab_type": "code",
    "id": "ellAalYAhFy8"
   },
   "outputs": [],
   "source": [
    "# Define text info\n",
    "font = cv2.FONT_HERSHEY_SIMPLEX\n",
    "fontScale = 1\n",
    "fontColor = (255, 255, 255)\n",
    "lineType = 2\n",
    "\n",
    "def predict_landmarks(filepath, predictor):\n",
    "    \"\"\"\n",
    "    Predicting the landmarks given a image filepath and a predictor object\n",
    "    nput:\n",
    "        - filepath       : filepath to the image\n",
    "        - predictor      : predictor object\n",
    "    return:\n",
    "        - image          : output image\n",
    "        - shape          : list of landmark locations\n",
    "    \"\"\"\n",
    "\n",
    "    # load the input image, resize it, and convert it to grayscale\n",
    "    image = cv2.imread(filepath)\n",
    "    # image = imutils.resize(image, width = 250)\n",
    "    gray = cv2.cvtColor(image, cv2.COLOR_BGR2GRAY)\n",
    "    gray = cv2.GaussianBlur(gray, (5, 5), 0)\n",
    "\n",
    "    h, w = image.shape[0], image.shape[1]\n",
    "    rects = dlib.rectangles()\n",
    "    rec = dlib.rectangle(0, 0, w, h)\n",
    "    rects.append(rec)\n",
    "    \n",
    "    shape = 0\n",
    "    # loop over the face detections\n",
    "    for (i, rect) in enumerate(rects):\n",
    "        # determine the facial landmarks for the face region, then\n",
    "        # convert the facial landmark (x, y)-coordinates to a NumPy\n",
    "        # array\n",
    "        shape = predictor(gray, rect)\n",
    "        shape = face_utils.shape_to_np(shape)\n",
    "\n",
    "        # convert dlib's rectangle to a OpenCV-style bounding box\n",
    "        # [i.e., (x, y, w, h)], then draw the face bounding box\n",
    "        (x, y, w, h) = face_utils.rect_to_bb(rect)\n",
    "        cv2.rectangle(image, (x, y), (x + w, y + h), (0, 255, 0), 2)\n",
    "        # show the face number\n",
    "        cv2.putText(image, \"Face #{}\".format(i + 1), (x - 10, y - 10),\\\n",
    "            cv2.FONT_HERSHEY_SIMPLEX, 0.5, (0, 255, 0), 2)\n",
    "        # loop over the (x, y)-coordinates for the facial landmarks\n",
    "        # and draw them on the image\n",
    "        for (x, y) in shape:\n",
    "            cv2.circle(image, (x, y), 5, (0, 0, 255), -1)\n",
    "    return image, shape\n",
    "\n",
    "def find_best_circle(x, y):\n",
    "    \"\"\"\n",
    "    find the best circle given the list of points\n",
    "    \"\"\"\n",
    "    method_2 = \"leastsq\"\n",
    "    \n",
    "    x_m, y_m = np.mean(x), np.mean(y)\n",
    "    def calc_R(xc, yc):\n",
    "        \"\"\" \n",
    "        calculate the distance of each 2D points from the center (xc, yc) \n",
    "        \"\"\"\n",
    "        return ((x-xc)**2 + (y-yc)**2) ** (1/2)\n",
    "\n",
    "    def f_2(c):\n",
    "        \"\"\" \n",
    "        calculate the algebraic distance between the data points and\n",
    "        the mean circle centered at c=(xc, yc) \n",
    "        \"\"\"\n",
    "        Ri = calc_R(*c)\n",
    "        return Ri - Ri.mean()\n",
    "\n",
    "    center_estimate = x_m, y_m\n",
    "    center_2, ier = optimize.leastsq(f_2, center_estimate)\n",
    "\n",
    "    xc_2, yc_2 = center_2\n",
    "    Ri_2       = calc_R(*center_2)\n",
    "    R_2        = Ri_2.mean()\n",
    "    residu_2   = sum((Ri_2 - R_2)**2)\n",
    "    \n",
    "    return xc_2, yc_2, R_2\n",
    "\n",
    "def measure_single_image(filepath, predictor):\n",
    "    \"\"\"\n",
    "    input:\n",
    "        - filepath       : filepath to the image\n",
    "        - predictor      : predictor object\n",
    "    return:\n",
    "        - output         : Output image\n",
    "        - (xc1, y_lower) : Lower intercection\n",
    "        - (xc1, yc1)     : Circle center \n",
    "        - (xc1, y_upper) : Upper intercection\n",
    "    \"\"\"\n",
    "\n",
    "    # Check if image file exists\n",
    "    if filepath not in listdir(tesing_img_path):\n",
    "        print('[ERROR] File not found! Current file:', tesing_img_path + filepath)\n",
    "        return None\n",
    "    # print(tesing_img_path + filepath)\n",
    "\n",
    "    # Call landmark predictor\n",
    "    output, shape = predict_landmarks(tesing_img_path + filepath, predictor)\n",
    "    \n",
    "    # Find the best fit circle of the iris\n",
    "    circle_point_x = shape[(1, 3, 5, 7), 0]\n",
    "    circle_point_y = shape[(1, 3, 5, 7), 1]\n",
    "    xc1, yc1, r1 = find_best_circle(circle_point_x, circle_point_y)\n",
    "    xc1, yc1, r1 = int(xc1), int(yc1), int(r1)\n",
    "    cv2.circle(output, (xc1, yc1), r1, (0, 255, 255), 1)\n",
    "    \n",
    "    # Find the best fir curve of the upper eyelid\n",
    "    upper_point_x = shape[(1, 2, 3), 0]\n",
    "    upper_point_y = shape[(1, 2, 3), 1]\n",
    "    xc2, yc2, r2 = find_best_circle(upper_point_x, upper_point_y)\n",
    "    xc2, yc2, r2 = int(xc2), int(yc2), int(r2)\n",
    "    y_upper = yc2 - (r2 ** 2 - (xc1 - xc2) ** 2) ** (1 / 2)\n",
    "    if y_upper < 0:\n",
    "        y_upper = 0\n",
    "    # elif y_upper > yc1:\n",
    "    #     y_upper = yc1\n",
    "    else:\n",
    "        y_upper = int(y_upper) \n",
    "    upper_in_mm = round(11.65 * (yc1 - y_upper) / (r1 * 2), 2)\n",
    "    cv2.putText(output, str(upper_in_mm), (xc1 + 20, y_upper - 20), font, fontScale, fontColor, lineType)\n",
    "    cv2.arrowedLine(output, (xc1, yc1), (xc1, y_upper), (0, 255, 255), 2)  \n",
    "\n",
    "    # Find the best fir curve of the lower eyelid\n",
    "    lower_point_x = shape[(4, 6, 0), 0]\n",
    "    lower_point_y = shape[(4, 6, 0), 1]\n",
    "    xc3, yc3, r3 = find_best_circle(lower_point_x, lower_point_y)\n",
    "    xc3, yc3, r3 = int(xc3), int(yc3), int(r3)\n",
    "    y_lower = yc3 + (r3 ** 2 - (xc1 - xc3) ** 2) ** (1 / 2)\n",
    "    if y_lower <= yc1:\n",
    "        y_lower = yc1\n",
    "    elif y_lower >= output.shape[0]:\n",
    "        y_lower = yc1 + r1\n",
    "    else:\n",
    "        y_lower = int(y_lower)\n",
    "    lower_in_mm = round(11.65 * (y_lower - yc1) / (r1 * 2), 2)\n",
    "    cv2.putText(output, str(lower_in_mm), (xc1 + 20, y_lower + 20), font, fontScale, fontColor, lineType)\n",
    "    cv2.arrowedLine(output, (xc1, yc1), (xc1, y_lower), (0, 255, 255), 2)  \n",
    "\n",
    "    # Adding a point at the center\n",
    "    cv2.circle(output, (xc1, yc1), 2, (0, 0, 255), 2)\n",
    "    # plt.imshow(output)\n",
    "    # plt.title(filepath)\n",
    "    # plt.show()\n",
    "    return output, (xc1, y_lower), (xc1, yc1), (xc1, y_upper), r1"
   ]
  },
  {
   "cell_type": "code",
   "execution_count": null,
   "metadata": {
    "colab": {},
    "colab_type": "code",
    "id": "IomUsyt7OPMY"
   },
   "outputs": [],
   "source": [
    "def test_with_manual_measurement(current_testing_source):\n",
    "    print('[DEBUG] Number of measurements to be evaluated:', test_count)\n",
    "    df_img_info = pd.read_csv(file_dir + '../data/processed/df_img_info.csv')\n",
    "\n",
    "    # Defining input\n",
    "    manual_measurements_file_dir = file_dir + '../data/labels/' + current_testing_source + '/'\n",
    "    print('[Input] Comparing to measurement from:', current_testing_source)\n",
    "    tesing_img_path = file_dir + '../data/processed/left_akg_all/'\n",
    "    print('[Input] Testing image from:', tesing_img_path)\n",
    "\n",
    "    # Defining output\n",
    "    output_path = file_dir + '../data/final_output/' + current_testing_source + '/'\n",
    "    print('[Output] Output image dir:', output_path)\n",
    "\n",
    "    comparison_results = []\n",
    "\n",
    "    counter = 0\n",
    "    for test_idx in all_testing_img[:test_count]:\n",
    "        # Get the original name\n",
    "        original_name = df_img_info.query('orderred_name == \"' + str(test_idx) + '.jpg\"')\\\n",
    "            .original_name.iloc[0].replace('.JPG', '')\n",
    "        \n",
    "        # Loading manual measurements\n",
    "        f = open(manual_measurements_file_dir + original_name + '_left.txt') \n",
    "        cordinates = []\n",
    "        for line in f:\n",
    "            x, y = line.split()\n",
    "            cordinates.append([int(float(x)), int(float(y))])\n",
    "        x1, y1 = cordinates[2]\n",
    "        x2, y2 = cordinates[1]\n",
    "        x3, y3 = cordinates[0]\n",
    "\n",
    "        # Load testing image\n",
    "        output, (xc1, y_lower), (xc1, yc1), (xc1, y_upper), r1 = measure_single_image(original_name + '_left.png', predictor)\n",
    "        cv2.imwrite(output_path + str(test_idx) + '.jpg', output)\n",
    "\n",
    "        comparison_results.append({\n",
    "            'id': original_name.replace('.txt', ''),\n",
    "            'orderred_id': str(test_idx),\n",
    "            'true_upper': cordinates[2][1],\n",
    "            'model_upper': y_upper,\n",
    "            'true_lower': cordinates[0][1],\n",
    "            'model_lower': y_lower,\n",
    "            'true_mrd1': yc1 - cordinates[2][1],\n",
    "            'model_mrd1': yc1 - y_upper,\n",
    "            'true_mrd2': cordinates[0][1] - yc1,\n",
    "            'model_mrd2': y_lower - yc1,\n",
    "            'radius': r1,\n",
    "            'true_center': (x2, y2),\n",
    "            'model_center': (xc1, yc1)\n",
    "        })\n",
    "    return comparison_results\n",
    "\n",
    "def process_comparison_results(comparison_results):\n",
    "    # Results\n",
    "    df_comparison_results = pd.DataFrame(comparison_results)\n",
    "\n",
    "    df_comparison_results['mrd1_error_pixel'] = df_comparison_results.model_mrd1 - df_comparison_results.true_mrd1\n",
    "    df_comparison_results.mrd1_error_pixel = df_comparison_results.mrd1_error_pixel.apply(lambda x: round((x), 2))\n",
    "    df_comparison_results['mrd1_error_percentage'] = (df_comparison_results.mrd1_error_pixel \\\n",
    "                    / df_comparison_results.true_mrd1).apply(lambda x: round(x, 2))\n",
    "    df_comparison_results['mrd1_error_mm'] = df_comparison_results\\\n",
    "                    .apply(lambda s: round((s.mrd1_error_pixel / s.radius) * 5.5, 2), axis = 1)\n",
    "\n",
    "    df_comparison_results['mrd2_error_pixel'] = df_comparison_results.model_mrd2 - df_comparison_results.true_mrd2\n",
    "    df_comparison_results.mrd2_error_pixel = df_comparison_results.mrd2_error_pixel.apply(lambda x: round((x), 2))\n",
    "    df_comparison_results['mrd2_error_percentage'] = (df_comparison_results.mrd2_error_pixel \\\n",
    "                    / df_comparison_results.true_mrd2).apply(lambda x: round(x, 2))\n",
    "    df_comparison_results['mrd2_error_mm'] = df_comparison_results\\\n",
    "                    .apply(lambda s: round((s.mrd2_error_pixel / s.radius) * 5.5, 2), axis = 1)\n",
    "    def calc_center_dist(c1, c2):\n",
    "        return round(((c1[0] - c2[0]) ** 2 + (c1[1] - c2[1]) ** 2) ** (1/2), 2)\n",
    "    df_comparison_results['center_distance_pixel'] = df_comparison_results\\\n",
    "        .apply(lambda s: calc_center_dist(s.true_center, s.model_center), axis = 1)\n",
    "    df_comparison_results['center_distance_mm'] = df_comparison_results\\\n",
    "                    .apply(lambda s: round((s.center_distance_pixel / s.radius) * 5.5, 2), axis = 1)\n",
    "\n",
    "    print('[Output] Shape of df_comparison_results', df_comparison_results.shape)\n",
    "    return df_comparison_results"
   ]
  },
  {
   "cell_type": "code",
   "execution_count": null,
   "metadata": {
    "colab": {
     "base_uri": "https://localhost:8080/",
     "height": 374
    },
    "colab_type": "code",
    "id": "qCI6Tdet6ABu",
    "outputId": "5a7b2c23-adc8-4086-f183-cd7d92982b62"
   },
   "outputs": [
    {
     "name": "stdout",
     "output_type": "stream",
     "text": [
      "[DEBUG] Currently processing: do\n",
      "[DEBUG] Number of measurements to be evaluated: 50\n",
      "[Input] Comparing to measurement from: do\n",
      "[Input] Testing image from: drive/My Drive/Dr Chao/notebooks/../data/processed/left_akg_all/\n",
      "[Output] Output image dir: drive/My Drive/Dr Chao/notebooks/../data/final_output/do/\n",
      "[Output] Shape of df_comparison_results (50, 21)\n",
      "[Output] Output csv dir: drive/My Drive/Dr Chao/notebooks/../data/final_output/csv/do.csv\n",
      "[DEBUG] Currently processing: cl\n",
      "[DEBUG] Number of measurements to be evaluated: 50\n",
      "[Input] Comparing to measurement from: cl\n",
      "[Input] Testing image from: drive/My Drive/Dr Chao/notebooks/../data/processed/left_akg_all/\n",
      "[Output] Output image dir: drive/My Drive/Dr Chao/notebooks/../data/final_output/cl/\n",
      "[Output] Shape of df_comparison_results (50, 21)\n",
      "[Output] Output csv dir: drive/My Drive/Dr Chao/notebooks/../data/final_output/csv/cl.csv\n",
      "[DEBUG] Currently processing: zvi\n",
      "[DEBUG] Number of measurements to be evaluated: 50\n",
      "[Input] Comparing to measurement from: zvi\n",
      "[Input] Testing image from: drive/My Drive/Dr Chao/notebooks/../data/processed/left_akg_all/\n",
      "[Output] Output image dir: drive/My Drive/Dr Chao/notebooks/../data/final_output/zvi/\n",
      "[Output] Shape of df_comparison_results (50, 21)\n",
      "[Output] Output csv dir: drive/My Drive/Dr Chao/notebooks/../data/final_output/csv/zvi.csv\n"
     ]
    }
   ],
   "source": [
    "testing_source_lst = ['do', 'cl', 'zvi']\n",
    "for testing_source in testing_source_lst:\n",
    "    print('[DEBUG] Currently processing:', testing_source)\n",
    "    comparison_results = test_with_manual_measurement(testing_source)\n",
    "    df_comparison_results = process_comparison_results(comparison_results)\n",
    "    \n",
    "    output_csv_path = file_dir + '../data/final_output/csv/' + testing_source + '.csv'\n",
    "    print('[Output] Output csv dir:', output_csv_path)\n",
    "    df_comparison_results.to_csv(output_csv_path, index = False)"
   ]
  },
  {
   "cell_type": "code",
   "execution_count": null,
   "metadata": {
    "colab": {},
    "colab_type": "code",
    "id": "P0roXWUOzl1V"
   },
   "outputs": [],
   "source": [
    "# output_csv_path = file_dir + '../data/final_output/csv/' + \n",
    "# print('[Output] Output image dir:', output_csv_path)\n",
    "# df_comparison_results.to_csv(output_csv_path, index = False)"
   ]
  },
  {
   "cell_type": "markdown",
   "metadata": {
    "colab_type": "text",
    "id": "E2oaVRyZzmES"
   },
   "source": [
    "## Analysis on the outcome"
   ]
  },
  {
   "cell_type": "markdown",
   "metadata": {
    "colab_type": "text",
    "id": "_zi-YrCA7ySo"
   },
   "source": [
    "### Analysis on single person"
   ]
  },
  {
   "cell_type": "code",
   "execution_count": null,
   "metadata": {
    "colab": {
     "base_uri": "https://localhost:8080/",
     "height": 34
    },
    "colab_type": "code",
    "id": "C-eopRKDOPMw",
    "outputId": "7af6c11b-e481-4b14-9007-3da124df8a5d"
   },
   "outputs": [
    {
     "name": "stdout",
     "output_type": "stream",
     "text": [
      "[MRD1] Number measurement with greater than 0.4 mm error: 3 (out of 50)\n"
     ]
    }
   ],
   "source": [
    "print('[MRD1] Number measurement with greater than 0.4 mm error:', sum(abs(df_comparison_results.mrd1_error_mm) > 0.4), '(out of', \\\n",
    "        str(df_comparison_results.shape[0]) + ')')"
   ]
  },
  {
   "cell_type": "code",
   "execution_count": null,
   "metadata": {
    "colab": {
     "base_uri": "https://localhost:8080/",
     "height": 34
    },
    "colab_type": "code",
    "id": "3cTyV6sjxlYK",
    "outputId": "f5eed4bc-4490-4fe3-ee7b-6b7ceab050db"
   },
   "outputs": [
    {
     "name": "stdout",
     "output_type": "stream",
     "text": [
      "[MRD1] Number measurement with greater than 0.3 mm error: 7 (out of 50)\n"
     ]
    }
   ],
   "source": [
    "print('[MRD1] Number measurement with greater than 0.3 mm error:', sum(abs(df_comparison_results.mrd1_error_mm) > 0.3), '(out of', \\\n",
    "        str(df_comparison_results.shape[0]) + ')')"
   ]
  },
  {
   "cell_type": "code",
   "execution_count": null,
   "metadata": {
    "colab": {
     "base_uri": "https://localhost:8080/",
     "height": 314
    },
    "colab_type": "code",
    "id": "FTxgUm1wOPMx",
    "outputId": "036a6519-a54e-4dfd-b599-732c4b698083"
   },
   "outputs": [
    {
     "name": "stdout",
     "output_type": "stream",
     "text": [
      "[MRD1] Error distribution\n"
     ]
    },
    {
     "data": {
      "text/plain": [
       "<matplotlib.axes._subplots.AxesSubplot at 0x7f1aaff24550>"
      ]
     },
     "execution_count": 39,
     "metadata": {
      "tags": []
     },
     "output_type": "execute_result"
    },
    {
     "data": {
      "image/png": "[encoded data removed]",
      "text/plain": [
       "<Figure size 432x288 with 1 Axes>"
      ]
     },
     "metadata": {
      "needs_background": "light",
      "tags": []
     },
     "output_type": "display_data"
    }
   ],
   "source": [
    "print('[MRD1] Error distribution')\n",
    "sns.distplot(df_comparison_results.mrd1_error_mm, kde = False)"
   ]
  },
  {
   "cell_type": "code",
   "execution_count": null,
   "metadata": {
    "colab": {
     "base_uri": "https://localhost:8080/",
     "height": 314
    },
    "colab_type": "code",
    "id": "vVwDzywa1I6T",
    "outputId": "5307e599-29c7-4899-9672-becf8025c933"
   },
   "outputs": [
    {
     "name": "stdout",
     "output_type": "stream",
     "text": [
      "[MRD1] ABSOLUTE Error distribution\n"
     ]
    },
    {
     "data": {
      "text/plain": [
       "<matplotlib.axes._subplots.AxesSubplot at 0x7f1aafe59390>"
      ]
     },
     "execution_count": 40,
     "metadata": {
      "tags": []
     },
     "output_type": "execute_result"
    },
    {
     "data": {
      "image/png": "[encoded data removed]",
      "text/plain": [
       "<Figure size 432x288 with 1 Axes>"
      ]
     },
     "metadata": {
      "needs_background": "light",
      "tags": []
     },
     "output_type": "display_data"
    }
   ],
   "source": [
    "print('[MRD1] ABSOLUTE Error distribution')\n",
    "sns.distplot(abs(df_comparison_results.mrd1_error_mm), kde = False)"
   ]
  },
  {
   "cell_type": "code",
   "execution_count": null,
   "metadata": {
    "colab": {
     "base_uri": "https://localhost:8080/",
     "height": 34
    },
    "colab_type": "code",
    "id": "BEAzT1JRWMk2",
    "outputId": "0a674657-103c-4f15-ddcd-a7d94c0724f6"
   },
   "outputs": [
    {
     "name": "stdout",
     "output_type": "stream",
     "text": [
      "[MRD2] Number measurement with greater than 0.4 mm error: 16 (out of 50)\n"
     ]
    }
   ],
   "source": [
    "print('[MRD2] Number measurement with greater than 0.4 mm error:', sum(abs(df_comparison_results.mrd2_error_mm) > 0.4), '(out of', \\\n",
    "        str(df_comparison_results.shape[0]) + ')')"
   ]
  },
  {
   "cell_type": "code",
   "execution_count": null,
   "metadata": {
    "colab": {
     "base_uri": "https://localhost:8080/",
     "height": 34
    },
    "colab_type": "code",
    "id": "UCmvfZ4_1SYM",
    "outputId": "ab9f8ecb-b433-436f-b800-5733a15a4377"
   },
   "outputs": [
    {
     "name": "stdout",
     "output_type": "stream",
     "text": [
      "[MRD2] Number measurement with greater than 0.3 mm error: 19 (out of 50)\n"
     ]
    }
   ],
   "source": [
    "print('[MRD2] Number measurement with greater than 0.3 mm error:', sum(abs(df_comparison_results.mrd2_error_mm) > 0.3), '(out of', \\\n",
    "        str(df_comparison_results.shape[0]) + ')')"
   ]
  },
  {
   "cell_type": "code",
   "execution_count": null,
   "metadata": {
    "colab": {
     "base_uri": "https://localhost:8080/",
     "height": 314
    },
    "colab_type": "code",
    "id": "K9xYQhyL1Sdx",
    "outputId": "20b5a735-4106-4b27-c692-79f4822241cc"
   },
   "outputs": [
    {
     "name": "stdout",
     "output_type": "stream",
     "text": [
      "[MRD1] Error distribution\n"
     ]
    },
    {
     "data": {
      "text/plain": [
       "<matplotlib.axes._subplots.AxesSubplot at 0x7f1aafe4d550>"
      ]
     },
     "execution_count": 43,
     "metadata": {
      "tags": []
     },
     "output_type": "execute_result"
    },
    {
     "data": {
      "image/png": "[encoded data removed]",
      "text/plain": [
       "<Figure size 432x288 with 1 Axes>"
      ]
     },
     "metadata": {
      "needs_background": "light",
      "tags": []
     },
     "output_type": "display_data"
    }
   ],
   "source": [
    "print('[MRD1] Error distribution')\n",
    "sns.distplot(df_comparison_results.mrd1_error_mm, kde = False)"
   ]
  },
  {
   "cell_type": "code",
   "execution_count": null,
   "metadata": {
    "colab": {},
    "colab_type": "code",
    "id": "m2Q18BpR1Sii"
   },
   "outputs": [],
   "source": []
  },
  {
   "cell_type": "code",
   "execution_count": null,
   "metadata": {
    "colab": {},
    "colab_type": "code",
    "id": "AnFPN10E1Sbi"
   },
   "outputs": [],
   "source": []
  },
  {
   "cell_type": "markdown",
   "metadata": {
    "colab_type": "text",
    "id": "ncmvTgqy1-Ca"
   },
   "source": [
    "### Average MRD1 Error over three person"
   ]
  },
  {
   "cell_type": "code",
   "execution_count": null,
   "metadata": {
    "colab": {
     "base_uri": "https://localhost:8080/",
     "height": 68
    },
    "colab_type": "code",
    "id": "dPtJ1a5A2IAW",
    "outputId": "f9ea5600-eb66-457c-c390-9db49c1d7f15"
   },
   "outputs": [
    {
     "name": "stdout",
     "output_type": "stream",
     "text": [
      "[Input] Input csv dir: drive/My Drive/Dr Chao/notebooks/../data/final_output/csv/do.csv\n",
      "[Input] Input csv dir: drive/My Drive/Dr Chao/notebooks/../data/final_output/csv/cl.csv\n",
      "[Input] Input csv dir: drive/My Drive/Dr Chao/notebooks/../data/final_output/csv/zvi.csv\n"
     ]
    }
   ],
   "source": [
    "from functools import reduce\n",
    "\n",
    "testing_source_lst = ['do', 'cl', 'zvi']\n",
    "\n",
    "df_dict = {}\n",
    "for testing_source in testing_source_lst:\n",
    "    input_csv_path = file_dir + '../data/final_output/csv/' + testing_source + '.csv'\n",
    "    print('[Input] Input csv dir:', input_csv_path)\n",
    "    tmp_df = pd.read_csv(input_csv_path).sort_values(by = \"orderred_id\")\n",
    "    df_dict[testing_source] = tmp_df\n",
    "# comparison_merged = reduce(lambda left, right: pd.merge(left, right, on = ['orderred_id'], how = 'outer'), df_lst)"
   ]
  },
  {
   "cell_type": "code",
   "execution_count": null,
   "metadata": {
    "colab": {
     "base_uri": "https://localhost:8080/",
     "height": 34
    },
    "colab_type": "code",
    "id": "uFoXjFeR2H6m",
    "outputId": "95a5ade9-0d65-4a09-ab34-a33c5bfc1369"
   },
   "outputs": [
    {
     "name": "stdout",
     "output_type": "stream",
     "text": [
      "Averaging on MRD1 Error...\n"
     ]
    }
   ],
   "source": [
    "print('Averaging on MRD1 Error...')\n",
    "measurement_df = pd.DataFrame(index = df_dict['do'].orderred_id)\n",
    "# measurement_df.index = df_dict['do']\n",
    "for testing_source in testing_source_lst:\n",
    "    measurement_df[testing_source + '_abs'] = pd.Series(df_dict[testing_source].mrd1_error_mm.abs().values, df_dict[testing_source].orderred_id)\n",
    "    measurement_df[testing_source] = pd.Series(df_dict[testing_source].mrd1_error_mm.values, df_dict[testing_source].orderred_id)\n",
    "measurement_df['avg_abs'] = measurement_df.apply(lambda s: np.mean(np.array([s.do_abs, s.cl_abs, s.zvi_abs])), axis = 1)\n",
    "measurement_df['avg'] = measurement_df.apply(lambda s: np.mean(np.array([s.do, s.cl, s.zvi])), axis = 1)"
   ]
  },
  {
   "cell_type": "code",
   "execution_count": null,
   "metadata": {
    "colab": {
     "base_uri": "https://localhost:8080/",
     "height": 235
    },
    "colab_type": "code",
    "id": "CzRhwlX7CkbP",
    "outputId": "82674942-620b-44ac-e88f-639d508a0a22"
   },
   "outputs": [
    {
     "data": {
      "text/html": [
       "<div>\n",
       "<style scoped>\n",
       "    .dataframe tbody tr th:only-of-type {\n",
       "        vertical-align: middle;\n",
       "    }\n",
       "\n",
       "    .dataframe tbody tr th {\n",
       "        vertical-align: top;\n",
       "    }\n",
       "\n",
       "    .dataframe thead th {\n",
       "        text-align: right;\n",
       "    }\n",
       "</style>\n",
       "<table border=\"1\" class=\"dataframe\">\n",
       "  <thead>\n",
       "    <tr style=\"text-align: right;\">\n",
       "      <th></th>\n",
       "      <th>do_abs</th>\n",
       "      <th>do</th>\n",
       "      <th>cl_abs</th>\n",
       "      <th>cl</th>\n",
       "      <th>zvi_abs</th>\n",
       "      <th>zvi</th>\n",
       "      <th>avg_abs</th>\n",
       "      <th>avg</th>\n",
       "    </tr>\n",
       "    <tr>\n",
       "      <th>orderred_id</th>\n",
       "      <th></th>\n",
       "      <th></th>\n",
       "      <th></th>\n",
       "      <th></th>\n",
       "      <th></th>\n",
       "      <th></th>\n",
       "      <th></th>\n",
       "      <th></th>\n",
       "    </tr>\n",
       "  </thead>\n",
       "  <tbody>\n",
       "    <tr>\n",
       "      <th>1</th>\n",
       "      <td>0.40</td>\n",
       "      <td>0.40</td>\n",
       "      <td>0.35</td>\n",
       "      <td>0.35</td>\n",
       "      <td>0.50</td>\n",
       "      <td>0.50</td>\n",
       "      <td>0.416667</td>\n",
       "      <td>0.416667</td>\n",
       "    </tr>\n",
       "    <tr>\n",
       "      <th>3</th>\n",
       "      <td>0.18</td>\n",
       "      <td>0.18</td>\n",
       "      <td>0.09</td>\n",
       "      <td>-0.09</td>\n",
       "      <td>0.05</td>\n",
       "      <td>0.05</td>\n",
       "      <td>0.106667</td>\n",
       "      <td>0.046667</td>\n",
       "    </tr>\n",
       "    <tr>\n",
       "      <th>7</th>\n",
       "      <td>0.18</td>\n",
       "      <td>0.18</td>\n",
       "      <td>0.23</td>\n",
       "      <td>0.23</td>\n",
       "      <td>0.60</td>\n",
       "      <td>0.60</td>\n",
       "      <td>0.336667</td>\n",
       "      <td>0.336667</td>\n",
       "    </tr>\n",
       "    <tr>\n",
       "      <th>10</th>\n",
       "      <td>0.16</td>\n",
       "      <td>-0.16</td>\n",
       "      <td>0.10</td>\n",
       "      <td>-0.10</td>\n",
       "      <td>0.31</td>\n",
       "      <td>-0.31</td>\n",
       "      <td>0.190000</td>\n",
       "      <td>-0.190000</td>\n",
       "    </tr>\n",
       "    <tr>\n",
       "      <th>15</th>\n",
       "      <td>0.19</td>\n",
       "      <td>0.19</td>\n",
       "      <td>0.15</td>\n",
       "      <td>0.15</td>\n",
       "      <td>0.19</td>\n",
       "      <td>0.19</td>\n",
       "      <td>0.176667</td>\n",
       "      <td>0.176667</td>\n",
       "    </tr>\n",
       "  </tbody>\n",
       "</table>\n",
       "</div>"
      ],
      "text/plain": [
       "             do_abs    do  cl_abs    cl  zvi_abs   zvi   avg_abs       avg\n",
       "orderred_id                                                               \n",
       "1              0.40  0.40    0.35  0.35     0.50  0.50  0.416667  0.416667\n",
       "3              0.18  0.18    0.09 -0.09     0.05  0.05  0.106667  0.046667\n",
       "7              0.18  0.18    0.23  0.23     0.60  0.60  0.336667  0.336667\n",
       "10             0.16 -0.16    0.10 -0.10     0.31 -0.31  0.190000 -0.190000\n",
       "15             0.19  0.19    0.15  0.15     0.19  0.19  0.176667  0.176667"
      ]
     },
     "execution_count": 99,
     "metadata": {
      "tags": []
     },
     "output_type": "execute_result"
    }
   ],
   "source": [
    "measurement_df.head()"
   ]
  },
  {
   "cell_type": "code",
   "execution_count": null,
   "metadata": {
    "colab": {
     "base_uri": "https://localhost:8080/",
     "height": 297
    },
    "colab_type": "code",
    "id": "jHzgBI3i2H2P",
    "outputId": "e7492db0-0960-4d44-8fd4-6d6fd149e917"
   },
   "outputs": [
    {
     "data": {
      "text/plain": [
       "<matplotlib.axes._subplots.AxesSubplot at 0x7f1aadf4fb00>"
      ]
     },
     "execution_count": 104,
     "metadata": {
      "tags": []
     },
     "output_type": "execute_result"
    },
    {
     "data": {
      "image/png": "[encoded data removed]",
      "text/plain": [
       "<Figure size 432x288 with 1 Axes>"
      ]
     },
     "metadata": {
      "needs_background": "light",
      "tags": []
     },
     "output_type": "display_data"
    }
   ],
   "source": [
    "sns.distplot(measurement_df.avg_abs, kde = False)"
   ]
  },
  {
   "cell_type": "code",
   "execution_count": null,
   "metadata": {
    "colab": {
     "base_uri": "https://localhost:8080/",
     "height": 296
    },
    "colab_type": "code",
    "id": "m9iWkFh29csP",
    "outputId": "031ae55a-a6f2-44fa-d4f7-72c508a01625"
   },
   "outputs": [
    {
     "data": {
      "text/plain": [
       "<matplotlib.axes._subplots.AxesSubplot at 0x7f1aade5a048>"
      ]
     },
     "execution_count": 105,
     "metadata": {
      "tags": []
     },
     "output_type": "execute_result"
    },
    {
     "data": {
      "image/png": "[encoded data removed]",
      "text/plain": [
       "<Figure size 432x288 with 1 Axes>"
      ]
     },
     "metadata": {
      "needs_background": "light",
      "tags": []
     },
     "output_type": "display_data"
    }
   ],
   "source": [
    "sns.distplot(measurement_df.avg, kde = False)"
   ]
  },
  {
   "cell_type": "code",
   "execution_count": null,
   "metadata": {
    "colab": {
     "base_uri": "https://localhost:8080/",
     "height": 34
    },
    "colab_type": "code",
    "id": "yt3I3Lqo-JoB",
    "outputId": "16f34581-a0ad-42b3-9b74-173bb38c0020"
   },
   "outputs": [
    {
     "name": "stdout",
     "output_type": "stream",
     "text": [
      "[MRD1] Number measurement with greater than 0.4 mm error: 4 (out of 50)\n"
     ]
    }
   ],
   "source": [
    "print('[MRD1] Number measurement with greater than 0.4 mm error:', sum(abs(measurement_df.avg) > 0.4), '(out of', \\\n",
    "        str(measurement_df.shape[0]) + ')')"
   ]
  },
  {
   "cell_type": "code",
   "execution_count": null,
   "metadata": {
    "colab": {
     "base_uri": "https://localhost:8080/",
     "height": 34
    },
    "colab_type": "code",
    "id": "SrQvCY6j-NZJ",
    "outputId": "0a098b9c-59b3-4968-983a-25ede3b80463"
   },
   "outputs": [
    {
     "name": "stdout",
     "output_type": "stream",
     "text": [
      "[MRD1] Number measurement with greater than 0.3 mm error: 6 (out of 50)\n"
     ]
    }
   ],
   "source": [
    "print('[MRD1] Number measurement with greater than 0.3 mm error:', sum(abs(measurement_df.avg) > 0.3), '(out of', \\\n",
    "        str(measurement_df.shape[0]) + ')')"
   ]
  },
  {
   "cell_type": "code",
   "execution_count": null,
   "metadata": {
    "colab": {},
    "colab_type": "code",
    "id": "XgX6rm80DRKQ"
   },
   "outputs": [],
   "source": [
    "measurement_df.to_csv('Summary_comparison_mrd1.csv', index = False)"
   ]
  },
  {
   "cell_type": "code",
   "execution_count": null,
   "metadata": {
    "colab": {},
    "colab_type": "code",
    "id": "ZNrw6QlpDUzu"
   },
   "outputs": [],
   "source": []
  }
 ],
 "metadata": {
  "colab": {
   "collapsed_sections": [
    "YR_6p_7aOPJm",
    "A5SXdEkxOPJp",
    "9-p3N69uOPJw",
    "91bweE4jOPKD",
    "BV51yZc9OPKG",
    "gopuzkcLOPKm",
    "LuHdqnM-OPKx",
    "iUYEiyKvOPK0",
    "th_CxCWeOPLI",
    "06FyqmkxOPLk",
    "_zi-YrCA7ySo"
   ],
   "name": "[Latest] eyelid_proj.ipynb",
   "provenance": [],
   "toc_visible": true
  },
  "kernelspec": {
   "display_name": "Python 3",
   "language": "python",
   "name": "python3"
  },
  "language_info": {
   "codemirror_mode": {
    "name": "ipython",
    "version": 3
   },
   "file_extension": ".py",
   "mimetype": "text/x-python",
   "name": "python",
   "nbconvert_exporter": "python",
   "pygments_lexer": "ipython3",
   "version": "3.8.3"
  },
  "toc": {
   "base_numbering": 1,
   "nav_menu": {},
   "number_sections": true,
   "sideBar": true,
   "skip_h1_title": false,
   "title_cell": "Table of Contents",
   "title_sidebar": "Contents",
   "toc_cell": false,
   "toc_position": {},
   "toc_section_display": true,
   "toc_window_display": false
  }
 },
 "nbformat": 4,
 "nbformat_minor": 1
}
